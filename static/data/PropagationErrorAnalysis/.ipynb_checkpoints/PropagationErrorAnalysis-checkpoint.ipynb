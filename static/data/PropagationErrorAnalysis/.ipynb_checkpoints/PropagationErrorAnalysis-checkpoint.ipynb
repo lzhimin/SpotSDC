{
 "cells": [
  {
   "cell_type": "markdown",
   "metadata": {},
   "source": [
    "# Measure how the error propagate through the program is a chanllenge problem\n",
    "\n",
    "## How to trace the error propagate through the program.\n",
    "\n",
    "## Error in different location has different meaning how to define them under same space."
   ]
  },
  {
   "cell_type": "code",
   "execution_count": 1,
   "metadata": {
    "collapsed": true
   },
   "outputs": [],
   "source": [
    "import random\n",
    "import numpy as np\n",
    "import seaborn as sns\n",
    "import matplotlib.pyplot as plt\n",
    "import pandas as pd\n",
    "import math"
   ]
  },
  {
   "cell_type": "code",
   "execution_count": 2,
   "metadata": {
    "collapsed": false
   },
   "outputs": [],
   "source": [
    "with open('appstate_golden.log') as f:\n",
    "    golden = f.readlines()\n",
    "    \n",
    "#masked case\n",
    "with open('appstate_17523.log') as f:\n",
    "    masked_case = f.readlines()\n",
    "    \n",
    "#SDC case\n",
    "with open('appstate_16246.log') as f:\n",
    "    sdc_case = f.readlines()"
   ]
  },
  {
   "cell_type": "markdown",
   "metadata": {},
   "source": [
    "## Absolute Error and Relative Error in SDC and Masked Run"
   ]
  },
  {
   "cell_type": "code",
   "execution_count": 12,
   "metadata": {
    "collapsed": false,
    "scrolled": true
   },
   "outputs": [
    {
     "ename": "SyntaxError",
     "evalue": "invalid syntax (<ipython-input-12-9e91cd6aedbd>, line 48)",
     "output_type": "error",
     "traceback": [
      "\u001b[0;36m  File \u001b[0;32m\"<ipython-input-12-9e91cd6aedbd>\"\u001b[0;36m, line \u001b[0;32m48\u001b[0m\n\u001b[0;31m    #plt.show()\u001b[0m\n\u001b[0m               ^\u001b[0m\n\u001b[0;31mSyntaxError\u001b[0m\u001b[0;31m:\u001b[0m invalid syntax\n"
     ]
    }
   ],
   "source": [
    "masked_absolute_error = []\n",
    "masked_relative_error = []\n",
    "sdc_absolute_error = []\n",
    "sdc_relative_error = []\n",
    "\n",
    "for i in range(len(golden)):\n",
    "    g = golden[i].strip('\\n\\r ').split(' ')\n",
    "    m = masked_case[i].strip('\\n\\r ').split(' ')\n",
    "    s = sdc_case[i].strip('\\n\\r ').split(' ')\n",
    "    \n",
    "    \n",
    "    if float(g[-1]) != float(m[-1]):\n",
    "        masked_absolute_error.append(math.log(abs(float(g[-1]) - float(m[-1]))))\n",
    "        sdc_absolute_error.append(math.log(abs(float(g[-1]) - float(s[-1]))))\n",
    "    else:\n",
    "        masked_absolute_error.append(abs(float(g[-1]) - float(m[-1])))\n",
    "        sdc_absolute_error.append(abs(float(g[-1]) - float(s[-1])))\n",
    "    \n",
    "    if float(g[-1]) != 0:\n",
    "        if (float(m[-1]) - float(g[-1])) == 0:\n",
    "            masked_relative_error.append(0)\n",
    "        else:\n",
    "            masked_relative_error.append((float(m[-1]) - float(g[-1])/float(g[-1]))\n",
    "#        if (float(s[-1]) - float(g[-1]))==0:\n",
    "#            sdc_relative_error.append(0)\n",
    "#        else:\n",
    "#            sdc_relative_error.append(math.log(abs((float(s[-1]) - float(g[-1]))/float(g[-1]))))\n",
    "#    else:\n",
    "#        masked_relative_error.append(float(m[-1]))\n",
    "#        sdc_relative_error.append(float(s[-1]))\n",
    "\n",
    "#plt.subplot(221)\n",
    "#plt.plot(range(len(golden)), masked_relative_error)\n",
    "#plt.title('masked relative error')\n",
    "\n",
    "#plt.subplot(222)\n",
    "#plt.plot(range(len(golden)), masked_absolute_error)\n",
    "#plt.title('masked absolute error')\n",
    "#plt.show()\n",
    "\n",
    "#plt.subplot(223)\n",
    "#plt.plot(range(len(golden)), sdc_relative_error)\n",
    "#plt.title('sdc relative error')\n",
    "\n",
    "#plt.subplot(224)\n",
    "#plt.plot(range(len(golden)), sdc_absolute_error)\n",
    "#plt.title('sdc absolute error')\n",
    "#plt.show()"
   ]
  },
  {
   "cell_type": "code",
   "execution_count": null,
   "metadata": {
    "collapsed": true
   },
   "outputs": [],
   "source": []
  },
  {
   "cell_type": "markdown",
   "metadata": {},
   "source": [
    "## Different Variables' Absolute Error and Relative Error in SDC and Masked Run"
   ]
  },
  {
   "cell_type": "code",
   "execution_count": 5,
   "metadata": {
    "collapsed": false
   },
   "outputs": [],
   "source": [
    "masked_absolute_error = {}\n",
    "masked_relative_error = {}\n",
    "sdc_absolute_error = {}\n",
    "sdc_relative_error = {}\n",
    "\n",
    "\n",
    "\n",
    "for i in range(len(golden)):\n",
    "    g = golden[i].strip('\\n\\r ').split(' ')\n",
    "    linename = g[1] + g[2]\n",
    "    \n",
    "    if linename not in masked_absolute_error:\n",
    "        masked_absolute_error[linename] = [[0,0]]\n",
    "        masked_relative_error[linename] = [[0,0]]\n",
    "        sdc_absolute_error[linename] = [[0,0]]\n",
    "        sdc_relative_error[linename] = [[0,0]]\n",
    "    \n",
    "    \n",
    "\n",
    "for i in range(len(golden)):\n",
    "    g = golden[i].strip('\\n\\r ').split(' ')\n",
    "    m = masked_case[i].strip('\\n\\r ').split(' ')\n",
    "    s = sdc_case[i].strip('\\n\\r ').split(' ')\n",
    "    linename = g[1]+g[2]\n",
    "    \n",
    "    \n",
    "    for key in masked_absolute_error.keys():\n",
    "        if key != linename:\n",
    "            l = len(masked_absolute_error[linename])-1 \n",
    "            masked_absolute_error[linename].append([masked_absolute_error[linename][l][0], i])\n",
    "            masked_relative_error[linename].append([masked_relative_error[linename][l][0], i])\n",
    "            sdc_absolute_error[linename].append([sdc_absolute_error[linename][l][0], i])\n",
    "            sdc_relative_error[linename].append([sdc_relative_error[linename][l][0], i])\n",
    "    \n",
    "    masked_absolute_error[linename].append([abs(float(g[-1]) - float(m[-1])), i])\n",
    "    sdc_absolute_error[linename].append([abs(float(g[-1]) - float(s[-1])), i])\n",
    "    \n",
    "    if float(g[-1])!=0:\n",
    "        masked_relative_error[linename].append([abs(float(g[-1])/float(m[-1])), i])\n",
    "        sdc_relative_error[linename].append([abs(float(g[-1])/float(s[-1])), i])\n",
    "    else:\n",
    "        masked_relative_error[linename].append([float(m[-1]), i])\n",
    "        sdc_relative_error[linename].append([float(s[-1]), i])"
   ]
  },
  {
   "cell_type": "code",
   "execution_count": 6,
   "metadata": {
    "collapsed": false
   },
   "outputs": [
    {
     "name": "stdout",
     "output_type": "stream",
     "text": [
      "['75rtrans', '87normr', '84beta', '25Ap', '167A', '76normr', '33r', '48sum', '57sum', '90p_ap_dot', '82oldrtrans', '83rtrans', '175b', '40y', '91alpha']\n"
     ]
    }
   ],
   "source": [
    "var_keys = masked_relative_error.keys()\n",
    "#print np.array(masked_relative_error[var_keys[1]])[:,1]\n",
    "print var_keys"
   ]
  },
  {
   "cell_type": "code",
   "execution_count": 7,
   "metadata": {
    "collapsed": false
   },
   "outputs": [
    {
     "data": {
      "image/png": "[encoded data removed]",
      "text/plain": [
       "<matplotlib.figure.Figure at 0x11e63aad0>"
      ]
     },
     "metadata": {},
     "output_type": "display_data"
    }
   ],
   "source": [
    "#var_keys[0]\n",
    "plt.subplot(221)\n",
    "for key in var_keys:\n",
    "    var = np.array(masked_absolute_error[key])\n",
    "    plt.plot(var[:,1], var[:,0])\n",
    "plt.title('masked absolute error')\n",
    "   \n",
    "plt.subplot(222)\n",
    "for key in var_keys:\n",
    "    var = np.array(masked_relative_error[key])\n",
    "    plt.plot(var[:,1], var[:,0])\n",
    "    \n",
    "plt.title('masked relative error')\n",
    "\n",
    "\n",
    "#plt.subplot(233)\n",
    "#for key in var_keys:\n",
    "#    var = np.array(masked_absolute_error[key])\n",
    "#    plt.plot(var[:,1], var[:,0]/(np.max(var[:,0]) - np.min(var[:,0])))\n",
    "    \n",
    "#plt.title('masked norm error')\n",
    "\n",
    "\n",
    "plt.subplot(223)\n",
    "for key in var_keys:\n",
    "    var = np.array(sdc_absolute_error[key])\n",
    "    plt.plot(var[:,1], var[:,0])\n",
    "plt.title('SDC absolute error')\n",
    "\n",
    "\n",
    "plt.subplot(224)\n",
    "for key in var_keys:\n",
    "    var = np.array(sdc_relative_error[key])\n",
    "    plt.plot(var[:,1], var[:,0])\n",
    "plt.title('SDC relative error')\n",
    "\n",
    "\n",
    "#plt.subplot(236)\n",
    "#for key in var_keys:\n",
    "#    var = np.array(sdc_absolute_error[key])\n",
    "#    plt.plot(var[:,1], var[:,0]/(np.max(var[:,0]) - np.min(var[:,0])))\n",
    "    \n",
    "#plt.title('SDC norm error')\n",
    "plt.show()"
   ]
  },
  {
   "cell_type": "markdown",
   "metadata": {},
   "source": [
    "Absolute Error $$|golden_{var} - error_{var}|$$\n",
    "\n",
    "Relative Error  $$|\\frac{golden_{var}}{error_{var}}|$$\n",
    "\n",
    "Normalize Error $$\\frac{|golden_{var} - error_{var}|}{MAXerror_{var}}$$\n"
   ]
  },
  {
   "cell_type": "code",
   "execution_count": null,
   "metadata": {
    "collapsed": true
   },
   "outputs": [],
   "source": []
  }
 ],
 "metadata": {
  "kernelspec": {
   "display_name": "Python 2",
   "language": "python",
   "name": "python2"
  },
  "language_info": {
   "codemirror_mode": {
    "name": "ipython",
    "version": 2
   },
   "file_extension": ".py",
   "mimetype": "text/x-python",
   "name": "python",
   "nbconvert_exporter": "python",
   "pygments_lexer": "ipython2",
   "version": "2.7.13"
  }
 },
 "nbformat": 4,
 "nbformat_minor": 2
}
