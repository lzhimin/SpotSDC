{
 "cells": [
  {
   "cell_type": "markdown",
   "metadata": {},
   "source": [
    "# SDC Ratio and SDC Impact\n",
    "\n",
    "SDC ratio is a stable metrics. If fault injection campaign sample the same program many time and calculate the SDC ratio, for each campaign the SDC ratio will be the same.\n",
    "\n",
    "SDC Impact is a unstable metrics. For each fault injection campaign program's expected SDC impact may change a lot."
   ]
  },
  {
   "cell_type": "code",
   "execution_count": 1,
   "metadata": {
    "collapsed": true
   },
   "outputs": [],
   "source": [
    "import random\n",
    "import numpy as np\n",
    "import seaborn as sns\n",
    "import matplotlib.pyplot as plt\n",
    "import pandas as pd\n",
    "import math"
   ]
  },
  {
   "cell_type": "code",
   "execution_count": 2,
   "metadata": {
    "collapsed": false
   },
   "outputs": [],
   "source": [
    "#cg_df = pd.read_csv(\"cg_complete.csv\")\n",
    "cg_df = pd.read_csv(\"fft_exhaust.csv\")\n",
    "highbit_dataset = cg_df[cg_df.bit > 32]"
   ]
  },
  {
   "cell_type": "code",
   "execution_count": 11,
   "metadata": {
    "collapsed": false
   },
   "outputs": [],
   "source": [
    "def calculateSDCFrequency(df, line):\n",
    "    temp = df[df.Line == line]\n",
    "    numberOfSDC = len(temp[temp.outcome == \"SDC\"])\n",
    "    \n",
    "    return numberOfSDC\n",
    "\n",
    "def calculateSDCratio(df, line, rescale_ratio=1):\n",
    "    temp = df[df.Line == line]\n",
    "    numberOfFaultInjection = len(temp)\n",
    "    numberOfSDC = len(temp[temp.outcome == \"SDC\"])\n",
    "\n",
    "    if numberOfFaultInjection is not 0: \n",
    "        return float(numberOfSDC)/numberOfFaultInjection * rescale_ratio\n",
    "    else:\n",
    "        return 0\n",
    "    \n",
    "def calculateExpectedSDCImpact(df, line):\n",
    "    temp = df[df.Line == line]\n",
    "    temp = temp[temp.outcome == \"SDC\"]\n",
    "    temp = temp[temp.diffnormr != float(\"inf\")]\n",
    "    \n",
    "    if len(temp) == 0:\n",
    "        return 0\n",
    "    else:\n",
    "        temp = temp.diffnormr.abs()/temp.out_xor.abs()\n",
    "    \n",
    "    #temp = temp[temp != float(\"inf\")]\n",
    "    #temp = temp[temp != float(\"nan\")]\n",
    "\n",
    "    \n",
    "    #if line == 167:\n",
    "    #    print temp\n",
    "    return np.mean(temp)\n",
    "\n",
    "def sampleFunction(dataset, sample_size):\n",
    "    return dataset.sample(n=sample_size)\n",
    "\n",
    "each_line_sdc_ratio_distribution_random = {}\n",
    "each_line_sdc_ratio_distribution_hightbit = {}\n",
    "\n",
    "each_line_sdc_fre_distribution_random = {}\n",
    "each_line_sdc_fre_distribution_hightbit = {}\n",
    "\n",
    "each_line_expected_sdc_impact_distribution_random = {}\n",
    "each_line_expected_sdc_impact_distribution_highbit= {}\n",
    "\n",
    "\n",
    "\n",
    "for i in range(100):\n",
    "    highbit_sample = sampleFunction(highbit_dataset, 5000)\n",
    "    random_sample = sampleFunction(cg_df, 10000)\n",
    "    for line in cg_df.Line.unique():\n",
    "        if line not in each_line_sdc_ratio_distribution_random:\n",
    "            \n",
    "            #SDC frequency\n",
    "            each_line_sdc_fre_distribution_random[line] = []\n",
    "            each_line_sdc_fre_distribution_hightbit[line] = []\n",
    "            \n",
    "            #SDC ratio\n",
    "            each_line_sdc_ratio_distribution_random[line] = []\n",
    "            each_line_sdc_ratio_distribution_hightbit[line] = []\n",
    "            \n",
    "            #SDC impact\n",
    "            each_line_expected_sdc_impact_distribution_random[line] = []\n",
    "            each_line_expected_sdc_impact_distribution_highbit[line] = []\n",
    "            \n",
    "        #SDC frequency\n",
    "        each_line_sdc_fre_distribution_random[line].append(calculateSDCFrequency(random_sample, line))\n",
    "        each_line_sdc_fre_distribution_random[line].append(calculateSDCFrequency(highbit_sample, line))\n",
    "        \n",
    "        #SDC ratio\n",
    "        each_line_sdc_ratio_distribution_random[line].append(calculateSDCratio(random_sample, line))\n",
    "        each_line_sdc_ratio_distribution_hightbit[line].append(calculateSDCratio(highbit_sample, line) * 32.0/64)\n",
    "        \n",
    "        #SDC impact\n",
    "        each_line_expected_sdc_impact_distribution_random[line].append(calculateExpectedSDCImpact(random_sample, line))\n",
    "        each_line_expected_sdc_impact_distribution_highbit[line].append(calculateExpectedSDCImpact(highbit_sample, line))\n",
    "\n",
    "#print each_line_expected_sdc_impact_distribution_highbit\n",
    "#print each_line_expected_sdc_impact_distribution_random\n",
    "#for line in cg_df.Line.unique():\n",
    "#    print line\n",
    "    #SDC frequency\n",
    "    #print \"SDC Fre random\", np.mean(each_line_sdc_fre_distribution_random[line]), np.var(each_line_sdc_fre_distribution_random[line])\n",
    "    #print \"SDC Fre highbit\", np.mean(each_line_sdc_fre_distribution_random[line]), np.var(each_line_sdc_fre_distribution_random[line])\n",
    "    \n",
    "    #SDC Ratio\n",
    "    #print \"SDC Ratio random\", np.mean(each_line_sdc_ratio_distribution_random[line]), np.var(each_line_sdc_ratio_distribution_random[line])\n",
    "    #print \"SDC Ratio highbit\", np.mean(each_line_sdc_ratio_distribution_hightbit[line]), np.var(each_line_sdc_ratio_distribution_hightbit[line])\n",
    "    \n",
    "    #SDC impact\n",
    "#    print \"SDC Impact random\", np.mean(each_line_expected_sdc_impact_distribution_random[line]), np.var(each_line_expected_sdc_impact_distribution_random[line])\n",
    "#    print \"SDC Impact highbit\", np.mean(each_line_expected_sdc_impact_distribution_highbit[line]), np.var(each_line_expected_sdc_impact_distribution_highbit[line])\n",
    "    "
   ]
  },
  {
   "cell_type": "code",
   "execution_count": 20,
   "metadata": {
    "collapsed": false
   },
   "outputs": [],
   "source": [
    "highbit_sample = sampleFunction(highbit_dataset, 5000)\n",
    "random_sample = sampleFunction(cg_df, 10000)\n",
    "\n",
    "\n",
    "#for line in cg_df.Line.unique():\n",
    "#    print line\n",
    "#    print np.mean(each_line_expected_sdc_impact_distribution_random[line])\n",
    "#    print np.mean(each_line_expected_sdc_impact_distribution_highbit[line])\n",
    "#    print \" \""
   ]
  },
  {
   "cell_type": "code",
   "execution_count": 21,
   "metadata": {
    "collapsed": false
   },
   "outputs": [
    {
     "data": {
      "text/plain": [
       "352974    1.484239e-13\n",
       "390814             inf\n",
       "510139    1.000000e+00\n",
       "31864     9.537847e-07\n",
       "373774    2.055237e-18\n",
       "440542    8.608898e-19\n",
       "5452      1.000000e+00\n",
       "397470    2.425322e-18\n",
       "228200    2.682257e-07\n",
       "365471    1.989500e-13\n",
       "180344    4.097311e-08\n",
       "135002    0.000000e+00\n",
       "73944     1.000000e+00\n",
       "193389    3.165008e-15\n",
       "351006    3.391958e-18\n",
       "532808    9.999999e-01\n",
       "304681    1.164083e-09\n",
       "434671    1.817271e-14\n",
       "439417    1.000000e+00\n",
       "394044    2.840000e-14\n",
       "130493    1.000000e+00\n",
       "145741    1.000000e+00\n",
       "273881    7.451443e-09\n",
       "186760    4.469555e-08\n",
       "529965    1.000000e+00\n",
       "195519    4.612417e-18\n",
       "295900    0.000000e+00\n",
       "372603    1.819200e-12\n",
       "368698    7.276800e-12\n",
       "186671    7.485559e-14\n",
       "              ...     \n",
       "529163    1.000000e+00\n",
       "372748    1.023200e-12\n",
       "444715    1.706000e-13\n",
       "408971    6.824000e-13\n",
       "383944    5.961155e-08\n",
       "360364    2.274000e-13\n",
       "116988    4.367360e-11\n",
       "107054    1.000000e+00\n",
       "177583    2.744537e-13\n",
       "341865    5.355110e-09\n",
       "401758    2.229031e-13\n",
       "150271             NaN\n",
       "183656    5.959844e-08\n",
       "431561    2.183680e-11\n",
       "201534    3.225742e-18\n",
       "8396      1.000000e+00\n",
       "450840    7.812501e-03\n",
       "189118    1.184310e-13\n",
       "83967              NaN\n",
       "517982    2.802222e-19\n",
       "66923     5.816320e-11\n",
       "19739              inf\n",
       "181005    5.988026e-14\n",
       "436313    1.746944e-10\n",
       "194111             NaN\n",
       "436300    1.066250e-14\n",
       "302991    7.618300e-14\n",
       "16397     1.000000e+00\n",
       "276319    7.481070e-14\n",
       "151322    2.910720e-11\n",
       "dtype: float64"
      ]
     },
     "execution_count": 21,
     "metadata": {},
     "output_type": "execute_result"
    }
   ],
   "source": [
    "highbit_sample.diffnormr.abs()/highbit_sample.out_xor.abs()"
   ]
  },
  {
   "cell_type": "code",
   "execution_count": null,
   "metadata": {
    "collapsed": true
   },
   "outputs": [],
   "source": []
  }
 ],
 "metadata": {
  "kernelspec": {
   "display_name": "Python 2",
   "language": "python",
   "name": "python2"
  },
  "language_info": {
   "codemirror_mode": {
    "name": "ipython",
    "version": 2
   },
   "file_extension": ".py",
   "mimetype": "text/x-python",
   "name": "python",
   "nbconvert_exporter": "python",
   "pygments_lexer": "ipython2",
   "version": "2.7.13"
  }
 },
 "nbformat": 4,
 "nbformat_minor": 2
}
