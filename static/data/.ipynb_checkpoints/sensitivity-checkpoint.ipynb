{
 "cells": [
  {
   "cell_type": "markdown",
   "metadata": {},
   "source": [
    "# Inject Error Distribution"
   ]
  },
  {
   "cell_type": "code",
   "execution_count": 5,
   "metadata": {
    "collapsed": true
   },
   "outputs": [],
   "source": [
    "import random\n",
    "import numpy as np\n",
    "import seaborn as sns\n",
    "import matplotlib.pyplot as plt\n",
    "import pandas as pd\n",
    "import math"
   ]
  },
  {
   "cell_type": "code",
   "execution_count": 6,
   "metadata": {
    "collapsed": false
   },
   "outputs": [],
   "source": [
    "dataset = []\n",
    "highbit_dataset = []\n",
    "allline = set()\n",
    "with open('cg_complete.csv') as f:\n",
    "    lines = f.readlines()\n",
    "\n",
    "attributes = lines.pop(0)    \n",
    "outcomeindex = attributes.strip('\\n\\t ').split(',').index('outcome')\n",
    " \n",
    "\n",
    "for line in lines:\n",
    "    line = line.strip('\\r\\n').split(',')\n",
    "    allline.add(line[2])\n",
    "    dataset.append(line)\n",
    "\n",
    "for d in dataset:\n",
    "    if float(d[-1]) > 40:\n",
    "        highbit_dataset.append(d)"
   ]
  },
  {
   "cell_type": "code",
   "execution_count": 7,
   "metadata": {
    "collapsed": false
   },
   "outputs": [
    {
     "name": "stdout",
     "output_type": "stream",
     "text": [
      "['25', '82', '48', '33', '57', '40', '76', '75', '83', '91', '90', '175', '167', '87', '84']\n"
     ]
    },
    {
     "data": {
      "image/png": "[encoded data removed]",
      "text/plain": [
       "<matplotlib.figure.Figure at 0x1242d8210>"
      ]
     },
     "metadata": {},
     "output_type": "display_data"
    }
   ],
   "source": [
    "input_error = {}\n",
    "log_input_error = {}\n",
    "numebrOfNaN = 0\n",
    "numberOfInf = 0\n",
    "numberOfZero = 0\n",
    "\n",
    "line_num = '84'\n",
    "\n",
    "for item in dataset:\n",
    "    out_xor = abs(float(item[5]))\n",
    "    \n",
    "    if item[2] not in input_error:\n",
    "        input_error[item[2]] = []\n",
    "        log_input_error[item[2]] = []\n",
    "    \n",
    "    #some inject error is NAN\n",
    "    if math.isnan(out_xor):\n",
    "        numebrOfNaN = numebrOfNaN + 1\n",
    "        continue\n",
    "    \n",
    "    #some inject error is Inf\n",
    "    if math.isinf(out_xor):\n",
    "        numberOfInf = numberOfInf + 1\n",
    "        continue\n",
    "    \n",
    "    if out_xor == 0:\n",
    "        numberOfZero = numberOfZero + 1\n",
    "        continue\n",
    "        \n",
    "    input_error[item[2]].append(out_xor)\n",
    "\n",
    "print input_error.keys()\n",
    "# inject error's maximum and minimum\n",
    "MAX_out_xor = np.max(input_error[line_num])\n",
    "MIN_out_xor = np.min(input_error[line_num])\n",
    "     \n",
    "for item in dataset:\n",
    "    out_xor = abs(float(item[4]))\n",
    "    if out_xor == 0:\n",
    "        log_input_error[item[2]].append(math.log(MIN_out_xor))\n",
    "    elif math.isnan(out_xor):\n",
    "        continue\n",
    "    else:\n",
    "        log_input_error[item[2]].append(math.log(out_xor))\n",
    "    \n",
    "#np.histogram(log_input_error)\n",
    "plt.hist(log_input_error[line_num], bins='auto')\n",
    "plt.show()"
   ]
  },
  {
   "cell_type": "markdown",
   "metadata": {},
   "source": [
    "# Output Error Distribution"
   ]
  },
  {
   "cell_type": "code",
   "execution_count": 8,
   "metadata": {
    "collapsed": false
   },
   "outputs": [
    {
     "data": {
      "image/png": "[encoded data removed]",
      "text/plain": [
       "<matplotlib.figure.Figure at 0x113f2fed0>"
      ]
     },
     "metadata": {},
     "output_type": "display_data"
    }
   ],
   "source": [
    "output_error = []\n",
    "log_output_error = []\n",
    "numebrOfNaN = 0\n",
    "numberOfInf = 0\n",
    "numberOfZero = 0\n",
    "\n",
    "for item in dataset:\n",
    "    output = abs(float(item[6]))\n",
    "    #some inject error is NAN\n",
    "    if math.isnan(output):\n",
    "        numebrOfNaN = numebrOfNaN + 1\n",
    "        continue\n",
    "    \n",
    "    #some inject error is Inf\n",
    "    if math.isinf(output):\n",
    "        numberOfInf = numberOfInf + 1\n",
    "        continue\n",
    "    \n",
    "    if output == 0:\n",
    "        numberOfZero = numberOfZero + 1\n",
    "        continue\n",
    "        \n",
    "    output_error.append(output)\n",
    "\n",
    "# inject error's maximum and minimum\n",
    "MAX_output_error = np.max(output_error)\n",
    "MIN_output_error = np.min(output_error)\n",
    "    \n",
    "\n",
    "outputdoubleNorm = 0\n",
    "\n",
    "for item in dataset:\n",
    "    output = abs(float(item[6]))\n",
    "    \n",
    "    if output > 0.1:\n",
    "        outputdoubleNorm = outputdoubleNorm + 1\n",
    "    \n",
    "    if output == 0:\n",
    "        log_output_error.append(math.log(MIN_output_error))\n",
    "    elif math.isnan(output):\n",
    "        continue\n",
    "    elif math.isinf(output):\n",
    "        log_output_error.append(math.log(MAX_output_error))\n",
    "    else:\n",
    "        log_output_error.append(math.log(output))\n",
    "    \n",
    "plt.hist(log_output_error, bins='auto')\n",
    "plt.show()"
   ]
  },
  {
   "cell_type": "code",
   "execution_count": null,
   "metadata": {
    "collapsed": true
   },
   "outputs": [],
   "source": []
  }
 ],
 "metadata": {
  "kernelspec": {
   "display_name": "Python 2",
   "language": "python",
   "name": "python2"
  },
  "language_info": {
   "codemirror_mode": {
    "name": "ipython",
    "version": 2
   },
   "file_extension": ".py",
   "mimetype": "text/x-python",
   "name": "python",
   "nbconvert_exporter": "python",
   "pygments_lexer": "ipython2",
   "version": "2.7.13"
  }
 },
 "nbformat": 4,
 "nbformat_minor": 2
}
