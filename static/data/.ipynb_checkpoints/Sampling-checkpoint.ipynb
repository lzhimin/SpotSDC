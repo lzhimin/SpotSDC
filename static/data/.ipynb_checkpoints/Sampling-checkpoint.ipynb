{
 "cells": [
  {
   "cell_type": "markdown",
   "metadata": {},
   "source": [
    "# Sampling Problem"
   ]
  },
  {
   "cell_type": "markdown",
   "metadata": {},
   "source": [
    "Understanding a program's resilence characterisitc usually need to a lot of fault injection experiments to test the program's multiple region. However, the potential fault injection location are tremendous which is almost impossible test all of them. A reasonable sampling strategy, which get a small fraction of the data but get better understanding,  are necessary to develop. \n",
    "\n",
    "Previous experiment teach us, low mantissa bit have less impact compare to high mantissa bit and exponent bit. In this study, we propose a sampling strategy which extract small fraction of the sample from low mantissa bit and large fraction from the high mantissa and exponent bit. \n",
    "\n",
    "Our experiment shows that our sampling strategy have similar result with the grand truth. Compare to the random sampling, our method have low standard deviation.\n",
    "\n",
    "\n",
    "1. what is the edge between high bit and low bit. 24/64\n",
    "2. what's the percentage come from low bit, what's the percentage come from high bit\n"
   ]
  },
  {
   "cell_type": "code",
   "execution_count": 2,
   "metadata": {
    "collapsed": true
   },
   "outputs": [],
   "source": [
    "import random\n",
    "import numpy as np\n",
    "import seaborn as sns\n",
    "import matplotlib.pyplot as plt\n",
    "import pandas as pd\n",
    "import math"
   ]
  },
  {
   "cell_type": "code",
   "execution_count": 9,
   "metadata": {
    "collapsed": false
   },
   "outputs": [
    {
     "name": "stdout",
     "output_type": "stream",
     "text": [
      "File_index,Function,Line,Variable,out_xor,out_xor_relative,diffnormr,outcome,bit\r\n",
      "\n"
     ]
    },
    {
     "ename": "KeyError",
     "evalue": "'8.53e-14'",
     "output_type": "error",
     "traceback": [
      "\u001b[0;31m---------------------------------------\u001b[0m",
      "\u001b[0;31mKeyError\u001b[0mTraceback (most recent call last)",
      "\u001b[0;32m<ipython-input-9-98099cc65442>\u001b[0m in \u001b[0;36m<module>\u001b[0;34m()\u001b[0m\n\u001b[1;32m     95\u001b[0m     \u001b[0msample_highbit\u001b[0m \u001b[0;34m=\u001b[0m \u001b[0msampling\u001b[0m\u001b[0;34m(\u001b[0m\u001b[0mhighbit_dataset\u001b[0m\u001b[0;34m)\u001b[0m\u001b[0;34m\u001b[0m\u001b[0m\n\u001b[1;32m     96\u001b[0m \u001b[0;34m\u001b[0m\u001b[0m\n\u001b[0;32m---> 97\u001b[0;31m     \u001b[0msdc_global_exhaust\u001b[0m\u001b[0;34m.\u001b[0m\u001b[0mappend\u001b[0m\u001b[0;34m(\u001b[0m\u001b[0mcalculate_SDC_ratio\u001b[0m\u001b[0;34m(\u001b[0m\u001b[0msample_exhaust\u001b[0m\u001b[0;34m)\u001b[0m\u001b[0;34m)\u001b[0m\u001b[0;34m\u001b[0m\u001b[0m\n\u001b[0m\u001b[1;32m     98\u001b[0m     \u001b[0msdc_global_highbit\u001b[0m\u001b[0;34m.\u001b[0m\u001b[0mappend\u001b[0m\u001b[0;34m(\u001b[0m\u001b[0mcalculate_SDC_ratio\u001b[0m\u001b[0;34m(\u001b[0m\u001b[0msample_highbit\u001b[0m\u001b[0;34m,\u001b[0m \u001b[0;36m12.0\u001b[0m\u001b[0;34m/\u001b[0m\u001b[0;36m64\u001b[0m\u001b[0;34m)\u001b[0m\u001b[0;34m)\u001b[0m\u001b[0;34m\u001b[0m\u001b[0m\n\u001b[1;32m     99\u001b[0m \u001b[0;34m\u001b[0m\u001b[0m\n",
      "\u001b[0;32m<ipython-input-9-98099cc65442>\u001b[0m in \u001b[0;36mcalculate_SDC_ratio\u001b[0;34m(data, ratio)\u001b[0m\n\u001b[1;32m     21\u001b[0m     \u001b[0mdataset\u001b[0m \u001b[0;34m=\u001b[0m \u001b[0;34m{\u001b[0m\u001b[0;34m'Masked'\u001b[0m\u001b[0;34m:\u001b[0m\u001b[0;36m0.0\u001b[0m\u001b[0;34m,\u001b[0m \u001b[0;34m'SDC'\u001b[0m\u001b[0;34m:\u001b[0m\u001b[0;36m0.0\u001b[0m\u001b[0;34m,\u001b[0m \u001b[0;34m'DUE'\u001b[0m\u001b[0;34m:\u001b[0m\u001b[0;36m0.0\u001b[0m\u001b[0;34m}\u001b[0m\u001b[0;34m\u001b[0m\u001b[0m\n\u001b[1;32m     22\u001b[0m     \u001b[0;32mfor\u001b[0m \u001b[0md\u001b[0m \u001b[0;32min\u001b[0m \u001b[0mdata\u001b[0m\u001b[0;34m:\u001b[0m\u001b[0;34m\u001b[0m\u001b[0m\n\u001b[0;32m---> 23\u001b[0;31m         \u001b[0mdataset\u001b[0m\u001b[0;34m[\u001b[0m\u001b[0md\u001b[0m\u001b[0;34m[\u001b[0m\u001b[0;34m-\u001b[0m\u001b[0;36m3\u001b[0m\u001b[0;34m]\u001b[0m\u001b[0;34m]\u001b[0m \u001b[0;34m+=\u001b[0m \u001b[0;36m1\u001b[0m\u001b[0;34m\u001b[0m\u001b[0m\n\u001b[0m\u001b[1;32m     24\u001b[0m     \u001b[0;32mreturn\u001b[0m \u001b[0mdataset\u001b[0m\u001b[0;34m[\u001b[0m\u001b[0;34m'SDC'\u001b[0m\u001b[0;34m]\u001b[0m\u001b[0;34m/\u001b[0m\u001b[0;34m(\u001b[0m\u001b[0mdataset\u001b[0m\u001b[0;34m[\u001b[0m\u001b[0;34m'SDC'\u001b[0m\u001b[0;34m]\u001b[0m \u001b[0;34m+\u001b[0m \u001b[0mdataset\u001b[0m\u001b[0;34m[\u001b[0m\u001b[0;34m'Masked'\u001b[0m\u001b[0;34m]\u001b[0m \u001b[0;34m+\u001b[0m \u001b[0mdataset\u001b[0m\u001b[0;34m[\u001b[0m\u001b[0;34m'DUE'\u001b[0m\u001b[0;34m]\u001b[0m\u001b[0;34m)\u001b[0m \u001b[0;34m*\u001b[0m \u001b[0mratio\u001b[0m\u001b[0;34m\u001b[0m\u001b[0m\n\u001b[1;32m     25\u001b[0m \u001b[0;34m\u001b[0m\u001b[0m\n",
      "\u001b[0;31mKeyError\u001b[0m: '8.53e-14'"
     ]
    }
   ],
   "source": [
    "dataset = []\n",
    "highbit_dataset = []\n",
    "allline = set()\n",
    "\n",
    "with open('fft_exhaust.csv') as f:\n",
    "    lines = f.readlines()\n",
    "outcomeindex = lines.pop(0).strip('\\n\\t ').split(',').index('outcome')\n",
    " \n",
    "\n",
    "for line in lines:\n",
    "    line = line.strip('\\r\\n').split(',')\n",
    "    allline.add(line[2])\n",
    "    dataset.append(line)\n",
    "\n",
    "for d in dataset:\n",
    "    if float(d[-1]) > 51:\n",
    "        highbit_dataset.append(d)\n",
    "\n",
    "#calculate the sdc ratio base on the given data set\n",
    "def calculate_SDC_ratio(data, ratio = 1.0):\n",
    "    dataset = {'Masked':0.0, 'SDC':0.0, 'DUE':0.0}\n",
    "    for d in data:\n",
    "        dataset[d[outcomeindex]] += 1 \n",
    "    return dataset['SDC']/(dataset['SDC'] + dataset['Masked'] + dataset['DUE']) * ratio\n",
    "    \n",
    "def calculate_SDC_Impact(data):\n",
    "    result = {}\n",
    "    for d in data:\n",
    "        if d[outcomeindex-1] != 'nan':\n",
    "            if d[2] in result:\n",
    "                result[d[2]].append(float(d[outcomeindex-1]))\n",
    "            else:\n",
    "                result[d[2]] = [float(d[outcomeindex-1])]\n",
    "    \n",
    "    for key in result:\n",
    "        result[key] = np.log(np.mean(result[key]))\n",
    "    \n",
    "    return result\n",
    "\n",
    "def calculate_SDC_ratio_local(data, ratio=1.0):\n",
    "    lines = {}\n",
    "    result = {}\n",
    "    \n",
    "    for d in data:\n",
    "        if d[2] in lines:\n",
    "            lines[d[2]][d[-3]] += 1\n",
    "        else:\n",
    "            lines[d[2]] = {'Masked':0.0, 'SDC':0.0, 'DUE':0.0}\n",
    "    \n",
    "    for key, value in lines.iteritems():\n",
    "        count = lines[key]['Masked'] + lines[key]['SDC'] + lines[key]['DUE']\n",
    "        if count == 0:\n",
    "            result[key] = 0\n",
    "        else:\n",
    "            result[key] = lines[key]['SDC']/ count * ratio\n",
    "        \n",
    "    return result\n",
    "\n",
    "def sampling(data, sample_size =1000):\n",
    "    sample = []\n",
    "    data_size = len(data)\n",
    "    \n",
    "    for i in range(sample_size):\n",
    "        index = np.random.randint(data_size)\n",
    "        sample.append(data[index])\n",
    "    return sample\n",
    "\n",
    "def sampling_high_bit(data, sample_size = 1000):\n",
    "    sample = []\n",
    "    data_size = len(data)\n",
    "    \n",
    "    for i in range(sample_size):\n",
    "        index = np.random.randint(data_size)\n",
    "        sample.append(data[index])\n",
    "    return sample\n",
    "\n",
    "\n",
    "sdc_global_exhaust = []\n",
    "sdc_global_highbit = []\n",
    "\n",
    "sdc_local_exhaust = {}\n",
    "sdc_local_highbit = {}\n",
    "\n",
    "sdc_impact_exhaust = {}\n",
    "sdc_impact_highbit = {}\n",
    "\n",
    "for line in allline:\n",
    "    sdc_local_exhaust[line] = []\n",
    "    sdc_local_highbit[line] = []\n",
    "    sdc_impact_exhaust[line] = []\n",
    "    sdc_impact_highbit[line] = []\n",
    "\n",
    "for i in range(1000):\n",
    "    sample_exhaust = sampling(dataset)\n",
    "    sample_highbit = sampling(highbit_dataset)\n",
    "    \n",
    "    sdc_global_exhaust.append(calculate_SDC_ratio(sample_exhaust))\n",
    "    sdc_global_highbit.append(calculate_SDC_ratio(sample_highbit, 12.0/64))\n",
    "    \n",
    "    #sdc local\n",
    "    exhaust_item = calculate_SDC_ratio_local(sample_exhaust)\n",
    "    highbit_item = calculate_SDC_ratio_local(sample_highbit, 12.0/64)\n",
    "    \n",
    "    for key in exhaust_item:\n",
    "        sdc_local_exhaust[key].append(exhaust_item[key])\n",
    "    for key in highbit_item:\n",
    "        sdc_local_highbit[key].append(highbit_item[key])\n",
    "    \n",
    "    #sdc impact local\n",
    "    exhaust_item = calculate_SDC_Impact(sample_exhaust)\n",
    "    highbit_item = calculate_SDC_Impact(sample_highbit)\n",
    "\n",
    "    for key in exhaust_item:\n",
    "        sdc_impact_exhaust[key].append(exhaust_item[key])\n",
    "    for key in highbit_item:\n",
    "        sdc_impact_highbit[key].append(highbit_item[key])\n",
    "    \n",
    "#sample = sampling(dataset)\n",
    "#print calculate_SDC_ratio(dataset)\n",
    "#print calculate_SDC_ratio(sample)\n",
    "#print calculate_SDC_Impact(sample)\n",
    "#print calculate_SDC_ratio_local(sample)"
   ]
  },
  {
   "cell_type": "markdown",
   "metadata": {},
   "source": [
    "## Global SDC Ratio"
   ]
  },
  {
   "cell_type": "code",
   "execution_count": 6,
   "metadata": {
    "collapsed": false
   },
   "outputs": [
    {
     "name": "stdout",
     "output_type": "stream",
     "text": [
      "0.07904899999999998\n",
      "0.008440888519581337\n",
      "0.077989875\n",
      "0.002849328152718636\n"
     ]
    }
   ],
   "source": [
    "print np.mean(sdc_global_exhaust)\n",
    "print np.std(sdc_global_exhaust)\n",
    "\n",
    "print np.mean(sdc_global_highbit)\n",
    "print np.std(sdc_global_highbit)"
   ]
  },
  {
   "cell_type": "markdown",
   "metadata": {},
   "source": [
    "# SDC local ratio"
   ]
  },
  {
   "cell_type": "code",
   "execution_count": 7,
   "metadata": {
    "collapsed": false
   },
   "outputs": [
    {
     "name": "stdout",
     "output_type": "stream",
     "text": [
      "167    0.037456\n",
      "175    0.085120\n",
      "25     0.011401\n",
      "33     0.051002\n",
      "40     0.014717\n",
      "48     0.041675\n",
      "57     0.044482\n",
      "75     0.226124\n",
      "76     0.000000\n",
      "82     0.047205\n",
      "83     0.134252\n",
      "84     0.097334\n",
      "87     0.000000\n",
      "90     0.131542\n",
      "91     0.154981\n",
      "dtype: float64\n",
      "167    0.009968\n",
      "175    0.031547\n",
      "25     0.003921\n",
      "33     0.017535\n",
      "40     0.005978\n",
      "48     0.012120\n",
      "57     0.011682\n",
      "75     0.076034\n",
      "76     0.000000\n",
      "82     0.024258\n",
      "83     0.046543\n",
      "84     0.041934\n",
      "87     0.000000\n",
      "90     0.043095\n",
      "91     0.042404\n",
      "dtype: float64\n"
     ]
    },
    {
     "data": {
      "image/png": "[encoded data removed]",
      "text/plain": [
       "<matplotlib.figure.Figure at 0x121490f10>"
      ]
     },
     "metadata": {},
     "output_type": "display_data"
    },
    {
     "data": {
      "image/png": "[encoded data removed]",
      "text/plain": [
       "<matplotlib.figure.Figure at 0x121afa890>"
      ]
     },
     "metadata": {},
     "output_type": "display_data"
    },
    {
     "data": {
      "image/png": "[encoded data removed]",
      "text/plain": [
       "<matplotlib.figure.Figure at 0x1217f6990>"
      ]
     },
     "metadata": {},
     "output_type": "display_data"
    }
   ],
   "source": [
    "for key in sdc_local_exhaust:\n",
    "    while len(sdc_local_exhaust[key]) < 1000:\n",
    "        sdc_local_exhaust[key].append(0)\n",
    "    while len(sdc_local_highbit[key]) < 1000:\n",
    "        sdc_local_highbit[key].append(0)\n",
    "\n",
    "exhaust = pd.DataFrame.from_dict(sdc_local_exhaust)\n",
    "highbit = pd.DataFrame.from_dict(sdc_local_highbit)\n",
    "\n",
    "grandtruth = calculate_SDC_ratio_local(dataset)\n",
    "name = []\n",
    "values = []\n",
    "\n",
    "for key in sorted(grandtruth.iterkeys()):\n",
    "    name.append(key)\n",
    "    values.append(grandtruth[key])\n",
    "\n",
    "print exhaust.std()\n",
    "print highbit.std()\n",
    "plt.close()\n",
    "#plt.subplot(3, 1, 1)\n",
    "sns.stripplot(name, values)\n",
    "#plt.subplot(3, 1, 2)\n",
    "plt.figure()\n",
    "sns.boxplot(data=exhaust)\n",
    "#plt.subplot(3, 1, 3)\n",
    "plt.figure()\n",
    "sns.boxplot(data=highbit)\n",
    "#print sdc_local.keys()\n",
    "#print sdc\n",
    "#sns.boxplot(sdc_local.keys(), sdc_local.values())\n",
    "plt.show()\n"
   ]
  },
  {
   "cell_type": "markdown",
   "metadata": {},
   "source": [
    "# SDC Impact"
   ]
  },
  {
   "cell_type": "code",
   "execution_count": 8,
   "metadata": {
    "collapsed": false
   },
   "outputs": [
    {
     "ename": "NameError",
     "evalue": "name 'sdc_impact' is not defined",
     "output_type": "error",
     "traceback": [
      "\u001b[0;31m---------------------------------------------------------------------------\u001b[0m",
      "\u001b[0;31mNameError\u001b[0m                                 Traceback (most recent call last)",
      "\u001b[0;32m<ipython-input-8-c082a7e3a630>\u001b[0m in \u001b[0;36m<module>\u001b[0;34m()\u001b[0m\n\u001b[1;32m     19\u001b[0m \u001b[0;34m\u001b[0m\u001b[0m\n\u001b[1;32m     20\u001b[0m \u001b[0mplt\u001b[0m\u001b[0;34m.\u001b[0m\u001b[0mfigure\u001b[0m\u001b[0;34m(\u001b[0m\u001b[0;34m)\u001b[0m\u001b[0;34m\u001b[0m\u001b[0m\n\u001b[0;32m---> 21\u001b[0;31m \u001b[0mdataframe\u001b[0m \u001b[0;34m=\u001b[0m \u001b[0mpd\u001b[0m\u001b[0;34m.\u001b[0m\u001b[0mDataFrame\u001b[0m\u001b[0;34m.\u001b[0m\u001b[0mfrom_dict\u001b[0m\u001b[0;34m(\u001b[0m\u001b[0msdc_impact\u001b[0m\u001b[0;34m)\u001b[0m\u001b[0;34m\u001b[0m\u001b[0m\n\u001b[0m\u001b[1;32m     22\u001b[0m \u001b[0mplt\u001b[0m\u001b[0;34m.\u001b[0m\u001b[0mfigure\u001b[0m\u001b[0;34m(\u001b[0m\u001b[0;34m)\u001b[0m\u001b[0;34m\u001b[0m\u001b[0m\n\u001b[1;32m     23\u001b[0m \u001b[0msns\u001b[0m\u001b[0;34m.\u001b[0m\u001b[0mboxplot\u001b[0m\u001b[0;34m(\u001b[0m\u001b[0mdata\u001b[0m\u001b[0;34m=\u001b[0m\u001b[0mexhaust\u001b[0m\u001b[0;34m)\u001b[0m\u001b[0;34m\u001b[0m\u001b[0m\n",
      "\u001b[0;31mNameError\u001b[0m: name 'sdc_impact' is not defined"
     ]
    }
   ],
   "source": [
    "#print sdc_impact\n",
    "\n",
    "for key in sdc_impact_exhaust:\n",
    "    while len(sdc_impact_exhaust[key]) < 1000:\n",
    "        sdc_impact_exhaust[key].append(0)\n",
    "    while len(sdc_impact_highbit[key]) < 1000:\n",
    "        sdc_impact_highbit[key].append(0)\n",
    "        \n",
    "exhaust = pd.DataFrame.from_dict(sdc_impact_exhaust)\n",
    "highbit = pd.DataFrame.from_dict(sdc_impact_highbit)\n",
    "\n",
    "grandtruth = calculate_SDC_Impact(dataset)\n",
    "name = []\n",
    "values = []\n",
    "for k in sorted(grandtruth.iterkeys()):\n",
    "    name.append(k)\n",
    "    values.append(grandtruth[k])\n",
    "sns.stripplot(name, values)\n",
    "\n",
    "plt.figure()\n",
    "dataframe = pd.DataFrame.from_dict(sdc_impact)\n",
    "plt.figure()\n",
    "sns.boxplot(data=exhaust)\n",
    "#plt.subplot(3, 1, 3)\n",
    "plt.figure()\n",
    "sns.boxplot(data=highbit)\n",
    "plt.show()\n"
   ]
  },
  {
   "cell_type": "code",
   "execution_count": null,
   "metadata": {
    "collapsed": true
   },
   "outputs": [],
   "source": []
  }
 ],
 "metadata": {
  "kernelspec": {
   "display_name": "Python 2",
   "language": "python",
   "name": "python2"
  },
  "language_info": {
   "codemirror_mode": {
    "name": "ipython",
    "version": 2
   },
   "file_extension": ".py",
   "mimetype": "text/x-python",
   "name": "python",
   "nbconvert_exporter": "python",
   "pygments_lexer": "ipython2",
   "version": "2.7.13"
  }
 },
 "nbformat": 4,
 "nbformat_minor": 2
}
