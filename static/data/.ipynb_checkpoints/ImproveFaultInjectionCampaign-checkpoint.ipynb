{
 "cells": [
  {
   "cell_type": "markdown",
   "metadata": {},
   "source": [
    "# SDC Ratio and SDC Impact\n",
    "\n",
    "SDC ratio is a stable metrics. If fault injection campaign sample the same program many time and calculate the SDC ratio, for each campaign the SDC ratio will be the same.\n",
    "\n",
    "SDC Impact is a unstable metrics. For each fault injection campaign program's expected SDC impact may change a lot."
   ]
  },
  {
   "cell_type": "code",
   "execution_count": 1,
   "metadata": {
    "collapsed": true
   },
   "outputs": [],
   "source": [
    "import random\n",
    "import numpy as np\n",
    "import seaborn as sns\n",
    "import matplotlib.pyplot as plt\n",
    "import pandas as pd\n",
    "import math"
   ]
  },
  {
   "cell_type": "code",
   "execution_count": 2,
   "metadata": {
    "collapsed": false
   },
   "outputs": [],
   "source": [
    "#cg_df = pd.read_csv(\"cg_complete.csv\")\n",
    "cg_df = pd.read_csv(\"fft_exhaust.csv\")\n",
    "highbit_dataset = cg_df[cg_df.bit > 32]"
   ]
  },
  {
   "cell_type": "code",
   "execution_count": 11,
   "metadata": {
    "collapsed": false
   },
   "outputs": [],
   "source": [
    "def calculateSDCFrequency(df, line):\n",
    "    temp = df[df.Line == line]\n",
    "    numberOfSDC = len(temp[temp.outcome == \"SDC\"])\n",
    "    \n",
    "    return numberOfSDC\n",
    "\n",
    "def calculateSDCratio(df, line, rescale_ratio=1):\n",
    "    temp = df[df.Line == line]\n",
    "    numberOfFaultInjection = len(temp)\n",
    "    numberOfSDC = len(temp[temp.outcome == \"SDC\"])\n",
    "\n",
    "    if numberOfFaultInjection is not 0: \n",
    "        return float(numberOfSDC)/numberOfFaultInjection * rescale_ratio\n",
    "    else:\n",
    "        return 0\n",
    "    \n",
    "def calculateExpectedSDCImpact(df, line):\n",
    "    temp = df[df.Line == line]\n",
    "    temp = temp[temp.outcome == \"SDC\"]\n",
    "    temp = temp[temp.diffnormr != float(\"inf\")]\n",
    "    \n",
    "    if len(temp) == 0:\n",
    "        return 0\n",
    "    else:\n",
    "        temp = temp.diffnormr.abs()/temp.out_xor.abs()\n",
    "    \n",
    "    #temp = temp[temp != float(\"inf\")]\n",
    "    #temp = temp[temp != float(\"nan\")]\n",
    "\n",
    "    \n",
    "    #if line == 167:\n",
    "    #    print temp\n",
    "    return np.mean(temp)\n",
    "\n",
    "def sampleFunction(dataset, sample_size):\n",
    "    return dataset.sample(n=sample_size)\n",
    "\n",
    "each_line_sdc_ratio_distribution_random = {}\n",
    "each_line_sdc_ratio_distribution_hightbit = {}\n",
    "\n",
    "each_line_sdc_fre_distribution_random = {}\n",
    "each_line_sdc_fre_distribution_hightbit = {}\n",
    "\n",
    "each_line_expected_sdc_impact_distribution_random = {}\n",
    "each_line_expected_sdc_impact_distribution_highbit= {}\n",
    "\n",
    "\n",
    "\n",
    "for i in range(100):\n",
    "    highbit_sample = sampleFunction(highbit_dataset, 5000)\n",
    "    random_sample = sampleFunction(cg_df, 10000)\n",
    "    for line in cg_df.Line.unique():\n",
    "        if line not in each_line_sdc_ratio_distribution_random:\n",
    "            \n",
    "            #SDC frequency\n",
    "            each_line_sdc_fre_distribution_random[line] = []\n",
    "            each_line_sdc_fre_distribution_hightbit[line] = []\n",
    "            \n",
    "            #SDC ratio\n",
    "            each_line_sdc_ratio_distribution_random[line] = []\n",
    "            each_line_sdc_ratio_distribution_hightbit[line] = []\n",
    "            \n",
    "            #SDC impact\n",
    "            each_line_expected_sdc_impact_distribution_random[line] = []\n",
    "            each_line_expected_sdc_impact_distribution_highbit[line] = []\n",
    "            \n",
    "        #SDC frequency\n",
    "        each_line_sdc_fre_distribution_random[line].append(calculateSDCFrequency(random_sample, line))\n",
    "        each_line_sdc_fre_distribution_random[line].append(calculateSDCFrequency(highbit_sample, line))\n",
    "        \n",
    "        #SDC ratio\n",
    "        each_line_sdc_ratio_distribution_random[line].append(calculateSDCratio(random_sample, line))\n",
    "        each_line_sdc_ratio_distribution_hightbit[line].append(calculateSDCratio(highbit_sample, line) * 32.0/64)\n",
    "        \n",
    "        #SDC impact\n",
    "        each_line_expected_sdc_impact_distribution_random[line].append(calculateExpectedSDCImpact(random_sample, line))\n",
    "        each_line_expected_sdc_impact_distribution_highbit[line].append(calculateExpectedSDCImpact(highbit_sample, line))\n",
    "\n",
    "#print each_line_expected_sdc_impact_distribution_highbit\n",
    "#print each_line_expected_sdc_impact_distribution_random\n",
    "#for line in cg_df.Line.unique():\n",
    "#    print line\n",
    "    #SDC frequency\n",
    "    #print \"SDC Fre random\", np.mean(each_line_sdc_fre_distribution_random[line]), np.var(each_line_sdc_fre_distribution_random[line])\n",
    "    #print \"SDC Fre highbit\", np.mean(each_line_sdc_fre_distribution_random[line]), np.var(each_line_sdc_fre_distribution_random[line])\n",
    "    \n",
    "    #SDC Ratio\n",
    "    #print \"SDC Ratio random\", np.mean(each_line_sdc_ratio_distribution_random[line]), np.var(each_line_sdc_ratio_distribution_random[line])\n",
    "    #print \"SDC Ratio highbit\", np.mean(each_line_sdc_ratio_distribution_hightbit[line]), np.var(each_line_sdc_ratio_distribution_hightbit[line])\n",
    "    \n",
    "    #SDC impact\n",
    "#    print \"SDC Impact random\", np.mean(each_line_expected_sdc_impact_distribution_random[line]), np.var(each_line_expected_sdc_impact_distribution_random[line])\n",
    "#    print \"SDC Impact highbit\", np.mean(each_line_expected_sdc_impact_distribution_highbit[line]), np.var(each_line_expected_sdc_impact_distribution_highbit[line])\n",
    "    "
   ]
  },
  {
   "cell_type": "code",
   "execution_count": 14,
   "metadata": {
    "collapsed": false
   },
   "outputs": [
    {
     "ename": "KeyError",
     "evalue": "1",
     "output_type": "error",
     "traceback": [
      "\u001b[0;31m---------------------------------------------------------------------------\u001b[0m",
      "\u001b[0;31mKeyError\u001b[0m                                  Traceback (most recent call last)",
      "\u001b[0;32m<ipython-input-14-004b31d5b824>\u001b[0m in \u001b[0;36m<module>\u001b[0;34m()\u001b[0m\n\u001b[0;32m----> 1\u001b[0;31m \u001b[0;32mprint\u001b[0m \u001b[0meach_line_expected_sdc_impact_distribution_highbit\u001b[0m\u001b[0;34m[\u001b[0m\u001b[0;36m1\u001b[0m\u001b[0;34m]\u001b[0m\u001b[0;34m\u001b[0m\u001b[0m\n\u001b[0m\u001b[1;32m      2\u001b[0m \u001b[0;32mprint\u001b[0m \u001b[0meach_line_expected_sdc_impact_distribution_random\u001b[0m\u001b[0;34m[\u001b[0m\u001b[0;36m1\u001b[0m\u001b[0;34m]\u001b[0m\u001b[0;34m\u001b[0m\u001b[0m\n\u001b[1;32m      3\u001b[0m \u001b[0;34m\u001b[0m\u001b[0m\n\u001b[1;32m      4\u001b[0m \u001b[0;31m#for line in cg_df.Line.unique():\u001b[0m\u001b[0;34m\u001b[0m\u001b[0;34m\u001b[0m\u001b[0m\n\u001b[1;32m      5\u001b[0m     \u001b[0;31m# print line\u001b[0m\u001b[0;34m\u001b[0m\u001b[0;34m\u001b[0m\u001b[0m\n",
      "\u001b[0;31mKeyError\u001b[0m: 1"
     ]
    }
   ],
   "source": [
    "print each_line_expected_sdc_impact_distribution_highbit[1]\n",
    "print each_line_expected_sdc_impact_distribution_random[1]\n",
    "\n",
    "#for line in cg_df.Line.unique():\n",
    "#    print line\n",
    "#    print np.mean(each_line_expected_sdc_impact_distribution_random[line])\n",
    "#    print np.mean(each_line_expected_sdc_impact_distribution_highbit[line])\n",
    "#    print \" \""
   ]
  },
  {
   "cell_type": "code",
   "execution_count": null,
   "metadata": {
    "collapsed": true
   },
   "outputs": [],
   "source": []
  }
 ],
 "metadata": {
  "kernelspec": {
   "display_name": "Python 2",
   "language": "python",
   "name": "python2"
  },
  "language_info": {
   "codemirror_mode": {
    "name": "ipython",
    "version": 2
   },
   "file_extension": ".py",
   "mimetype": "text/x-python",
   "name": "python",
   "nbconvert_exporter": "python",
   "pygments_lexer": "ipython2",
   "version": "2.7.13"
  }
 },
 "nbformat": 4,
 "nbformat_minor": 2
}
