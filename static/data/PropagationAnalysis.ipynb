{
 "cells": [
  {
   "cell_type": "code",
   "execution_count": 1,
   "metadata": {
    "collapsed": true
   },
   "outputs": [],
   "source": [
    "import numpy as np\n",
    "import seaborn as sns\n",
    "import pandas as pd\n",
    "import os.path\n",
    "import matplotlib.pyplot as plt\n",
    "import random"
   ]
  },
  {
   "cell_type": "code",
   "execution_count": 2,
   "metadata": {
    "collapsed": false
   },
   "outputs": [],
   "source": [
    "golden_run_path = \"cg_simulation/golden.log\"\n",
    "golden_run = pd.read_csv(golden_run_path,  sep=' ', names=['file', 'linenum', 'variable', 'value'])\n",
    "golden_run_value = np.array(golden_run.value, dtype='float')\n",
    "cg_fault_injection = pd.read_csv('cg_complete.csv')\n",
    "SIZE = len(cg_fault_injection)"
   ]
  },
  {
   "cell_type": "markdown",
   "metadata": {},
   "source": [
    "# Experiment 1\n",
    "Take all the fault injections in the inital condition. Find all the fault injection cases that result into masked. For each masked case, compare error run with the golden run to get a error run curve. Combine all the error run curve to construct a error boundary for masked and SDC."
   ]
  },
  {
   "cell_type": "markdown",
   "metadata": {},
   "source": [
    "### SDC Ratio over entire program"
   ]
  },
  {
   "cell_type": "code",
   "execution_count": 3,
   "metadata": {
    "collapsed": false
   },
   "outputs": [
    {
     "name": "stdout",
     "output_type": "stream",
     "text": [
      "SDC ratio over entire program:  0.07232583230579531\n"
     ]
    }
   ],
   "source": [
    "iters = list(cg_fault_injection.iter)\n",
    "iters.reverse()\n",
    "count  = 0\n",
    "last_zero_iteration_index = SIZE - iters.index(0)\n",
    "dynamic_step_to_record_computation_result = int(last_zero_iteration_index/64)\n",
    "\n",
    "for i in range(last_zero_iteration_index, len(iters)):\n",
    "    if cg_fault_injection.outcome[i] == \"SDC\":\n",
    "        count += 1\n",
    "\n",
    "print(\"SDC ratio over entire program: \", count/len(iters))"
   ]
  },
  {
   "cell_type": "code",
   "execution_count": 4,
   "metadata": {
    "collapsed": false
   },
   "outputs": [],
   "source": [
    "#only tracking the maximum value of the masked run after this time step.\n",
    "tracking_length = len(golden_run_value)\n",
    "\n",
    "def construct_boundary(number_of_dynamic_instruction):\n",
    "    boundary = []\n",
    "    ground_truth = {\"Masked\": 0, \"SDC\":0, \"DUE\":0}\n",
    "\n",
    "    for i in range(tracking_length):\n",
    "        boundary.append({'max':0, 'min':0})\n",
    "\n",
    "    for i in range(number_of_dynamic_instruction):\n",
    "        index = int(random.random() * SIZE)\n",
    "        \n",
    "        ground_truth[cg_fault_injection.outcome[index]] += 1\n",
    "        \n",
    "        if cg_fault_injection.outcome[index] == \"Masked\":\n",
    "            masked_run_path = \"cg_simulation/appstate_\"+ str(index)+\".log\" \n",
    "\n",
    "            #Check whether the tracking file is on the path\n",
    "            #TODO: check whether can regenerate the data\n",
    "            if not os.path.isfile(masked_run_path):\n",
    "                continue\n",
    "\n",
    "            masked_run = pd.read_csv(masked_run_path,  sep=\" \", names=['file', 'linenum', 'variable', 'value'])\n",
    "            masked_run_value = np.array(masked_run.value, dtype='float')\n",
    "\n",
    "            #This is a werid information in the data.\n",
    "            #TODO: may check why such outcome is shown\n",
    "            if len(masked_run_value) < tracking_length:\n",
    "                print(\"odd!\")\n",
    "                continue\n",
    "\n",
    "            #array contain NAN, ignore the run\n",
    "            if np.isnan(np.min(masked_run_value)):\n",
    "                continue\n",
    "\n",
    "            comparision_result = masked_run_value[0:tracking_length] - golden_run_value\n",
    "        else:\n",
    "            continue\n",
    "\n",
    "        for j in range(dynamic_step_to_record_computation_result, tracking_length):\n",
    "            if comparision_result[j] > boundary[j]['max']:\n",
    "                boundary[j]['max'] = comparision_result[j]\n",
    "\n",
    "            if comparision_result[j] < boundary[j]['min']:\n",
    "                boundary[j]['min'] = comparision_result[j]\n",
    "                \n",
    "    return [boundary, ground_truth]\n",
    "\n",
    "def predict(boundary):\n",
    "    masked_true_positive = 0\n",
    "    masked_false_positive = 0\n",
    "    sdc_true_positive = 0\n",
    "    sdc_false_positive = 0\n",
    "    result = {}\n",
    "\n",
    "    for i in range(last_zero_iteration_index + 1, SIZE):\n",
    "\n",
    "        index = int(i/64)\n",
    "        if cg_fault_injection.out_xor[i] < boundary[index]['max'] and cg_fault_injection.out_xor[i] > boundary[index]['min']:\n",
    "            if cg_fault_injection.outcome[i] == \"Masked\":\n",
    "                masked_true_positive += 1\n",
    "            else:\n",
    "                masked_false_positive += 1\n",
    "        else:\n",
    "            if cg_fault_injection.outcome[i] == \"SDC\":\n",
    "                sdc_true_positive += 1\n",
    "            else:\n",
    "                sdc_false_positive += 1\n",
    "\n",
    "\n",
    "    result[\"predict masked case\"] =  (masked_true_positive + masked_false_positive)/SIZE\n",
    "    result[\"predict SDC case\"] = (sdc_true_positive + sdc_false_positive)/SIZE\n",
    "    result[\"masked prediction accuracy\"] = masked_true_positive/(masked_true_positive + masked_false_positive)\n",
    "    result[\"SDC prediction accuracy\"] = sdc_true_positive/(sdc_true_positive + sdc_false_positive)\n",
    "    \n",
    "    return result"
   ]
  },
  {
   "cell_type": "markdown",
   "metadata": {},
   "source": [
    "## Can we think this problem as a lable propagation problem?"
   ]
  },
  {
   "cell_type": "code",
   "execution_count": null,
   "metadata": {
    "collapsed": false
   },
   "outputs": [
    {
     "name": "stdout",
     "output_type": "stream",
     "text": [
      "0\n"
     ]
    }
   ],
   "source": [
    "experiments = []\n",
    "\n",
    "ground_truth = []\n",
    "\n",
    "for i in range(10):\n",
    "    print(i)\n",
    "    boundary = construct_boundary(2000)\n",
    "    experiments.append(predict(boundary[0]))\n",
    "    ground_truth.append(boundary[1])"
   ]
  },
  {
   "cell_type": "code",
   "execution_count": 6,
   "metadata": {
    "collapsed": false
   },
   "outputs": [
    {
     "name": "stdout",
     "output_type": "stream",
     "text": [
      "0.1106407983970407\n",
      "0.019799999999999995\n"
     ]
    }
   ],
   "source": [
    "uniform_test = []\n",
    "intuition = []\n",
    "\n",
    "for i in range(10):\n",
    "    intuition.append(experiments[i]['predict SDC case'])\n",
    "    uniform_test.append(ground_truth[i]['SDC']/2000)\n",
    "\n",
    "print(np.mean(intuition))\n",
    "print(np.mean(uniform_test))"
   ]
  },
  {
   "cell_type": "markdown",
   "metadata": {},
   "source": [
    "# Plot prediction result\n",
    "80% of the total fault injection experiments\n",
    "\n",
    "##  Plot predict masked case"
   ]
  },
  {
   "cell_type": "code",
   "execution_count": 54,
   "metadata": {
    "collapsed": false
   },
   "outputs": [
    {
     "data": {
      "text/plain": [
       "[<matplotlib.lines.Line2D at 0x116aa4358>]"
      ]
     },
     "execution_count": 54,
     "metadata": {},
     "output_type": "execute_result"
    },
    {
     "data": {
      "image/png": "[encoded data removed]",
      "text/plain": [
       "<Figure size 432x288 with 1 Axes>"
      ]
     },
     "metadata": {
      "needs_background": "light"
     },
     "output_type": "display_data"
    }
   ],
   "source": [
    "x_data = []\n",
    "y_data = []\n",
    "for i in range(step, last_zero_iteration_index, step):\n",
    "    y_data.append(experiments[int(i/step)-1]['predict masked case'])\n",
    "    x_data.append(i)\n",
    "    \n",
    "plt.plot(x_data, y_data)"
   ]
  },
  {
   "cell_type": "code",
   "execution_count": 58,
   "metadata": {
    "collapsed": false
   },
   "outputs": [
    {
     "data": {
      "text/plain": [
       "[<matplotlib.lines.Line2D at 0x1179fbb70>]"
      ]
     },
     "execution_count": 58,
     "metadata": {},
     "output_type": "execute_result"
    },
    {
     "data": {
      "image/png": "[encoded data removed]",
      "text/plain": [
       "<Figure size 432x288 with 1 Axes>"
      ]
     },
     "metadata": {
      "needs_background": "light"
     },
     "output_type": "display_data"
    }
   ],
   "source": [
    "x_data = []\n",
    "y_data = []\n",
    "for i in range(step, last_zero_iteration_index, step):\n",
    "    y_data.append(experiments[int(i/step)-1]['masked prediction accuracy'])\n",
    "    x_data.append(i)\n",
    "    \n",
    "plt.plot(x_data, y_data)"
   ]
  },
  {
   "cell_type": "code",
   "execution_count": 55,
   "metadata": {
    "collapsed": false
   },
   "outputs": [
    {
     "data": {
      "text/plain": [
       "[<matplotlib.lines.Line2D at 0x11663a0f0>]"
      ]
     },
     "execution_count": 55,
     "metadata": {},
     "output_type": "execute_result"
    },
    {
     "data": {
      "image/png": "[encoded data removed]",
      "text/plain": [
       "<Figure size 432x288 with 1 Axes>"
      ]
     },
     "metadata": {
      "needs_background": "light"
     },
     "output_type": "display_data"
    }
   ],
   "source": [
    "x_data = []\n",
    "y_data = []\n",
    "for i in range(step, last_zero_iteration_index, step):\n",
    "    y_data.append(experiments[int(i/step)-1]['predict SDC case'])\n",
    "    x_data.append(i)\n",
    "    \n",
    "plt.plot(x_data, y_data)"
   ]
  },
  {
   "cell_type": "code",
   "execution_count": 57,
   "metadata": {
    "collapsed": false
   },
   "outputs": [
    {
     "data": {
      "text/plain": [
       "[<matplotlib.lines.Line2D at 0x117694208>]"
      ]
     },
     "execution_count": 57,
     "metadata": {},
     "output_type": "execute_result"
    },
    {
     "data": {
      "image/png": "[encoded data removed]",
      "text/plain": [
       "<Figure size 432x288 with 1 Axes>"
      ]
     },
     "metadata": {
      "needs_background": "light"
     },
     "output_type": "display_data"
    }
   ],
   "source": [
    "x_data = []\n",
    "y_data = []\n",
    "for i in range(step, last_zero_iteration_index, step):\n",
    "    y_data.append(experiments[int(i/step)-1]['SDC prediction accuracy'])\n",
    "    x_data.append(i)\n",
    "    \n",
    "plt.plot(x_data, y_data)"
   ]
  },
  {
   "cell_type": "markdown",
   "metadata": {
    "collapsed": true
   },
   "source": [
    "### Construct Masked Case across the program\n",
    "\n",
    "predict masked case:  0.7663571208384711\n",
    "\n",
    "predict SDC case: 0.033870221948212084\n",
    "\n",
    "masked prediction accuracy: 0.9421776403449229\n",
    "\n",
    "SDC prediction accuracy: 0.8321956769055745"
   ]
  },
  {
   "cell_type": "markdown",
   "metadata": {
    "collapsed": true
   },
   "source": []
  },
  {
   "cell_type": "markdown",
   "metadata": {
    "collapsed": true
   },
   "source": []
  },
  {
   "cell_type": "markdown",
   "metadata": {
    "collapsed": true
   },
   "source": []
  },
  {
   "cell_type": "code",
   "execution_count": null,
   "metadata": {
    "collapsed": true
   },
   "outputs": [],
   "source": []
  },
  {
   "cell_type": "code",
   "execution_count": 5,
   "metadata": {
    "collapsed": false
   },
   "outputs": [],
   "source": [
    "masked_file_path = \"cg_simulation/appstate_10286.log\"\n",
    "sdc_file_path = \"cg_simulation/appstate_10300.log\"\n",
    "\n",
    "masked_run = pd.read_csv(masked_file_path,  sep=\" \", names=['file', 'linenum', 'variable', 'value'])\n",
    "sdc_run = pd.read_csv(sdc_file_path, sep=\" \", names=['file', 'linenum', 'variable', 'value'])\n",
    "\n",
    "golden_run_value = np.array(golden_run.value)\n",
    "masked_run_value = np.array(masked_run.value)\n",
    "sdc_run_value = np.array(sdc_run.value)"
   ]
  },
  {
   "cell_type": "code",
   "execution_count": 70,
   "metadata": {
    "collapsed": false
   },
   "outputs": [
    {
     "ename": "IndexError",
     "evalue": "index 162 is out of bounds for axis 0 with size 162",
     "output_type": "error",
     "traceback": [
      "\u001b[0;31m--------------------------------------------\u001b[0m",
      "\u001b[0;31mIndexError\u001b[0m Traceback (most recent call last)",
      "\u001b[0;32m<ipython-input-70-14deb991eaaf>\u001b[0m in \u001b[0;36m<module>\u001b[0;34m\u001b[0m\n\u001b[1;32m      9\u001b[0m \u001b[0mtotal\u001b[0m \u001b[0;34m=\u001b[0m \u001b[0;34m(\u001b[0m\u001b[0;36m811\u001b[0m \u001b[0;34m-\u001b[0m \u001b[0;36m160\u001b[0m\u001b[0;34m)\u001b[0m \u001b[0;34m*\u001b[0m \u001b[0;36m64\u001b[0m\u001b[0;34m\u001b[0m\u001b[0;34m\u001b[0m\u001b[0m\n\u001b[1;32m     10\u001b[0m \u001b[0;32mfor\u001b[0m \u001b[0mi\u001b[0m \u001b[0;32min\u001b[0m \u001b[0mrange\u001b[0m\u001b[0;34m(\u001b[0m\u001b[0;36m160\u001b[0m\u001b[0;34m,\u001b[0m \u001b[0;36m811\u001b[0m\u001b[0;34m)\u001b[0m\u001b[0;34m:\u001b[0m\u001b[0;34m\u001b[0m\u001b[0;34m\u001b[0m\u001b[0m\n\u001b[0;32m---> 11\u001b[0;31m     \u001b[0mdiff\u001b[0m \u001b[0;34m=\u001b[0m \u001b[0mabs\u001b[0m\u001b[0;34m(\u001b[0m\u001b[0mgolden_run_value\u001b[0m\u001b[0;34m[\u001b[0m\u001b[0mi\u001b[0m\u001b[0;34m]\u001b[0m \u001b[0;34m-\u001b[0m  \u001b[0mmasked_run_value\u001b[0m\u001b[0;34m[\u001b[0m\u001b[0mi\u001b[0m\u001b[0;34m]\u001b[0m\u001b[0;34m)\u001b[0m\u001b[0;34m\u001b[0m\u001b[0;34m\u001b[0m\u001b[0m\n\u001b[0m\u001b[1;32m     12\u001b[0m     \u001b[0;32mfor\u001b[0m \u001b[0mb\u001b[0m \u001b[0;32min\u001b[0m \u001b[0mrange\u001b[0m\u001b[0;34m(\u001b[0m\u001b[0;36m64\u001b[0m\u001b[0;34m)\u001b[0m\u001b[0;34m:\u001b[0m\u001b[0;34m\u001b[0m\u001b[0;34m\u001b[0m\u001b[0m\n\u001b[1;32m     13\u001b[0m         \u001b[0;32mif\u001b[0m \u001b[0mdiff\u001b[0m \u001b[0;34m>\u001b[0m \u001b[0mabs\u001b[0m\u001b[0;34m(\u001b[0m\u001b[0mcg_fault_injection\u001b[0m\u001b[0;34m.\u001b[0m\u001b[0mout_xor\u001b[0m\u001b[0;34m[\u001b[0m\u001b[0mi\u001b[0m \u001b[0;34m*\u001b[0m \u001b[0;36m64\u001b[0m \u001b[0;34m+\u001b[0m \u001b[0mb\u001b[0m\u001b[0;34m]\u001b[0m\u001b[0;34m)\u001b[0m \u001b[0;32mand\u001b[0m \u001b[0mcg_fault_injection\u001b[0m\u001b[0;34m.\u001b[0m\u001b[0moutcome\u001b[0m\u001b[0;34m[\u001b[0m\u001b[0mi\u001b[0m \u001b[0;34m*\u001b[0m \u001b[0;36m64\u001b[0m \u001b[0;34m+\u001b[0m \u001b[0mb\u001b[0m\u001b[0;34m]\u001b[0m \u001b[0;34m!=\u001b[0m \u001b[0;34m\"Masked\"\u001b[0m\u001b[0;34m:\u001b[0m\u001b[0;34m\u001b[0m\u001b[0;34m\u001b[0m\u001b[0m\n",
      "\u001b[0;31mIndexError\u001b[0m: index 162 is out of bounds for axis 0 with size 162"
     ]
    }
   ],
   "source": [
    "#relative error and absolute error\n",
    "#for i in range(len(golden_run_value)):\n",
    "#   if golden_run_value[i] != 0:\n",
    "#        absolute = abs(golden_run_value[i] -  masked_run_value[i])\n",
    "\n",
    "false_positive = 0\n",
    "true_positive = 0\n",
    "unsure = 0\n",
    "total = (811 - 160) * 64\n",
    "for i in range(160, 811):\n",
    "    diff = abs(golden_run_value[i] -  masked_run_value[i]) \n",
    "    for b in range(64):\n",
    "        if diff > abs(cg_fault_injection.out_xor[i * 64 + b]) and cg_fault_injection.outcome[i * 64 + b] != \"Masked\":\n",
    "            #print(cg_fault_injection.diffnormr[i * 64 + b], cg_fault_injection.Variable[i * 64 + b], (diff - abs(cg_fault_injection.out_xor[i * 64 + b])))\n",
    "            false_positive += 1\n",
    "            print(i * 64 + b)\n",
    "        elif diff > abs(cg_fault_injection.out_xor[i * 64 + b]) and cg_fault_injection.outcome[i * 64 + b] == \"Masked\":\n",
    "            true_positive += 1\n",
    "        else:\n",
    "            unsure += 1\n",
    "    \n",
    "    #sdc_diff = abs(golden_run_value[i] -  sdc_run_value[i])\n",
    "    #for b in range(64):\n",
    "    #    if sdc_diff < abs(cg_fault_injection.out_xor[i * 64 + b]) and cg_fault_injection.outcome[i * 64 + b] != \"SDC\":\n",
    "    #        false_positive += 1\n",
    "    #    elif sdc_diff < abs(cg_fault_injection.out_xor[i * 64 + b]) and cg_fault_injection.outcome[i * 64 + b] == \"SDC\":\n",
    "    #        true_positive += 1\n",
    "    #    else:\n",
    "    #        unsure +=1\n",
    "            \n",
    "print(false_positive/total)\n",
    "print(true_positive/total)\n",
    "print(unsure/total)\n",
    "    \n",
    "#print(i, cg_fault_injection.Variable[i], cg_fault_injection.out_xor[i], cg_fault_injection.outcome[i])\n",
    "#for i in range(243*64,244*64):\n",
    "#    print(i,cg_fault_injection.Variable[i], cg_fault_injection.out_xor[i], cg_fault_injection.outcome[i])\n",
    "#print(golden_run_value[243])\n",
    "#print(len(cg_fault_injection))\n",
    "#golden_run_value-error_run_value[0:811]"
   ]
  },
  {
   "cell_type": "code",
   "execution_count": 36,
   "metadata": {
    "collapsed": false
   },
   "outputs": [],
   "source": [
    "number_of_instructions = {}\n",
    "\n",
    "propagation_path = []\n",
    "\n",
    "for index in range(100):\n",
    "    if index in[15731, 16246, 17523]:\n",
    "        continue\n",
    "    \n",
    "    file_path = \"cg_simulation/appstate_\"+str(index)+\".log\"\n",
    "    error_run = pd.read_csv(file_path,  sep=' ')\n",
    "    \n",
    "    \n",
    "    #For different fault injection case, what is the number of different execution dynamic instructions\n",
    "    if len(error_run) in number_of_instructions:\n",
    "        number_of_instructions[len(error_run)] += 1\n",
    "    else:\n",
    "        number_of_instructions[len(error_run)] = 1\n",
    "        \n",
    "    #\n",
    "    index = min(len(golden_run), len(error_run))\n",
    "    #result = np.array(golden_run.value, dtype=float)[:index] - np.array(error_run.value, dtype=float)[:index]\n",
    "    #propagation_elements = golden_run.line[np.where(result != 0)[0]]\n",
    "    \n",
    "    #path = \"=>\"\n",
    "    #number_of_propagation_element = 5\n",
    "    #for e in propagation_elements:\n",
    "    #    if str(e) not in path:\n",
    "    #        path += str(e)\n",
    "    #        path += \"=>\"\n",
    "    #        number_of_propagation_element -= 1\n",
    "        \n",
    "    #    if number_of_propagation_element == 0:\n",
    "    #        break\n",
    "    #if path not in propagation_path:\n",
    "    #    propagation_path.append(path)"
   ]
  },
  {
   "cell_type": "markdown",
   "metadata": {},
   "source": [
    "## What is the probability of the different number of storing dynamic instructions.\n",
    "## What is the probability of SDC.\n",
    "\n",
    "It's expected that if the program ends early, then there an unexpected crash during the program execution in the earlier stage. At the same time, if the program has more execution than it expected. It will have high chance causes silent data corruption."
   ]
  },
  {
   "cell_type": "code",
   "execution_count": 6,
   "metadata": {
    "collapsed": false
   },
   "outputs": [
    {
     "name": "stdout",
     "output_type": "stream",
     "text": [
      "Masked    47284\n",
      "SDC        4333\n",
      "DUE         287\n",
      "Name: outcome, dtype: int64\n",
      "51904\n"
     ]
    }
   ],
   "source": [
    "cg_outcome = cg_fault_injection['outcome'].value_counts()\n",
    "\n",
    "print(cg_outcome)\n",
    "print(sum(cg_outcome))\n",
    "#propagation_path"
   ]
  },
  {
   "cell_type": "code",
   "execution_count": 7,
   "metadata": {
    "collapsed": false
   },
   "outputs": [
    {
     "data": {
      "text/plain": [
       "{810: 88, 920: 4, 1030: 8}"
      ]
     },
     "execution_count": 7,
     "metadata": {},
     "output_type": "execute_result"
    }
   ],
   "source": [
    "number_of_instructions"
   ]
  },
  {
   "cell_type": "markdown",
   "metadata": {
    "collapsed": true
   },
   "source": [
    "# If you want to rewrite your code.\n",
    "\n",
    "4. interactive fault injection campaign.\n",
    "\n",
    "### 1. A sensitive analysis across the whole program with a mapping framework.\n",
    "A desity scatter plot to understand the input and output sensitivity of the program. User can selective choose the high sensitive data and mapping back to the original visualization.\n",
    "    \n",
    "    a. how many clusters in the plot.\n",
    "    \n",
    "    b. Where is each of them comes from. \n",
    "    \n",
    "    c. The sample that comes from the fault injection in same location.\n",
    "\n",
    "#### 2. Explore function level resiliency of the program. What's the difference compare to the source code level?\n",
    "\n",
    "    a.Explore the resiliency of different program component. Aggregate the data in variable level\n",
    "\n",
    "\n",
    "#### 3. How to measure the impact of one variable/function over the other?\n",
    " \n"
   ]
  },
  {
   "cell_type": "markdown",
   "metadata": {
    "collapsed": true
   },
   "source": [
    "# The number of times a function is called."
   ]
  },
  {
   "cell_type": "code",
   "execution_count": 8,
   "metadata": {
    "collapsed": false
   },
   "outputs": [
    {
     "ename": "KeyError",
     "evalue": "'line'",
     "output_type": "error",
     "traceback": [
      "\u001b[0;31m------------------------------------------------------------\u001b[0m",
      "\u001b[0;31mTypeError\u001b[0m                  Traceback (most recent call last)",
      "\u001b[0;32m~/Desktop/Compression_data/Data/env/lib/python3.7/site-packages/pandas/core/indexes/base.py\u001b[0m in \u001b[0;36mget_value\u001b[0;34m(self, series, key)\u001b[0m\n\u001b[1;32m   4380\u001b[0m             \u001b[0;32mtry\u001b[0m\u001b[0;34m:\u001b[0m\u001b[0;34m\u001b[0m\u001b[0;34m\u001b[0m\u001b[0m\n\u001b[0;32m-> 4381\u001b[0;31m                 \u001b[0;32mreturn\u001b[0m \u001b[0mlibindex\u001b[0m\u001b[0;34m.\u001b[0m\u001b[0mget_value_box\u001b[0m\u001b[0;34m(\u001b[0m\u001b[0ms\u001b[0m\u001b[0;34m,\u001b[0m \u001b[0mkey\u001b[0m\u001b[0;34m)\u001b[0m\u001b[0;34m\u001b[0m\u001b[0;34m\u001b[0m\u001b[0m\n\u001b[0m\u001b[1;32m   4382\u001b[0m             \u001b[0;32mexcept\u001b[0m \u001b[0mIndexError\u001b[0m\u001b[0;34m:\u001b[0m\u001b[0;34m\u001b[0m\u001b[0;34m\u001b[0m\u001b[0m\n",
      "\u001b[0;32mpandas/_libs/index.pyx\u001b[0m in \u001b[0;36mpandas._libs.index.get_value_box\u001b[0;34m()\u001b[0m\n",
      "\u001b[0;32mpandas/_libs/index.pyx\u001b[0m in \u001b[0;36mpandas._libs.index.get_value_at\u001b[0;34m()\u001b[0m\n",
      "\u001b[0;32mpandas/_libs/util.pxd\u001b[0m in \u001b[0;36mpandas._libs.util.get_value_at\u001b[0;34m()\u001b[0m\n",
      "\u001b[0;32mpandas/_libs/util.pxd\u001b[0m in \u001b[0;36mpandas._libs.util.validate_indexer\u001b[0;34m()\u001b[0m\n",
      "\u001b[0;31mTypeError\u001b[0m: 'str' object cannot be interpreted as an integer",
      "\nDuring handling of the above exception, another exception occurred:\n",
      "\u001b[0;31mKeyError\u001b[0m                   Traceback (most recent call last)",
      "\u001b[0;32m<ipython-input-8-579fc3d8a445>\u001b[0m in \u001b[0;36m<module>\u001b[0;34m\u001b[0m\n\u001b[1;32m      4\u001b[0m \u001b[0;34m\u001b[0m\u001b[0m\n\u001b[1;32m      5\u001b[0m \u001b[0;32mfor\u001b[0m \u001b[0mindex\u001b[0m\u001b[0;34m,\u001b[0m \u001b[0mrow\u001b[0m \u001b[0;32min\u001b[0m \u001b[0mgolden_run\u001b[0m\u001b[0;34m.\u001b[0m\u001b[0miterrows\u001b[0m\u001b[0;34m(\u001b[0m\u001b[0;34m)\u001b[0m\u001b[0;34m:\u001b[0m\u001b[0;34m\u001b[0m\u001b[0;34m\u001b[0m\u001b[0m\n\u001b[0;32m----> 6\u001b[0;31m     \u001b[0mkey\u001b[0m \u001b[0;34m=\u001b[0m \u001b[0mline_to_func\u001b[0m\u001b[0;34m[\u001b[0m\u001b[0mrow\u001b[0m\u001b[0;34m[\u001b[0m\u001b[0;34m'line'\u001b[0m\u001b[0;34m]\u001b[0m\u001b[0;34m]\u001b[0m\u001b[0;34m\u001b[0m\u001b[0;34m\u001b[0m\u001b[0m\n\u001b[0m\u001b[1;32m      7\u001b[0m     \u001b[0;32mif\u001b[0m \u001b[0mkey\u001b[0m \u001b[0;32mnot\u001b[0m \u001b[0;32min\u001b[0m \u001b[0mcounter\u001b[0m\u001b[0;34m:\u001b[0m\u001b[0;34m\u001b[0m\u001b[0;34m\u001b[0m\u001b[0m\n\u001b[1;32m      8\u001b[0m         \u001b[0mcounter\u001b[0m\u001b[0;34m[\u001b[0m\u001b[0mkey\u001b[0m\u001b[0;34m]\u001b[0m \u001b[0;34m=\u001b[0m \u001b[0;36m1\u001b[0m\u001b[0;34m\u001b[0m\u001b[0;34m\u001b[0m\u001b[0m\n",
      "\u001b[0;32m~/Desktop/Compression_data/Data/env/lib/python3.7/site-packages/pandas/core/series.py\u001b[0m in \u001b[0;36m__getitem__\u001b[0;34m(self, key)\u001b[0m\n\u001b[1;32m    866\u001b[0m         \u001b[0mkey\u001b[0m \u001b[0;34m=\u001b[0m \u001b[0mcom\u001b[0m\u001b[0;34m.\u001b[0m\u001b[0mapply_if_callable\u001b[0m\u001b[0;34m(\u001b[0m\u001b[0mkey\u001b[0m\u001b[0;34m,\u001b[0m \u001b[0mself\u001b[0m\u001b[0;34m)\u001b[0m\u001b[0;34m\u001b[0m\u001b[0;34m\u001b[0m\u001b[0m\n\u001b[1;32m    867\u001b[0m         \u001b[0;32mtry\u001b[0m\u001b[0;34m:\u001b[0m\u001b[0;34m\u001b[0m\u001b[0;34m\u001b[0m\u001b[0m\n\u001b[0;32m--> 868\u001b[0;31m             \u001b[0mresult\u001b[0m \u001b[0;34m=\u001b[0m \u001b[0mself\u001b[0m\u001b[0;34m.\u001b[0m\u001b[0mindex\u001b[0m\u001b[0;34m.\u001b[0m\u001b[0mget_value\u001b[0m\u001b[0;34m(\u001b[0m\u001b[0mself\u001b[0m\u001b[0;34m,\u001b[0m \u001b[0mkey\u001b[0m\u001b[0;34m)\u001b[0m\u001b[0;34m\u001b[0m\u001b[0;34m\u001b[0m\u001b[0m\n\u001b[0m\u001b[1;32m    869\u001b[0m \u001b[0;34m\u001b[0m\u001b[0m\n\u001b[1;32m    870\u001b[0m             \u001b[0;32mif\u001b[0m \u001b[0;32mnot\u001b[0m \u001b[0mis_scalar\u001b[0m\u001b[0;34m(\u001b[0m\u001b[0mresult\u001b[0m\u001b[0;34m)\u001b[0m\u001b[0;34m:\u001b[0m\u001b[0;34m\u001b[0m\u001b[0;34m\u001b[0m\u001b[0m\n",
      "\u001b[0;32m~/Desktop/Compression_data/Data/env/lib/python3.7/site-packages/pandas/core/indexes/base.py\u001b[0m in \u001b[0;36mget_value\u001b[0;34m(self, series, key)\u001b[0m\n\u001b[1;32m   4387\u001b[0m                     \u001b[0;32mraise\u001b[0m \u001b[0mInvalidIndexError\u001b[0m\u001b[0;34m(\u001b[0m\u001b[0mkey\u001b[0m\u001b[0;34m)\u001b[0m\u001b[0;34m\u001b[0m\u001b[0;34m\u001b[0m\u001b[0m\n\u001b[1;32m   4388\u001b[0m                 \u001b[0;32melse\u001b[0m\u001b[0;34m:\u001b[0m\u001b[0;34m\u001b[0m\u001b[0;34m\u001b[0m\u001b[0m\n\u001b[0;32m-> 4389\u001b[0;31m                     \u001b[0;32mraise\u001b[0m \u001b[0me1\u001b[0m\u001b[0;34m\u001b[0m\u001b[0;34m\u001b[0m\u001b[0m\n\u001b[0m\u001b[1;32m   4390\u001b[0m             \u001b[0;32mexcept\u001b[0m \u001b[0mException\u001b[0m\u001b[0;34m:\u001b[0m  \u001b[0;31m# pragma: no cover\u001b[0m\u001b[0;34m\u001b[0m\u001b[0;34m\u001b[0m\u001b[0m\n\u001b[1;32m   4391\u001b[0m                 \u001b[0;32mraise\u001b[0m \u001b[0me1\u001b[0m\u001b[0;34m\u001b[0m\u001b[0;34m\u001b[0m\u001b[0m\n",
      "\u001b[0;32m~/Desktop/Compression_data/Data/env/lib/python3.7/site-packages/pandas/core/indexes/base.py\u001b[0m in \u001b[0;36mget_value\u001b[0;34m(self, series, key)\u001b[0m\n\u001b[1;32m   4373\u001b[0m         \u001b[0;32mtry\u001b[0m\u001b[0;34m:\u001b[0m\u001b[0;34m\u001b[0m\u001b[0;34m\u001b[0m\u001b[0m\n\u001b[1;32m   4374\u001b[0m             return self._engine.get_value(s, k,\n\u001b[0;32m-> 4375\u001b[0;31m                                           tz=getattr(series.dtype, 'tz', None))\n\u001b[0m\u001b[1;32m   4376\u001b[0m         \u001b[0;32mexcept\u001b[0m \u001b[0mKeyError\u001b[0m \u001b[0;32mas\u001b[0m \u001b[0me1\u001b[0m\u001b[0;34m:\u001b[0m\u001b[0;34m\u001b[0m\u001b[0;34m\u001b[0m\u001b[0m\n\u001b[1;32m   4377\u001b[0m             \u001b[0;32mif\u001b[0m \u001b[0mlen\u001b[0m\u001b[0;34m(\u001b[0m\u001b[0mself\u001b[0m\u001b[0;34m)\u001b[0m \u001b[0;34m>\u001b[0m \u001b[0;36m0\u001b[0m \u001b[0;32mand\u001b[0m \u001b[0;34m(\u001b[0m\u001b[0mself\u001b[0m\u001b[0;34m.\u001b[0m\u001b[0mholds_integer\u001b[0m\u001b[0;34m(\u001b[0m\u001b[0;34m)\u001b[0m \u001b[0;32mor\u001b[0m \u001b[0mself\u001b[0m\u001b[0;34m.\u001b[0m\u001b[0mis_boolean\u001b[0m\u001b[0;34m(\u001b[0m\u001b[0;34m)\u001b[0m\u001b[0;34m)\u001b[0m\u001b[0;34m:\u001b[0m\u001b[0;34m\u001b[0m\u001b[0;34m\u001b[0m\u001b[0m\n",
      "\u001b[0;32mpandas/_libs/index.pyx\u001b[0m in \u001b[0;36mpandas._libs.index.IndexEngine.get_value\u001b[0;34m()\u001b[0m\n",
      "\u001b[0;32mpandas/_libs/index.pyx\u001b[0m in \u001b[0;36mpandas._libs.index.IndexEngine.get_value\u001b[0;34m()\u001b[0m\n",
      "\u001b[0;32mpandas/_libs/index.pyx\u001b[0m in \u001b[0;36mpandas._libs.index.IndexEngine.get_loc\u001b[0;34m()\u001b[0m\n",
      "\u001b[0;32mpandas/_libs/hashtable_class_helper.pxi\u001b[0m in \u001b[0;36mpandas._libs.hashtable.PyObjectHashTable.get_item\u001b[0;34m()\u001b[0m\n",
      "\u001b[0;32mpandas/_libs/hashtable_class_helper.pxi\u001b[0m in \u001b[0;36mpandas._libs.hashtable.PyObjectHashTable.get_item\u001b[0;34m()\u001b[0m\n",
      "\u001b[0;31mKeyError\u001b[0m: 'line'"
     ]
    }
   ],
   "source": [
    "counter = {}\n",
    "\n",
    "line_to_func = {167:'readA', 175:'readB', 33:'waxpby', 25:'matvec', 48:'dot_r2', 75:'solve_cg', 76:'solve_cg',87:'solve_cg',57:'dot', 90:'solve_cg',91:'solve_cg',40:\"daxpby\", 82:'daxpby',83:'daxpby',84:'daxpby'}\n",
    "\n",
    "for index, row in golden_run.iterrows():\n",
    "    key = line_to_func[row['line']]\n",
    "    if key not in counter:\n",
    "        counter[key] = 1\n",
    "    else:\n",
    "        counter[key] += 1"
   ]
  },
  {
   "cell_type": "code",
   "execution_count": 8,
   "metadata": {
    "collapsed": false
   },
   "outputs": [
    {
     "name": "stdout",
     "output_type": "stream",
     "text": [
      "readA 7.891491985203452\n",
      "readB 0.9864364981504316\n",
      "waxpby 2.9593094944512948\n",
      "matvec 55.24044389642416\n",
      "dot_r2 5.9186189889025895\n",
      "solve_cg 2.466091245376079\n",
      "dot 5.9186189889025895\n",
      "daxpby 18.618988902589393\n"
     ]
    }
   ],
   "source": [
    "number_of_instruction = sum(list(counter.values()))\n",
    "for item in counter.items():\n",
    "    print(item[0], item[1]/number_of_instruction * 100)"
   ]
  },
  {
   "cell_type": "markdown",
   "metadata": {
    "collapsed": true
   },
   "source": [
    "# Error Propagation Analysis in one program component."
   ]
  },
  {
   "cell_type": "code",
   "execution_count": 9,
   "metadata": {
    "collapsed": false
   },
   "outputs": [
    {
     "name": "stdout",
     "output_type": "stream",
     "text": [
      "347\n"
     ]
    },
    {
     "data": {
      "image/png": "[encoded data removed]",
      "text/plain": [
       "<Figure size 432x288 with 1 Axes>"
      ]
     },
     "metadata": {
      "needs_background": "light"
     },
     "output_type": "display_data"
    }
   ],
   "source": [
    "golden_run_path = \"cg_simulation/golden.log\"\n",
    "golden_run = pd.read_csv(golden_run_path,  sep=' ', names=['file', 'linenum', 'variable', 'value'])\n",
    "golden_run_value = np.array(golden_run.value)\n",
    "##### this is a very interesting but werid case\n",
    "##### There is a NAN occur during the computation, but the  error is masked at the end.\n",
    "#index_range = [17341, 24381]\n",
    "\n",
    "##### cg p_ap_dot first interation 64 experiment\n",
    "#index_range = [15552, 15603]\n",
    "\n",
    "#file_path = \"cg_simulation1/appstate_\"+str(17341)+\".log\"\n",
    "#error_run = pd.read_csv(file_path,  sep=' ')\n",
    "\n",
    "#for i in range(len(error_run.value)):\n",
    "#    print(error_run.line[i], error_run.variable[i], error_run.value[i])\n",
    "#print(len(error_run.value))\n",
    "\n",
    "#print(error_run)\n",
    "#data_set = {}\n",
    "\n",
    "\n",
    "#golden_run_value = np.array(golden_run.value[0:800], dtype='float')\n",
    "\n",
    "#for index in range(index_range[0], index_range[1]+1):\n",
    "#    file_path = \"cg_simulation/appstate_\"+str(index)+\".log\"\n",
    "#    error_run = pd.read_csv(file_path,  sep=' ', names=['file', 'linenum', 'variable', 'value'])\n",
    "\n",
    "#    data_set[index] = golden_run_value - np.array(error_run.value[0:800], dtype='float')\n",
    "\n",
    "\n",
    "##### a specific case line 75 case 10290\n",
    "##### a specific case line 75 case 10296\n",
    "indexs =  [10290, 10274]# 10288] #10297]# 10296, 10289]\n",
    "\n",
    "delta_x = [65536, 1.0]# 1321922331132047.5]#, -307779.3308780107]\n",
    "x_data = range(0, 811, 1)\n",
    "\n",
    "for index,item in enumerate(indexs): \n",
    "    file_path = \"cg_simulation/appstate_\"+str(item)+\".log\"\n",
    "    error_run = pd.read_csv(file_path,  sep=' ', names=['file', 'linenum', 'variable', 'value'])\n",
    "    error_run_value = np.array(error_run.value)\n",
    "\n",
    "    sensitivity_val = (error_run_value[0:811] - golden_run_value[0:811])/delta_x[index]\n",
    "    sns.lineplot(x=x_data, y=sensitivity_val, sort=False, lw=1)\n",
    "    \n",
    "print(sensitivity_val.argmax())"
   ]
  },
  {
   "cell_type": "code",
   "execution_count": 12,
   "metadata": {
    "collapsed": false
   },
   "outputs": [
    {
     "data": {
      "text/plain": [
       "<matplotlib.axes._subplots.AxesSubplot at 0x11b502dd8>"
      ]
     },
     "execution_count": 12,
     "metadata": {},
     "output_type": "execute_result"
    },
    {
     "data": {
      "image/png": "[encoded data removed]",
      "text/plain": [
       "<Figure size 432x288 with 1 Axes>"
      ]
     },
     "metadata": {
      "needs_background": "light"
     },
     "output_type": "display_data"
    }
   ],
   "source": [
    "#for index in range(index_range[0], index_range[1]+1):\n",
    "#    print(len(data_set[index].values))\n",
    "#data_set[index] = golden_run.values - error_run.values   \n",
    "\n",
    "\n",
    "x_data = range(0,811,1)\n",
    "sns.lineplot(x=x_data, y=sensitivity_val, sort=False, lw=1)\n",
    "\n",
    "#for index in range(index_range[0], index_range[0]+20): \n",
    "#    sns.lineplot(x=x_data, y=data_set[index], sort=False, lw=1)"
   ]
  },
  {
   "cell_type": "markdown",
   "metadata": {
    "collapsed": true
   },
   "source": [
    "## What role the truncation error is playing in the propagation analysis\n",
    "## What's the threshold of different program components.\n",
    "## How much error is masked by the truncate error and How much error is masked by the model feature"
   ]
  }
 ],
 "metadata": {
  "kernelspec": {
   "display_name": "Python 3",
   "language": "python",
   "name": "python3"
  },
  "language_info": {
   "codemirror_mode": {
    "name": "ipython",
    "version": 3
   },
   "file_extension": ".py",
   "mimetype": "text/x-python",
   "name": "python",
   "nbconvert_exporter": "python",
   "pygments_lexer": "ipython3",
   "version": "3.7.3"
  }
 },
 "nbformat": 4,
 "nbformat_minor": 2
}
