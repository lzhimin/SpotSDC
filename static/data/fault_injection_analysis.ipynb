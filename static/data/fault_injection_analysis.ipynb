{
 "cells": [
  {
   "cell_type": "markdown",
   "metadata": {},
   "source": [
    "# SDC Ratio and SDC Impact\n",
    "\n",
    "SDC ratio is a stable metrics. If fault injection campaign sample the same program many time and calculate the SDC ratio, for each campaign the SDC ratio will be the same.\n",
    "\n",
    "SDC Impact is a unstable metrics. For each fault injection campaign program's expected SDC impact may change a lot."
   ]
  },
  {
   "cell_type": "code",
   "execution_count": 1,
   "metadata": {
    "collapsed": true
   },
   "outputs": [],
   "source": [
    "import random\n",
    "import numpy as np\n",
    "import seaborn as sns\n",
    "import matplotlib.pyplot as plt\n",
    "import pandas as pd\n",
    "import math\n",
    "from scipy.stats import iqr"
   ]
  },
  {
   "cell_type": "code",
   "execution_count": 36,
   "metadata": {
    "collapsed": false
   },
   "outputs": [],
   "source": [
    "cg_df = pd.read_csv(\"cg_complete.csv\")\n",
    "#cg_df = pd.read_csv(\"fft_exhaust.csv\")\n",
    "highbit_dataset = cg_df[cg_df.bit > 32]\n",
    "exp_dataset = cg_df[cg_df.bit > 52]\n",
    "mantissa_dataset = cg_df[cg_df.bit < 53]"
   ]
  },
  {
   "cell_type": "code",
   "execution_count": 3,
   "metadata": {
    "collapsed": false
   },
   "outputs": [],
   "source": [
    "def calculateSDCratio(df, line, rescale_ratio=1):\n",
    "    temp = df[df.Line == line]\n",
    "    numberOfFaultInjection = len(temp)\n",
    "    numberOfSDC = len(temp[temp.outcome == \"SDC\"])\n",
    "\n",
    "    if numberOfFaultInjection is not 0: \n",
    "        return float(numberOfSDC)/numberOfFaultInjection * rescale_ratio\n",
    "    else:\n",
    "        return 0\n",
    "    \n",
    "def calculateExpectedSDCImpact(df, line, rascale_ratio=1):\n",
    "    temp = df[df.Line == line]\n",
    "    temp = temp[temp.diffnormr != float(\"inf\")]\n",
    "    temp = temp[temp.diffnormr != float(\"-inf\")]\n",
    "    temp = temp[temp.diffnormr.notnull()]\n",
    "\n",
    "    if len(temp) == 0:\n",
    "        return 0\n",
    "    else:\n",
    "        temp = temp.diffnormr.abs()\n",
    "    \n",
    "    l = len(temp)\n",
    "    temp = np.sum(temp/l)\n",
    "    \n",
    "    if temp * rascale_ratio < 1:\n",
    "        return temp * rascale_ratio\n",
    "    \n",
    "    return np.log(temp * rascale_ratio)\n",
    "\n",
    "def sampleFunction(dataset, sample_size):\n",
    "    return dataset.sample(n=sample_size)\n",
    "\n",
    "def iteractiveSampleFunction(dataset, sample_size, filter_bit):\n",
    "    filter_dataset = dataset[dataset.bit > filter_bit-1]\n",
    "    return filter_dataset.sample(n=sample_size)\n",
    "\n",
    "def iteractiveSampling(dataset, sample_size, iteration=10):\n",
    "    sample_size_each_iter = sample_size/iteration\n",
    "    sample = []\n",
    "    \n",
    "    mantissa_lowest_SDC_bit = 1\n",
    "    mantissa_highest_bit = 64\n",
    "    lowest_SDC_bit = 0\n",
    "    \n",
    "    for i in range(iteration):\n",
    "        \n",
    "        current_iter_sample = iteractiveSampleFunction(dataset, sample_size_each_iter, mantissa_lowest_SDC_bit)\n",
    "        current_lowest_SDC_bit = current_iter_sample[current_iter_sample.outcome == \"SDC\"][\"bit\"].min()\n",
    "        \n",
    "        sample.append((mantissa_lowest_SDC_bit,current_iter_sample))\n",
    "        \n",
    "        #check the lowest impact bit\n",
    "        if(lowest_SDC_bit < current_lowest_SDC_bit):\n",
    "            lowest_SDC_bit = current_lowest_SDC_bit\n",
    "        \n",
    "        if(lowest_SDC_bit > int((mantissa_highest_bit + mantissa_lowest_SDC_bit)/2)):\n",
    "            mantissa_lowest_SDC_bit = int((mantissa_highest_bit + mantissa_lowest_SDC_bit)/2)\n",
    "        else:\n",
    "            mantissa_lowest_SDC_bit = lowest_SDC_bit\n",
    "    return sample\n",
    "\n",
    "def calculateSDCratio_iteractiveSampling(data, line):\n",
    "\n",
    "    totalnumberofSDC = 0\n",
    "    totalFaultInjection = 0\n",
    "    for sample in data:\n",
    "        temp = sample[1][sample[1].Line == line]\n",
    "        numberOfFaultInjection = len(temp)\n",
    "        numberOfSDC = len(temp[temp.outcome == \"SDC\"])\n",
    "        \n",
    "        totalnumberofSDC += numberOfSDC\n",
    "        totalFaultInjection += (numberOfFaultInjection * 64.0/(64.0 - sample[0] + 1.0))\n",
    "\n",
    "    if totalnumberofSDC is 0:\n",
    "        return 0\n",
    "    else:\n",
    "        return float(totalnumberofSDC)/totalFaultInjection\n",
    "\n",
    "\n",
    "def calculateSDCImpact_iteractiveSampling(data, line):\n",
    "    \n",
    "    SDC_of_each_iteration = []\n",
    "    for sample in data:\n",
    "        temp = sample[1][sample[1].Line == line]\n",
    "        temp = temp[temp.diffnormr != float(\"inf\")]\n",
    "        temp = temp[temp.diffnormr != float(\"-inf\")]\n",
    "        temp = temp[temp.diffnormr.notnull()]\n",
    "        \n",
    "        if len(temp) is 0:\n",
    "            SDC_of_each_iteration.append(0)\n",
    "        else:\n",
    "            temp = temp.diffnormr.abs()\n",
    "            l = len(temp)\n",
    "            temp = np.sum(temp/l)\n",
    "            \n",
    "            SDC_of_each_iteration.append(temp * ((64.0-sample[0]+1)/64.0))\n",
    "\n",
    "    #if line == 725:\n",
    "    #    print SDC_of_each_iteration\n",
    "    #print \"##########################################\"\n",
    "    \n",
    "    if np.sum(SDC_of_each_iteration) < 1:\n",
    "        return np.sum(SDC_of_each_iteration)\n",
    "    #print np.sum(SDC_of_each_iteration)\n",
    "    \n",
    "    return np.log(np.sum(SDC_of_each_iteration))\n",
    "\n",
    "each_line_sdc_ratio_distribution_random = {}\n",
    "each_line_sdc_ratio_distribution_hightbit = {}\n",
    "each_line_sdc_ratio_distribution_iterative = {}\n",
    "\n",
    "each_line_expected_sdc_impact_distribution_random = {}\n",
    "each_line_expected_sdc_impact_distribution_highbit= {}\n",
    "each_line_expected_sdc_impact_distribution_iterative = {}\n",
    "\n",
    "lines = []\n",
    "line_sample = list(cg_df.Line.unique())\n",
    "\n",
    "lines = line_sample\n",
    "#for i in range(15):    \n",
    "#    lines.append(line_sample.pop(int(random.random() * len(line_sample)))) \n",
    "\n",
    "    \n",
    "for i in range(10):\n",
    "    exp_sample = sampleFunction(exp_dataset, int(500 * 0.8))\n",
    "    mantissa_sample = sampleFunction(mantissa_dataset, int(500 * 0.2))\n",
    "    random_sample = sampleFunction(cg_df, 500)\n",
    "    iteractive_sample = iteractiveSampling(cg_df, 500)\n",
    "    \n",
    "    for line in lines:\n",
    "        #init the dictionary\n",
    "        if line not in each_line_sdc_ratio_distribution_random:\n",
    "            #SDC ratio\n",
    "            each_line_sdc_ratio_distribution_random[line] = []\n",
    "            each_line_sdc_ratio_distribution_hightbit[line] = []\n",
    "            each_line_sdc_ratio_distribution_iterative[line] = []\n",
    "            \n",
    "            #SDC impact\n",
    "            each_line_expected_sdc_impact_distribution_random[line] = []\n",
    "            each_line_expected_sdc_impact_distribution_highbit[line] = []\n",
    "            each_line_expected_sdc_impact_distribution_iterative[line] = []\n",
    "            \n",
    "        #SDC ratio\n",
    "        each_line_sdc_ratio_distribution_random[line].append(calculateSDCratio(random_sample, line))\n",
    "        each_line_sdc_ratio_distribution_hightbit[line].append(calculateSDCratio(exp_sample, line) * 12.0/64.0 + calculateSDCratio(mantissa_sample, line) * 52.0/64.0)\n",
    "        each_line_sdc_ratio_distribution_iterative[line].append(calculateSDCratio_iteractiveSampling(iteractive_sample, line))\n",
    "        \n",
    "        #SDC impact\n",
    "        each_line_expected_sdc_impact_distribution_random[line].append(calculateExpectedSDCImpact(random_sample, line))\n",
    "        each_line_expected_sdc_impact_distribution_highbit[line].append(calculateExpectedSDCImpact(exp_sample, line, 12.0/64.0)  + calculateExpectedSDCImpact(mantissa_sample, line, 52.0/64.0) )\n",
    "        each_line_expected_sdc_impact_distribution_iterative[line].append(calculateSDCImpact_iteractiveSampling(iteractive_sample, line))\n"
   ]
  },
  {
   "cell_type": "markdown",
   "metadata": {},
   "source": [
    "# SDC Ratio and SDC Impact"
   ]
  },
  {
   "cell_type": "code",
   "execution_count": 4,
   "metadata": {
    "collapsed": false,
    "scrolled": false
   },
   "outputs": [],
   "source": [
    "# SDC ratio\n",
    "random_expected_sdc = []\n",
    "random_var_sdc = []\n",
    "\n",
    "highbit_expected_sdc= []\n",
    "highbit_var_sdc = []\n",
    "\n",
    "iteractive_expected_sdc = []\n",
    "iteractive_var_sdc = []\n",
    "\n",
    "golden_sdc = []\n",
    "golden_sdc_label = []\n",
    "\n",
    "#SDC impact\n",
    "random_expected_impact = []\n",
    "random_var_impact = []\n",
    "\n",
    "highbit_expected_impact = []\n",
    "highbit_var_impact = []\n",
    "\n",
    "iteractive_expected_impact = []\n",
    "iteractive_var_impact = []\n",
    "\n",
    "golden_impact = []\n",
    "\n",
    "for line in lines:\n",
    "\n",
    "    #SDC ratio\n",
    "    random_expected_sdc.append(np.mean(each_line_sdc_ratio_distribution_random[line]))\n",
    "    random_var_sdc.append(np.var(each_line_sdc_ratio_distribution_random[line]))\n",
    "    \n",
    "    highbit_expected_sdc.append(np.mean(each_line_sdc_ratio_distribution_hightbit[line]))\n",
    "    highbit_var_sdc.append(np.var(each_line_sdc_ratio_distribution_hightbit[line]))\n",
    "    \n",
    "    iteractive_expected_sdc.append(np.mean(each_line_sdc_ratio_distribution_iterative[line]))\n",
    "    iteractive_var_sdc.append(np.var(each_line_sdc_ratio_distribution_iterative[line]))\n",
    "    \n",
    "    golden_sdc.append(calculateSDCratio(cg_df, line))\n",
    "    \n",
    "    #SDC impact\n",
    "    random_expected_impact.append(np.mean(each_line_expected_sdc_impact_distribution_random[line]))\n",
    "    random_var_impact.append(np.var(each_line_expected_sdc_impact_distribution_random[line]))\n",
    "    \n",
    "    highbit_expected_impact.append(np.mean(each_line_expected_sdc_impact_distribution_highbit[line]))\n",
    "    highbit_var_impact.append(np.var(each_line_expected_sdc_impact_distribution_highbit[line]))\n",
    "    \n",
    "    iteractive_expected_impact.append(np.mean(each_line_expected_sdc_impact_distribution_iterative[line]))\n",
    "    iteractive_var_impact.append(np.var(each_line_expected_sdc_impact_distribution_iterative[line]))\n",
    "    \n",
    "    golden_impact.append(calculateExpectedSDCImpact(cg_df, line))\n",
    "    golden_sdc_label.append(line)"
   ]
  },
  {
   "cell_type": "markdown",
   "metadata": {},
   "source": [
    "# SDC Ratio "
   ]
  },
  {
   "cell_type": "code",
   "execution_count": 5,
   "metadata": {
    "collapsed": false
   },
   "outputs": [
    {
     "name": "stderr",
     "output_type": "stream",
     "text": [
      "/anaconda/lib/python2.7/site-packages/scipy/stats/stats.py:1626: FutureWarning: Using a non-tuple sequence for multidimensional indexing is deprecated; use `arr[tuple(seq)]` instead of `arr[seq]`. In the future this will be interpreted as an array index, `arr[np.array(seq)]`, which will result either in an error or a different result.\n",
      "  return np.add.reduce(sorted[indexer] * weights, axis=axis) / sumval\n"
     ]
    },
    {
     "data": {
      "image/png": "[encoded data removed]",
      "text/plain": [
       "<matplotlib.figure.Figure at 0x12778ef50>"
      ]
     },
     "metadata": {},
     "output_type": "display_data"
    }
   ],
   "source": [
    "import seaborn as sns\n",
    "\n",
    "data = []\n",
    "\n",
    "def parseDataToFrameFormat(data, category):\n",
    "    arrays = []\n",
    "    for key in data:\n",
    "        for value in data[key]:\n",
    "            arrays.append([key, value, category])\n",
    "    return arrays \n",
    "\n",
    "data = data + parseDataToFrameFormat(each_line_sdc_ratio_distribution_random, 'random')\n",
    "data = data + parseDataToFrameFormat(each_line_sdc_ratio_distribution_hightbit, 'highbit')\n",
    "data = data + parseDataToFrameFormat(each_line_sdc_ratio_distribution_iterative, 'iteractive')\n",
    "\n",
    "for i in range(len(golden_sdc_label)):\n",
    "    data.append([golden_sdc_label[i], golden_sdc[i], 'golden'])\n",
    "\n",
    "sns.set(style=\"whitegrid\")\n",
    "\n",
    "df = pd.DataFrame(data, columns=['Line', 'SDC Ratio', 'Category'])\n",
    "#print (df)\n",
    "plt.title('Sampling Methods Test on Conjugate Gradient Dataset')\n",
    "\n",
    "ax = sns.barplot(x=\"Line\", y=\"SDC Ratio\", hue=\"Category\", data=df, errwidth=1, capsize=0.15, ci=68)\n",
    "#sns.palplot(sns.color_palette(\"hls\", 8))\n",
    "plt.legend(loc='center left', bbox_to_anchor=(1.0, 0.5))\n",
    "plt.show()"
   ]
  },
  {
   "cell_type": "markdown",
   "metadata": {},
   "source": [
    "# SDC Impact"
   ]
  },
  {
   "cell_type": "code",
   "execution_count": 6,
   "metadata": {
    "collapsed": false
   },
   "outputs": [
    {
     "data": {
      "image/png": "[encoded data removed]",
      "text/plain": [
       "<matplotlib.figure.Figure at 0x12904b210>"
      ]
     },
     "metadata": {},
     "output_type": "display_data"
    }
   ],
   "source": [
    "data = []\n",
    "\n",
    "def parseDataToFrameFormat(data, category):\n",
    "    arrays = []\n",
    "    for key in data:\n",
    "        for value in data[key]:\n",
    "            arrays.append([key, value, category])\n",
    "    return arrays \n",
    "\n",
    "data = data + parseDataToFrameFormat(each_line_expected_sdc_impact_distribution_random, 'random')\n",
    "data = data + parseDataToFrameFormat(each_line_expected_sdc_impact_distribution_highbit, 'highbit')\n",
    "data = data + parseDataToFrameFormat(each_line_expected_sdc_impact_distribution_iterative, 'iterative')\n",
    "\n",
    "for i in range(len(golden_sdc_label)):\n",
    "    data.append([golden_sdc_label[i], golden_impact[i], 'golden'])\n",
    "\n",
    "df = pd.DataFrame(data, columns=['Line', 'SDC Impact', 'Category'])\n",
    "\n",
    "plt.title('Sampling Methods Test on Conjugate Gradient Dataset')\n",
    "sns.set(style=\"whitegrid\")\n",
    "ax = sns.barplot(x=\"Line\", y=\"SDC Impact\", hue=\"Category\", data=df, errwidth=1, capsize=0.2, ci=68)\n",
    "#ax.get_legend().remove()\n",
    "plt.legend(loc='center left', bbox_to_anchor=(1.0, 0.5))\n",
    "plt.show()"
   ]
  }
 ],
 "metadata": {
  "kernelspec": {
   "display_name": "Python 2",
   "language": "python",
   "name": "python2"
  },
  "language_info": {
   "codemirror_mode": {
    "name": "ipython",
    "version": 2
   },
   "file_extension": ".py",
   "mimetype": "text/x-python",
   "name": "python",
   "nbconvert_exporter": "python",
   "pygments_lexer": "ipython2",
   "version": "2.7.6"
  }
 },
 "nbformat": 4,
 "nbformat_minor": 2
}
