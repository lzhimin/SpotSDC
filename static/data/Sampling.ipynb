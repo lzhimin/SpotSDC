{
 "cells": [
  {
   "cell_type": "markdown",
   "metadata": {},
   "source": [
    "# Sampling Problem"
   ]
  },
  {
   "cell_type": "markdown",
   "metadata": {},
   "source": [
    "Understanding a program's resilence characterisitc usually need to a lot of fault injection experiments to test the program's multiple region. However, the potential fault injection location are tremendous which is almost impossible test all of them. A reasonable sampling strategy, which get a small fraction of the data but get better understanding,  are necessary to develop. \n",
    "\n",
    "Previous experiment teach us, low mantissa bit have less impact compare to high mantissa bit and exponent bit. In this study, we propose a sampling strategy which extract small fraction of the sample from low mantissa bit and large fraction from the high mantissa and exponent bit. \n",
    "\n",
    "Our experiment shows that our sampling strategy have similar result with the grand truth. Compare to the random sampling, our method have low standard deviation.\n",
    "\n",
    "\n",
    "1. what is the edge between high bit and low bit. 24/64\n",
    "2. what's the percentage come from low bit, what's the percentage come from high bit\n"
   ]
  },
  {
   "cell_type": "code",
   "execution_count": 37,
   "metadata": {
    "collapsed": true
   },
   "outputs": [],
   "source": [
    "import random\n",
    "import numpy as np\n",
    "import seaborn as sns\n",
    "import matplotlib.pyplot as plt\n",
    "import pandas as pd\n",
    "import math"
   ]
  },
  {
   "cell_type": "code",
   "execution_count": 38,
   "metadata": {
    "collapsed": false
   },
   "outputs": [
    {
     "name": "stdout",
     "output_type": "stream",
     "text": [
      "Done\n"
     ]
    }
   ],
   "source": [
    "dataset = []\n",
    "highbit_dataset = []\n",
    "allline = set()\n",
    "\n",
    "with open('cg_complete.csv') as f:\n",
    "    lines = f.readlines()\n",
    "\n",
    "attributes = lines.pop(0)    \n",
    "outcomeindex = attributes.strip('\\n\\t ').split(',').index('outcome')\n",
    " \n",
    "\n",
    "for line in lines:\n",
    "    line = line.strip('\\r\\n').split(',')\n",
    "    allline.add(line[2])\n",
    "    dataset.append(line)\n",
    "\n",
    "for d in dataset:\n",
    "    if float(d[-1]) > 40:\n",
    "        highbit_dataset.append(d)\n",
    "\n",
    "#calculate the sdc ratio base on the given data set\n",
    "def calculate_SDC_ratio(data, ratio = 1.0):\n",
    "    dataset = {'Masked':0.0, 'SDC':0.0, 'DUE':0.0}\n",
    "    for d in data:\n",
    "        dataset[d[outcomeindex]] += 1 \n",
    "    return dataset['SDC']/(dataset['SDC'] + dataset['Masked'] + dataset['DUE']) * ratio\n",
    "    \n",
    "def calculate_SDC_Impact(data):\n",
    "    result = {}\n",
    "    for d in data:\n",
    "        if d[outcomeindex-1] != 'nan':\n",
    "            if d[2] in result:\n",
    "                result[d[2]].append(float(d[outcomeindex-1]))\n",
    "            else:\n",
    "                result[d[2]] = [float(d[outcomeindex-1])]\n",
    "    \n",
    "    for key in result:\n",
    "        result[key] = np.log(np.mean(result[key]))\n",
    "    \n",
    "    return result\n",
    "\n",
    "def calculate_SDC_ratio_local(data, ratio=1.0):\n",
    "    lines = {}\n",
    "    result = {}\n",
    "    \n",
    "    for d in data:\n",
    "        if d[2] in lines:\n",
    "            lines[d[2]][d[outcomeindex]] += 1\n",
    "        else:\n",
    "            lines[d[2]] = {'Masked':0.0, 'SDC':0.0, 'DUE':0.0}\n",
    "    \n",
    "    for key, value in lines.iteritems():\n",
    "        count = lines[key]['Masked'] + lines[key]['SDC'] + lines[key]['DUE']\n",
    "        if count == 0:\n",
    "            result[key] = 0\n",
    "        else:\n",
    "            result[key] = lines[key]['SDC']/ count * ratio\n",
    "        \n",
    "    return result\n",
    "\n",
    "def sampling(data, sample_size =1000):\n",
    "    sample = []\n",
    "    data_size = len(data)\n",
    "    \n",
    "    for i in range(sample_size):\n",
    "        index = np.random.randint(data_size)\n",
    "        sample.append(data[index])\n",
    "    return sample\n",
    "\n",
    "def sampling_high_bit(data, sample_size = 1000):\n",
    "    sample = []\n",
    "    data_size = len(data)\n",
    "    \n",
    "    for i in range(sample_size):\n",
    "        index = np.random.randint(data_size)\n",
    "        sample.append(data[index])\n",
    "    return sample\n",
    "\n",
    "\n",
    "sdc_global_exhaust = []\n",
    "sdc_global_highbit = []\n",
    "\n",
    "sdc_local_exhaust = {}\n",
    "sdc_local_highbit = {}\n",
    "\n",
    "sdc_impact_exhaust = {}\n",
    "sdc_impact_highbit = {}\n",
    "\n",
    "for line in allline:\n",
    "    sdc_local_exhaust[line] = []\n",
    "    sdc_local_highbit[line] = []\n",
    "    sdc_impact_exhaust[line] = []\n",
    "    sdc_impact_highbit[line] = []\n",
    "\n",
    "for i in range(1000):\n",
    "    sample_exhaust = sampling(dataset)\n",
    "    sample_highbit = sampling(highbit_dataset)\n",
    "    \n",
    "    sdc_global_exhaust.append(calculate_SDC_ratio(sample_exhaust))\n",
    "    sdc_global_highbit.append(calculate_SDC_ratio(sample_highbit, 24.0/64))\n",
    "    \n",
    "    #sdc local\n",
    "    exhaust_item = calculate_SDC_ratio_local(sample_exhaust)\n",
    "    highbit_item = calculate_SDC_ratio_local(sample_highbit, 24.0/64)\n",
    "    \n",
    "    for key in exhaust_item:\n",
    "        sdc_local_exhaust[key].append(exhaust_item[key])\n",
    "    for key in highbit_item:\n",
    "        sdc_local_highbit[key].append(highbit_item[key])\n",
    "    \n",
    "    #sdc impact local\n",
    "    exhaust_item = calculate_SDC_Impact(sample_exhaust)\n",
    "    highbit_item = calculate_SDC_Impact(sample_highbit)\n",
    "\n",
    "    for key in exhaust_item:\n",
    "        sdc_impact_exhaust[key].append(exhaust_item[key])\n",
    "    for key in highbit_item:\n",
    "        sdc_impact_highbit[key].append(highbit_item[key])\n",
    "\n",
    "print \"Done\"\n",
    "#sample = sampling(dataset)\n",
    "#print calculate_SDC_ratio(dataset)\n",
    "#print calculate_SDC_ratio(sample)\n",
    "#print calculate_SDC_Impact(sample)\n",
    "#print calculate_SDC_ratio_local(sample)"
   ]
  },
  {
   "cell_type": "markdown",
   "metadata": {},
   "source": [
    "## Global SDC Ratio"
   ]
  },
  {
   "cell_type": "code",
   "execution_count": 39,
   "metadata": {
    "collapsed": false
   },
   "outputs": [
    {
     "name": "stdout",
     "output_type": "stream",
     "text": [
      "0.083386\n",
      "0.009033105999599472\n",
      "0.083636625\n",
      "0.004749875575673009\n"
     ]
    }
   ],
   "source": [
    "print np.mean(sdc_global_exhaust)\n",
    "print np.std(sdc_global_exhaust)\n",
    "\n",
    "print np.mean(sdc_global_highbit)\n",
    "print np.std(sdc_global_highbit)"
   ]
  },
  {
   "cell_type": "markdown",
   "metadata": {},
   "source": [
    "# SDC local ratio"
   ]
  },
  {
   "cell_type": "code",
   "execution_count": 40,
   "metadata": {
    "collapsed": false
   },
   "outputs": [
    {
     "name": "stdout",
     "output_type": "stream",
     "text": [
      "167    0.034211\n",
      "175    0.101413\n",
      "25     0.012407\n",
      "33     0.051609\n",
      "40     0.014992\n",
      "48     0.040201\n",
      "57     0.045064\n",
      "75     0.236062\n",
      "76     0.075978\n",
      "82     0.070900\n",
      "83     0.155085\n",
      "84     0.067093\n",
      "87     0.042985\n",
      "90     0.165317\n",
      "91     0.163822\n",
      "dtype: float64\n",
      "167    0.018629\n",
      "175    0.055799\n",
      "25     0.006697\n",
      "33     0.028524\n",
      "40     0.009034\n",
      "48     0.021820\n",
      "57     0.024286\n",
      "75     0.133045\n",
      "76     0.038307\n",
      "82     0.042175\n",
      "83     0.083126\n",
      "84     0.045707\n",
      "87     0.028568\n",
      "90     0.082022\n",
      "91     0.081727\n",
      "dtype: float64\n"
     ]
    },
    {
     "data": {
      "image/png": "[encoded data removed]",
      "text/plain": [
       "<matplotlib.figure.Figure at 0x11f043d10>"
      ]
     },
     "metadata": {},
     "output_type": "display_data"
    },
    {
     "data": {
      "image/png": "[encoded data removed]",
      "text/plain": [
       "<matplotlib.figure.Figure at 0x11f2f70d0>"
      ]
     },
     "metadata": {},
     "output_type": "display_data"
    },
    {
     "data": {
      "image/png": "[encoded data removed]",
      "text/plain": [
       "<matplotlib.figure.Figure at 0x11de7a810>"
      ]
     },
     "metadata": {},
     "output_type": "display_data"
    }
   ],
   "source": [
    "for key in sdc_local_exhaust:\n",
    "    while len(sdc_local_exhaust[key]) < 1000:\n",
    "        sdc_local_exhaust[key].append(0)\n",
    "    while len(sdc_local_highbit[key]) < 1000:\n",
    "        sdc_local_highbit[key].append(0)\n",
    "\n",
    "exhaust = pd.DataFrame.from_dict(sdc_local_exhaust)\n",
    "highbit = pd.DataFrame.from_dict(sdc_local_highbit)\n",
    "\n",
    "grandtruth = calculate_SDC_ratio_local(dataset)\n",
    "name = []\n",
    "values = []\n",
    "\n",
    "for key in sorted(grandtruth.iterkeys()):\n",
    "    name.append(key)\n",
    "    values.append(grandtruth[key])\n",
    "\n",
    "print exhaust.std()\n",
    "print highbit.std()\n",
    "sns.set(style='white')\n",
    "plt.close()\n",
    "#plt.subplot(3, 1, 1)\n",
    "sns.stripplot(name, values)\n",
    "#plt.subplot(3, 1, 2)\n",
    "plt.figure()\n",
    "sns.boxplot(data=exhaust)\n",
    "#plt.subplot(3, 1, 3)\n",
    "plt.figure()\n",
    "sns.boxplot(data=highbit)\n",
    "#print sdc_local.keys()\n",
    "#print sdc\n",
    "#sns.boxplot(sdc_local.keys(), sdc_local.values())\n",
    "plt.show()\n"
   ]
  },
  {
   "cell_type": "markdown",
   "metadata": {},
   "source": [
    "# SDC Impact"
   ]
  },
  {
   "cell_type": "code",
   "execution_count": 8,
   "metadata": {
    "collapsed": false
   },
   "outputs": [
    {
     "data": {
      "image/png": "[encoded data removed]",
      "text/plain": [
       "<matplotlib.figure.Figure at 0x12e618d50>"
      ]
     },
     "metadata": {},
     "output_type": "display_data"
    },
    {
     "data": {
      "image/png": "[encoded data removed]",
      "text/plain": [
       "<matplotlib.figure.Figure at 0x12e618c50>"
      ]
     },
     "metadata": {},
     "output_type": "display_data"
    }
   ],
   "source": [
    "#print sdc_impact\n",
    "\n",
    "for key in sdc_impact_exhaust:\n",
    "    while len(sdc_impact_exhaust[key]) < 1000:\n",
    "        sdc_impact_exhaust[key].append(0)\n",
    "    while len(sdc_impact_highbit[key]) < 1000:\n",
    "        sdc_impact_highbit[key].append(0)\n",
    "        \n",
    "exhaust = pd.DataFrame.from_dict(sdc_impact_exhaust)\n",
    "highbit = pd.DataFrame.from_dict(sdc_impact_highbit)\n",
    "\n",
    "grandtruth = calculate_SDC_Impact(dataset)\n",
    "name = []\n",
    "values = []\n",
    "for k in sorted(grandtruth.iterkeys()):\n",
    "    name.append(k)\n",
    "    values.append(grandtruth[k])\n",
    "sns.stripplot(name, values)\n",
    "\n",
    "#plt.figure()\n",
    "#dataframe = pd.DataFrame.from_dict(sdc_impact)\n",
    "#plt.figure()\n",
    "sns.boxplot(data=exhaust)\n",
    "#plt.subplot(3, 1, 3)\n",
    "plt.figure()\n",
    "sns.boxplot(data=highbit)\n",
    "plt.show()\n"
   ]
  },
  {
   "cell_type": "markdown",
   "metadata": {
    "collapsed": true
   },
   "source": [
    "# Inject Error Distribution"
   ]
  },
  {
   "cell_type": "code",
   "execution_count": 54,
   "metadata": {
    "collapsed": false
   },
   "outputs": [
    {
     "data": {
      "text/plain": [
       "'File_index,Function,Line,Variable,out_xor,out_xor_relative,diffnormr,outcome,iter,bit\\r\\n'"
      ]
     },
     "execution_count": 54,
     "metadata": {},
     "output_type": "execute_result"
    }
   ],
   "source": [
    "#data property\n",
    "attributes"
   ]
  },
  {
   "cell_type": "code",
   "execution_count": 19,
   "metadata": {
    "collapsed": false
   },
   "outputs": [
    {
     "name": "stdout",
     "output_type": "stream",
     "text": [
      "['25', '82', '48', '33', '57', '40', '76', '75', '83', '91', '90', '175', '167', '87', '84']\n"
     ]
    },
    {
     "data": {
      "image/png": "[encoded data removed]",
      "text/plain": [
       "<matplotlib.figure.Figure at 0x11dc70a90>"
      ]
     },
     "metadata": {},
     "output_type": "display_data"
    }
   ],
   "source": [
    "input_error = {}\n",
    "log_input_error = {}\n",
    "numebrOfNaN = 0\n",
    "numberOfInf = 0\n",
    "numberOfZero = 0\n",
    "\n",
    "line_num = '84'\n",
    "\n",
    "for item in dataset:\n",
    "    out_xor = abs(float(item[5]))\n",
    "    \n",
    "    if item[2] not in input_error:\n",
    "        input_error[item[2]] = []\n",
    "        log_input_error[item[2]] = []\n",
    "    \n",
    "    #some inject error is NAN\n",
    "    if math.isnan(out_xor):\n",
    "        numebrOfNaN = numebrOfNaN + 1\n",
    "        continue\n",
    "    \n",
    "    #some inject error is Inf\n",
    "    if math.isinf(out_xor):\n",
    "        numberOfInf = numberOfInf + 1\n",
    "        continue\n",
    "    \n",
    "    if out_xor == 0:\n",
    "        numberOfZero = numberOfZero + 1\n",
    "        continue\n",
    "        \n",
    "    input_error[item[2]].append(out_xor)\n",
    "\n",
    "print input_error.keys()\n",
    "# inject error's maximum and minimum\n",
    "MAX_out_xor = np.max(input_error[line_num])\n",
    "MIN_out_xor = np.min(input_error[line_num])\n",
    "     \n",
    "for item in dataset:\n",
    "    out_xor = abs(float(item[4]))\n",
    "    if out_xor == 0:\n",
    "        log_input_error[item[2]].append(math.log(MIN_out_xor))\n",
    "    elif math.isnan(out_xor):\n",
    "        continue\n",
    "    else:\n",
    "        log_input_error[item[2]].append(math.log(out_xor))\n",
    "    \n",
    "#np.histogram(log_input_error)\n",
    "plt.hist(log_input_error[line_num], bins='auto')\n",
    "plt.show()"
   ]
  },
  {
   "cell_type": "markdown",
   "metadata": {},
   "source": [
    "# Output Error Distribution"
   ]
  },
  {
   "cell_type": "code",
   "execution_count": 7,
   "metadata": {
    "collapsed": false
   },
   "outputs": [
    {
     "data": {
      "image/png": "[encoded data removed]",
      "text/plain": [
       "<matplotlib.figure.Figure at 0x11ed62850>"
      ]
     },
     "metadata": {},
     "output_type": "display_data"
    }
   ],
   "source": [
    "output_error = []\n",
    "log_output_error = []\n",
    "numebrOfNaN = 0\n",
    "numberOfInf = 0\n",
    "numberOfZero = 0\n",
    "\n",
    "for item in dataset:\n",
    "    output = abs(float(item[6]))\n",
    "    #some inject error is NAN\n",
    "    if math.isnan(output):\n",
    "        numebrOfNaN = numebrOfNaN + 1\n",
    "        continue\n",
    "    \n",
    "    #some inject error is Inf\n",
    "    if math.isinf(output):\n",
    "        numberOfInf = numberOfInf + 1\n",
    "        continue\n",
    "    \n",
    "    if output == 0:\n",
    "        numberOfZero = numberOfZero + 1\n",
    "        continue\n",
    "        \n",
    "    output_error.append(output)\n",
    "\n",
    "# inject error's maximum and minimum\n",
    "MAX_output_error = np.max(output_error)\n",
    "MIN_output_error = np.min(output_error)\n",
    "    \n",
    "\n",
    "outputdoubleNorm = 0\n",
    "\n",
    "for item in dataset:\n",
    "    output = abs(float(item[6]))\n",
    "    \n",
    "    if output > 0.1:\n",
    "        outputdoubleNorm = outputdoubleNorm + 1\n",
    "    \n",
    "    if output == 0:\n",
    "        log_output_error.append(math.log(MIN_output_error))\n",
    "    elif math.isnan(output):\n",
    "        continue\n",
    "    elif math.isinf(output):\n",
    "        log_output_error.append(math.log(MAX_output_error))\n",
    "    else:\n",
    "        log_output_error.append(math.log(output))\n",
    "    \n",
    "plt.hist(log_output_error, bins='auto')\n",
    "plt.show()"
   ]
  },
  {
   "cell_type": "code",
   "execution_count": 36,
   "metadata": {
    "collapsed": false
   },
   "outputs": [
    {
     "data": {
      "image/png": "[encoded data removed]",
      "text/plain": [
       "<matplotlib.figure.Figure at 0x11e242210>"
      ]
     },
     "metadata": {},
     "output_type": "display_data"
    }
   ],
   "source": [
    "sns.set(style='white')\n",
    "sns.countplot(x='outcome',order = ['DUE', 'Masked', 'SDC'],  data=pd.DataFrame(dataset, columns=attributes.strip('\\r\\n ').split(',')))\n",
    "#sns.color_palette(color).as_hex()\n",
    "\n",
    "plt.show()"
   ]
  },
  {
   "cell_type": "markdown",
   "metadata": {},
   "source": [
    "Why people care about the error scale"
   ]
  }
 ],
 "metadata": {
  "kernelspec": {
   "display_name": "Python 2",
   "language": "python",
   "name": "python2"
  },
  "language_info": {
   "codemirror_mode": {
    "name": "ipython",
    "version": 2
   },
   "file_extension": ".py",
   "mimetype": "text/x-python",
   "name": "python",
   "nbconvert_exporter": "python",
   "pygments_lexer": "ipython2",
   "version": "2.7.13"
  }
 },
 "nbformat": 4,
 "nbformat_minor": 2
}
