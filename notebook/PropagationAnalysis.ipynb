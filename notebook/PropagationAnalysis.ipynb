{
 "cells": [
  {
   "cell_type": "markdown",
   "metadata": {},
   "source": [
    "# Problem need to be addressed \n",
    "\n",
    "In this research, we proposal a new fault tolerance analysis technique - fault tolerance boundary is designed specific to the data variables.\n",
    "\n",
    "why the huristic work, or why it does not work.\n",
    "\n",
    "\n",
    "# Can you think a neural network method to understand program's property?\n",
    "# Understand the propagation value of the nearest neighbor.\n",
    "# Sampling method\n",
    "\n",
    "\n",
    "\n",
    "1. What's the fault tolerance boundary.\n",
    "2. It's a technique can be equivlent to the fault injection campaign.\n",
    "3. We propose a method to approximate the boundary.\n",
    "    1. heuristic method to measure the boundary.\n",
    "    2. correlation analysis between variables to understand the relationship between the fault tolerance across variables.\n",
    "4. label propagation and active learning.\n",
    "5. The why masked prediction fail also can we use the SDC run to predict the program's outcome"
   ]
  },
  {
   "cell_type": "code",
   "execution_count": 1,
   "metadata": {
    "collapsed": true
   },
   "outputs": [],
   "source": [
    "import numpy as np\n",
    "import seaborn as sns\n",
    "import pandas as pd\n",
    "import os.path\n",
    "import matplotlib.pyplot as plt\n",
    "import random\n",
    "import math\n",
    "from IPython.core.debugger import set_trace\n",
    "from datetime import datetime\n",
    "import sys\n",
    "import time\n",
    "from utility.sampling import adaptiveSampling, activeSampling\n",
    "\n",
    "random.seed(datetime.now())"
   ]
  },
  {
   "cell_type": "code",
   "execution_count": 2,
   "metadata": {
    "collapsed": true
   },
   "outputs": [],
   "source": [
    "DATASET = \"lu\" #current available datasets fft, lu, cg, other potential dataset.,"
   ]
  },
  {
   "cell_type": "code",
   "execution_count": 3,
   "metadata": {
    "scrolled": true
   },
   "outputs": [
    {
     "name": "stdout",
     "output_type": "stream",
     "text": [
      "The SDC ratio in this experiment is 0.39011318312966736\n",
      "The size of the exhaust fault injection experiments 754176\n",
      "THe size of Masked case in fault injection experiments 459962.0\n"
     ]
    }
   ],
   "source": [
    "# Threshold that used to decide whether the final outcome is SDC or Masked. For the loading data\n",
    "# set, there are two different datasets. One is the exhaust fault injection campaign which contains\n",
    "# all the fault injection information. The other is the test data set which is the sample experiment \n",
    "# contain the detail propagation information used for the downstream propagation analysis.\n",
    "PROPAGATION_DATA_PATH = \"\"\n",
    "CAMPAIGN_DATA_PATH = \"\"\n",
    "PROPAGATION_INJECTION_DATA_PATH = \"\"\n",
    "THRESHOLD = 0\n",
    "BIT_SIZE = 0\n",
    "\n",
    "if DATASET == \"fft\":\n",
    "    PROPAGATION_DATA_PATH = \"../static/data/fft/fft_benchmark\"\n",
    "    CAMPAIGN_DATA_PATH = \"../static/data/fft/fft_injectlog.log\"\n",
    "    THRESHOLD = 0.001\n",
    "    BIT_SIZE = 64\n",
    "elif DATASET == \"cg\":\n",
    "    PROPAGATION_DATA_PATH = \"../static/data/cg/cg_in8\"\n",
    "    CAMPAIGN_DATA_PATH = \"../static/data/cg/cg_in8/injectlog.log\"\n",
    "    THRESHOLD = 0.07\n",
    "    BIT_SIZE = 64\n",
    "elif DATASET == \"lu\":\n",
    "    PROPAGATION_DATA_PATH = \"../static/data/lu/lu20000\"\n",
    "    CAMPAIGN_DATA_PATH = \"../static/data/lu/injectlog.log\"\n",
    "    THRESHOLD =  0.00001\n",
    "    BIT_SIZE = 64\n",
    "elif DATASET == \"bs\":\n",
    "    PROPAGATION_DATA_PATH = \"../static/data/bs/bs\"\n",
    "    CAMPAIGN_DATA_PATH = \"../static/data/bs/injectlog_complete.log\"\n",
    "    THRESHOLD = 0.0001\n",
    "    BIT_SIZE = 32\n",
    "elif DATASET == \"spmv\":\n",
    "    PROPAGATION_DATA_PATH = \"../static/data/spmv/\"\n",
    "    CAMPAIGN_DATA_PATH = \"../static/data/spmv/injectlog_complete.log\"\n",
    "    THRESHOLD = 0.0001\n",
    "    BIT_SIZE = 64\n",
    "     \n",
    "# The fault injection campaign experiment\n",
    "FAULT_INJECTION_CAMPAIGN = pd.read_csv(CAMPAIGN_DATA_PATH,  sep=\" \", names=['fileindex', 'file', 'linenum', 'variable','byte_num', 'corrupted','init_value','to', 'corrupt_value', 'mask', 'byte','expo', 'ss', 'op', 'diffnorm', 'empty'])\n",
    "\n",
    "# The size of the fault injection experiment\n",
    "SIZE = len(FAULT_INJECTION_CAMPAIGN)\n",
    "\n",
    "# The percentage of the test experiment over exhaust fault injection campaign.\n",
    "TEST_EXPERIMENT_NUMBER = int(SIZE * 0.1)\n",
    "\n",
    "# Golden Run\n",
    "GOLDEN_RUN = pd.read_csv(PROPAGATION_DATA_PATH+\"/golden.log\",  sep=\" \", names=['linenum', 'variable', 'value'])\n",
    "TEST_EXPERIMENTS = FAULT_INJECTION_CAMPAIGN.sample(n=TEST_EXPERIMENT_NUMBER, replace=True)\n",
    "#TEST_EXPERIMENTS = adaptiveSampling(FAULT_INJECTION_CAMPAIGN, GOLDEN_RUN, PROPAGATION_DATA_PATH, THRESHOLD)\n",
    "#TEST_EXPERIMENTS = FAULT_INJECTION_CAMPAIGN.loc[TEST_EXPERIMENTS,:]\n",
    "#TEST_EXPERIMENTS = pd.read_csv(PROPAGATION_DATA_PATH+\"/injectlog.log\",  sep=\" \", names=['fileindex', 'file', 'linenum', 'variable','byte_num', 'corrupted','init_value','to', 'corrupt_value', 'mask', 'byte','expo', 'ss', 'op', 'diffnorm', 'empty'])\n",
    "\n",
    "# SDC ratio of test experiments\n",
    "SDC_COUNT = 0\n",
    "FAULT_INJECTION_CAMPAIGN['diffnorm'] = FAULT_INJECTION_CAMPAIGN['diffnorm'].astype(float)\n",
    "SDC_COUNT = len(FAULT_INJECTION_CAMPAIGN.loc[FAULT_INJECTION_CAMPAIGN['diffnorm'] > THRESHOLD])\n",
    "        \n",
    "print(\"The SDC ratio in this experiment is\",SDC_COUNT/len(FAULT_INJECTION_CAMPAIGN))\n",
    "print(\"The size of the exhaust fault injection experiments\", len(FAULT_INJECTION_CAMPAIGN))\n",
    "print(\"THe size of Masked case in fault injection experiments\", (1 - SDC_COUNT/len(FAULT_INJECTION_CAMPAIGN)) *  len(FAULT_INJECTION_CAMPAIGN))"
   ]
  },
  {
   "cell_type": "markdown",
   "metadata": {},
   "source": [
    "# Golden Fault Injection Boundary\n",
    "Golden fault injection boundary use the exhaust fault inject campaign to build the boundary in practical sense. If the error value is above a specific threshold, then the location will not tolerance the error."
   ]
  },
  {
   "cell_type": "code",
   "execution_count": 4,
   "metadata": {
    "collapsed": true
   },
   "outputs": [],
   "source": [
    "# In fault injection campaign analysis, the prediction outcome is positive and negative.\n",
    "# during the prediction process, we ignore the crash case.\n",
    "# For the prediction, we need to think about four different cases\n",
    "# True negative, False positive\n",
    "# False negative, True positive\n",
    "def predict(boundary):\n",
    "    positive_prediction = 0\n",
    "    crash = 0\n",
    "    negative_prediction = 0\n",
    "    result = {}\n",
    "    bits = []\n",
    "    nan = float('nan')\n",
    "    inf = float('inf')\n",
    "    \n",
    "    mitigation_set = {}\n",
    "    count = 0\n",
    "\n",
    "    for index, row in FAULT_INJECTION_CAMPAIGN.iterrows():\n",
    "        instruction_index = int(row[\"byte_num\"].split(\"#\")[1])\n",
    "        inject_error = 0\n",
    "        corrupt_value = float(row['corrupt_value'])\n",
    "        init_value = float(row['init_value'])\n",
    "        \n",
    "        if init_value != 0 and corrupt_value != nan and corrupt_value != inf:\n",
    "            #relative error:  inject_error = abs((corrupt_value - init_value)/init_value)\n",
    "            inject_error = abs(corrupt_value - init_value)\n",
    "        \n",
    "        diffnorm = float(row['diffnorm'])            \n",
    "        \n",
    "        if inject_error < boundary[instruction_index]:\n",
    "            if diffnorm < THRESHOLD:\n",
    "                positive_prediction += 1\n",
    "            elif math.isnan(diffnorm) or math.isinf(diffnorm):\n",
    "                crash += 1\n",
    "            else:\n",
    "                negative_prediction += 1 \n",
    "  \n",
    "    result[\"positive\"] = positive_prediction\n",
    "    result[\"negative\"] = negative_prediction\n",
    "    result[\"crash\"] = crash\n",
    "    result[\"accuracy\"] = positive_prediction/(positive_prediction + negative_prediction)\n",
    "    \n",
    "    return (result, bits)\n",
    "\n",
    "def getGoldenFaultToleranceBoundary():\n",
    "    nan = float('nan')\n",
    "    inf = float('inf')\n",
    "    \n",
    "    #boundary = np.full(len(GOLDEN_RUN), np.inf)\n",
    "    boundary = np.zeros(len(GOLDEN_RUN))\n",
    "    masked_max = 0\n",
    "    for index, row in FAULT_INJECTION_CAMPAIGN.iterrows():\n",
    "        corrupt_value = float(row['corrupt_value'])\n",
    "        init_value = float(row['init_value'])\n",
    "        inject_error = 0\n",
    "        norm = float(row[\"diffnorm\"])\n",
    "        \n",
    "        try:\n",
    "            instruction_index = int(row[\"byte_num\"].split(\"#\")[1])\n",
    "        except:\n",
    "            print(row)\n",
    "        \n",
    "        if corrupt_value != nan and corrupt_value != inf:\n",
    "            #inject_error = abs((corrupt_value - init_value)/init_value)\n",
    "            inject_error = abs(corrupt_value - init_value)\n",
    "          \n",
    "            if norm > THRESHOLD:\n",
    "                if boundary[instruction_index] == 0:\n",
    "                    boundary[instruction_index] = inject_error\n",
    "                else:                       \n",
    "                    boundary[instruction_index] = min(inject_error, boundary[instruction_index])\n",
    "            elif norm <= THRESHOLD:\n",
    "                masked_max = max(inject_error, masked_max)\n",
    "\n",
    "            #if instruction_index == 137:\n",
    "            #    print(inject_error, masked_max)\n",
    "                \n",
    "            if (index+1) % BIT_SIZE == 0: \n",
    "                if boundary[instruction_index] == 0:\n",
    "                    boundary[instruction_index] = masked_max*1.0000001 + 0.01\n",
    "                masked_max = 0\n",
    "            \n",
    "            \n",
    "            \n",
    "    return boundary\n",
    "\n",
    "def getGoldenSDCRatioOverTime():\n",
    "    sdc_ratio_over_time = np.zeros(len(GOLDEN_RUN))\n",
    "    nan = float('nan')\n",
    "    inf = float('inf')\n",
    "    \n",
    "    for index, row in FAULT_INJECTION_CAMPAIGN.iterrows():\n",
    "        instruction_index = int(row['byte_num'].split('#')[1])\n",
    "        norm = float(row[\"diffnorm\"])\n",
    "        inject_error = abs(float(row['init_value']) - float(row['corrupt_value']))\n",
    "        \n",
    "        \n",
    "        \n",
    "        if norm > THRESHOLD and norm != nan and norm != inf and inject_error != inf and inject_error != nan:\n",
    "            sdc_ratio_over_time[instruction_index]+=1\n",
    "        \n",
    "    return sdc_ratio_over_time/BIT_SIZE"
   ]
  },
  {
   "cell_type": "markdown",
   "metadata": {},
   "source": [
    "# How does the number of samples affect the approximation"
   ]
  },
  {
   "cell_type": "code",
   "execution_count": 5,
   "metadata": {
    "scrolled": false
   },
   "outputs": [],
   "source": [
    "tracking_length = len(GOLDEN_RUN.value)\n",
    "def construct_boundary(cases):\n",
    "    boundary = np.zeros(tracking_length)\n",
    "    for index, row in cases.iterrows():\n",
    "        index = row['fileindex']\n",
    "        masked_run_path = PROPAGATION_DATA_PATH +\"/appstate_\"+ str(index) + \".log\"\n",
    "        #print(masked_run_path)\n",
    "        #Check whether the tracking file is on the path\n",
    "        #TODO: check whether can regenerate the data\n",
    "        #print(masked_run_path)\n",
    "        if not os.path.isfile(masked_run_path):\n",
    "            print(\"file does not exist\")\n",
    "            continue\n",
    "\n",
    "        masked_run = pd.read_csv(masked_run_path,  sep=\" \", names=['file', 'linenum', 'variable', 'value'])\n",
    "        masked_run_value = np.array(masked_run.value, dtype='double')\n",
    "\n",
    "        #This is a werid information in the data.\n",
    "        #TODO: may check why such outcome is shown\n",
    "        if len(masked_run_value) < tracking_length:\n",
    "            print(\"odd!\")\n",
    "            continue\n",
    "\n",
    "        #array contain NAN, ignore the run\n",
    "        if np.isnan(np.min(masked_run_value)):\n",
    "            continue\n",
    "\n",
    "        #filter operation\n",
    "        comparision_result = np.abs(masked_run_value[0:tracking_length] - GOLDEN_RUN.value)\n",
    "\n",
    "        result = predict(comparision_result, cases)\n",
    "        if result[0]['accuracy'] < 1 :\n",
    "            continue\n",
    "\n",
    "        for j in range(tracking_length):\n",
    "            if comparision_result[j] > boundary[j]:\n",
    "                boundary[j] = comparision_result[j]\n",
    "    return boundary\n",
    "\n",
    "def construct_boundry_optimize(experiments):\n",
    "    sdc_boundary = []\n",
    "    golden_run_value = np.array(GOLDEN_RUN.value, dtype='double')\n",
    "\n",
    "    count = 0\n",
    "    sdc_boundary = np.zeros(tracking_length)\n",
    "    #for i in range(tracking_length):\n",
    "    #    sdc_boundary.append(0)\n",
    "\n",
    "    experiments['diffnorm'] = experiments['diffnorm'].astype(float)\n",
    "    sdc_experiments = experiments.loc[experiments['diffnorm'] > THRESHOLD]\n",
    "\n",
    "    # set up a approximate sdc boundary value.\n",
    "    for index, row in sdc_experiments.iterrows():\n",
    "        instruction_index = int(row['byte_num'].split('#')[1])\n",
    "        \n",
    "        inject_error = abs(float(row['init_value']) - float(row['corrupt_value']))\n",
    "        \n",
    "        if sdc_boundary[instruction_index] != 0:\n",
    "            sdc_boundary[instruction_index] = min(sdc_boundary[instruction_index], inject_error)\n",
    "        else:\n",
    "            sdc_boundary[instruction_index] = inject_error\n",
    "\n",
    "    #sdc_boundary = np.array(sdc_boundary)\n",
    "    sdc_index = np.where(sdc_boundary > 0)[0]\n",
    "\n",
    "\n",
    "    masked_run_collections = []\n",
    "    masked_experiments = experiments.loc[experiments['diffnorm'] < THRESHOLD]\n",
    "\n",
    "    for index, row in masked_experiments.iterrows():\n",
    "        instruction_index = int(row['byte_num'].split('#')[1])\n",
    "        inject_error = abs(float(row['init_value']) - float(row['corrupt_value']))\n",
    "\n",
    "        masked_run_path = PROPAGATION_DATA_PATH +\"/appstate_\"+ str(index) + \".log\"\n",
    "        masked_run = pd.read_csv(masked_run_path,  sep=\" \", names=['linenum', 'variable', 'value'])\n",
    "        masked_run_value = np.array(masked_run.value, dtype='float')\n",
    "\n",
    "        if len(masked_run_value) < tracking_length:\n",
    "            print(\"odd!\")\n",
    "            continue\n",
    "        \n",
    "        #array contain NAN, ignore the run\n",
    "        if np.isnan(np.min(masked_run_value)):\n",
    "            continue\n",
    "\n",
    "        masked_run_value = masked_run_value[0:tracking_length] - golden_run_value      \n",
    "        #temp = masked_run_value[sdc_index] - sdc_boundary[sdc_index]\n",
    "        #if np.sum(temp > 0) > 0:\n",
    "        #    continue\n",
    "\n",
    "        masked_run_collections.append(masked_run_value)\n",
    "    boundary = np.max(masked_run_collections, axis=0)\n",
    "    \n",
    "    idx = boundary == 0\n",
    "    boundary[idx] += np.nextafter(0,1)\n",
    "    return boundary\n",
    "def predict_sdc_ratio_over_time(boundary, experiments):\n",
    "    sdc_ratios_of_instructions = np.zeros(tracking_length)\n",
    "    nan = float('nan')\n",
    "    inf = float('inf')\n",
    "    \n",
    "    for index, row in experiments.iterrows():\n",
    "        instruction_index = int(row['byte_num'].split(\"#\")[1])\n",
    "        inject_error = abs(float(row['init_value']) - float(row['corrupt_value']))\n",
    "        diffnorm = float(row['diffnorm'])\n",
    "                \n",
    "        if inject_error > boundary[instruction_index] and inject_error != nan and inject_error != inf:\n",
    "            sdc_ratios_of_instructions[instruction_index] += 1\n",
    "\n",
    "    return sdc_ratios_of_instructions/BIT_SIZE\n",
    "\n",
    "def random_sampling_sdc_ratio_overtime(experiment):\n",
    "    sdc_ratios_of_instructions = np.zeros(tracking_length)\n",
    "    for index, row in experiment.iterrows():\n",
    "        diffnorm = float(row['diffnorm'])\n",
    "        instruction_index = int(row['byte_num'].split('#')[1])\n",
    "        if diffnorm > THRESHOLD:\n",
    "            sdc_ratios_of_instructions[instruction_index] += 1\n",
    "    return sdc_ratios_of_instructions/BIT_SIZE\n",
    "\n",
    "def optimize_predict(boundary, experiments):\n",
    "    positive_prediction = 0\n",
    "    crash = 0\n",
    "    negative_prediction = 0\n",
    "    result = {}\n",
    "    bits = []\n",
    "\n",
    "    for index, row in experiments.iterrows():\n",
    "        instruction_index = int(row['byte_num'].split('#')[1])\n",
    "        inject_error = abs(float(row['init_value']) - float(row['corrupt_value']))\n",
    "        diffnorm = float(row['diffnorm'])\n",
    "\n",
    "        if inject_error < boundary[instruction_index]:\n",
    "            if diffnorm <= THRESHOLD:\n",
    "                 positive_prediction += 1\n",
    "            elif math.isnan(diffnorm) or math.isinf(diffnorm):\n",
    "                crash += 1\n",
    "            else:\n",
    "                negative_prediction += 1 \n",
    "\n",
    "    result[\"positive\"] = positive_prediction\n",
    "    result[\"negative\"] = negative_prediction\n",
    "    result[\"crash\"]    = crash\n",
    "    result[\"accuracy\"] = positive_prediction/(positive_prediction + crash + negative_prediction)\n",
    "    result['prediction']  = 1-(positive_prediction + crash + negative_prediction)/len(experiments)\n",
    "    return result\n",
    "\n",
    "boundary = getGoldenFaultToleranceBoundary()\n",
    "golden_pre = predict_sdc_ratio_over_time(boundary, FAULT_INJECTION_CAMPAIGN)\n",
    "\n",
    "np.savetxt('gb.out', golden_pre, delimiter=',')\n",
    "#case = TEST_EXPERIMENTS\n",
    "#boundary = construct_boundry_optimize(case)\n",
    "#sample_pre = predict_sdc_ratio_over_time(boundary, FAULT_INJECTION_CAMPAIGN)"
   ]
  },
  {
   "cell_type": "code",
   "execution_count": 18,
   "metadata": {},
   "outputs": [
    {
     "data": {
      "text/plain": [
       "[<matplotlib.lines.Line2D at 0x2188b7d39b0>]"
      ]
     },
     "execution_count": 18,
     "metadata": {},
     "output_type": "execute_result"
    },
    {
     "data": {
      "image/png": "[encoded data removed]",
      "text/plain": [
       "<Figure size 432x288 with 1 Axes>"
      ]
     },
     "metadata": {
      "needs_background": "light"
     },
     "output_type": "display_data"
    }
   ],
   "source": [
    "plt.plot(golden_pre)\n",
    "plt.plot(sample_pre)"
   ]
  },
  {
   "cell_type": "code",
   "execution_count": null,
   "metadata": {
    "collapsed": true
   },
   "outputs": [],
   "source": [
    "\n",
    "'''\n",
    "gol = getGoldenSDCRatioOverTime()\n",
    "step_size = 20\n",
    "step = int(len(gol)/step_size)\n",
    "\n",
    "random_result = []\n",
    "idx = []\n",
    "\n",
    "# get 100 random fault injection experiments with 1% samples and predict the sdc ratio overtime\n",
    "for _ in range(100):\n",
    "    case = FAULT_INJECTION_CAMPAIGN.sample(n=TEST_EXPERIMENT_NUMBER, replace=True)\n",
    "    exp = gol - random_sampling_sdc_ratio_overtime(case)\n",
    "    m = []   \n",
    "    for i in range(step-1):\n",
    "        start = int(i*step_size)\n",
    "        nexts = int((i+1) * step_size)\n",
    "        m.append(np.mean(exp[start:nexts]))\n",
    "    m.append(np.mean(exp[i * step_size:]))\n",
    "    random_result.append(m)\n",
    "    \n",
    "    \n",
    "# get 100 adaptive sampling experiment with 1% samples and predict the sdc ratio overtime\n",
    "adaptive_result = []\n",
    "prediction_result = []\n",
    "accuracy_result = []\n",
    "for _ in range(100):\n",
    "    case = adaptiveSampling(FAULT_INJECTION_CAMPAIGN, GOLDEN_RUN, PROPAGATION_DATA_PATH, 0.005, THRESHOLD)\n",
    "    boundary = construct_boundry_optimize(case)\n",
    "    prediction_result.append(optimize_predict(boundary, FAULT_INJECTION_CAMPAIGN)['prediction'])\n",
    "    accuracy_result.append(optimize_predict(boundary, FAULT_INJECTION_CAMPAIGN)['accuracy'])\n",
    "    exp = gol - predict_sdc_ratio_over_time(boundary, FAULT_INJECTION_CAMPAIGN)\n",
    "    m = []   \n",
    "    for i in range(step-1):\n",
    "        start = int(i*step_size)\n",
    "        nexts = int((i+1) * step_size)\n",
    "        m.append(np.mean(exp[start:nexts]))\n",
    "    m.append(np.mean(exp[i * step_size:]))\n",
    "    adaptive_result.append(m)\n",
    "    \n",
    "for i in range(step-1):  \n",
    "    idx.append(i*step_size + step_size/2)\n",
    "idx.append((i*step_size + len(gol))/2)\n",
    "    \n",
    "print(np.mean(prediction_result), np.std(prediction_result))    \n",
    "#sdc_ratio_overtime_experiments = []\n",
    "#result = []\n",
    "#boundarys = []\n",
    "\n",
    "#case = adaptiveSampling(FAULT_INJECTION_CAMPAIGN, GOLDEN_RUN, PROPAGATION_DATA_PATH, THRESHOLD)\n",
    "#case = TEST_EXPERIMENTS = pd.read_csv(PROPAGATION_DATA_PATH+\"/injectlog.log\",  sep=\" \", names=['fileindex', 'file', 'linenum', 'variable','byte_num', 'corrupted','init_value','to', 'corrupt_value', 'mask', 'byte','expo', 'ss', 'op', 'diffnorm', 'empty'])\n",
    "#boundary = construct_boundry_optimize(case)\n",
    "#prediction = optimize_predict(boundary, FAULT_INJECTION_CAMPAIGN)\n",
    "'''\n",
    "\n",
    "#gol = getGoldenSDCRatioOverTime()\n",
    "\n",
    "#boundary = construct_boundry_optimize(TEST_EXPERIMENTS)\n",
    "#prediction = optimize_predict(boundary, FAULT_INJECTION_CAMPAIGN)\n",
    "#step_size = 20\n",
    "#step = int(len(gol)/step_size)\n",
    "#idx = []\n",
    "\n",
    "\n",
    "\n",
    "#res = []\n",
    "#acu = []\n",
    "#for _ in range(1):\n",
    "#    print(_)\n",
    "    #case = FAULT_INJECTION_CAMPAIGN.sample(n=TEST_EXPERIMENT_NUMBER, replace=True)\n",
    "#    case =  adaptiveSampling(FAULT_INJECTION_CAMPAIGN, GOLDEN_RUN, PROPAGATION_DATA_PATH, 0.005, THRESHOLD)\n",
    "#    boundary = construct_boundry_optimize(case)\n",
    "#    pre = optimize_predict(boundary, FAULT_INJECTION_CAMPAIGN)\n",
    "#    res.append(pre['prediction'])\n",
    "#    acu.append(pre['accuracy'])\n",
    "\n",
    "#print(np.mean(res), np.std(res))\n",
    "#print(np.mean(acu), np.std(acu))\n",
    "\n",
    "\n",
    "#exp = predict_sdc_ratio_over_time(boundary, FAULT_INJECTION_CAMPAIGN)\n",
    "    #exp = random_sampling_sdc_ratio_overtime(case)\n",
    "#    res = exp\n",
    "\n",
    "#    m = []   \n",
    "#    for i in range(step-1):\n",
    "#        start = int(i*step_size)\n",
    "#        nexts = int((i+1) * step_size)\n",
    "#        m.append(np.mean(res[start:nexts]))\n",
    "#    result.append(m)\n",
    "\n",
    "    \n",
    "\n",
    "#plt.errorbar(idx, np.mean(result, axis=0), np.std(result, axis=0), fmt='o', capsize=15, linewidth =2, ms=10)     \n",
    "    \n",
    "#for _ in range(100):\n",
    "#    print(_)\n",
    "#    case =  adaptiveSampling(FAULT_INJECTION_CAMPAIGN, GOLDEN_RUN, PROPAGATION_DATA_PATH, THRESHOLD)\n",
    "#    boundary = construct_boundry_optimize(case)\n",
    "#    prediction = optimize_predict(boundary, FAULT_INJECTION_CAMPAIGN)\n",
    "#    result.append(1 - prediction['sum']/float(len(FAULT_INJECTION_CAMPAIGN)))\n",
    "#print(np.mean(result))\n",
    "#print(np.std(result))\n",
    "#for num in [10, 100, 1000, 10000]:# 10000, 20000, 30000, 40000, 50000, 100000]:\n",
    "#    for _ in range(100):\n",
    "#        case = FAULT_INJECTION_CAMPAIGN.sample(n=num, replace=True)\n",
    "#        case['diffnorm'] = case['diffnorm'].astype(float)\n",
    "#        boundary = construct_boundry_optimize(case)\n",
    "#        prediction = optimize_predict(boundary, FAULT_INJECTION_CAMPAIGN)\n",
    "#        result.append([num, prediction['sum'], prediction['accuracy']])\n",
    "#        boundarys.append(boundary)\n",
    "#        print (num, _)"
   ]
  },
  {
   "cell_type": "code",
   "execution_count": null,
   "metadata": {
    "collapsed": true
   },
   "outputs": [],
   "source": [
    "print(np.mean(accuracy_result), np.std(accuracy_result))\n",
    "plt.figure(figsize=(12, 10))\n",
    "plt.errorbar(idx, np.mean(random_result, axis=0), np.std(random_result, axis=0), fmt='-o', capsize=15, linewidth =2, ms=10)     \n",
    "plt.errorbar(idx, np.mean(adaptive_result, axis=0), np.std(adaptive_result, axis=0), fmt='-o', capsize=15, linewidth =2, ms=10) \n",
    "plt.xlabel('Dynamic Instruction Id.', fontsize=30)\n",
    "plt.ylabel(\"Diff-SDC\", fontsize=30)\n",
    "plt.title('Conjugate Gradient', fontsize=30)\n",
    "plt.xticks(fontsize=25)\n",
    "plt.yticks(fontsize=25)"
   ]
  },
  {
   "cell_type": "code",
   "execution_count": null,
   "metadata": {
    "collapsed": true
   },
   "outputs": [],
   "source": [
    "res = gol-exp\n",
    "m = []\n",
    "std = []\n",
    "idx = []\n",
    "step_size = 20\n",
    "\n",
    "step = int(len(res)/step_size)\n",
    "\n",
    "for i in range(step-1):\n",
    "    start = int(i*step_size)\n",
    "    nexts = int((i+1) * step_size)\n",
    "    idx.append(i*step_size)\n",
    "    m.append(np.median(res[start:nexts]))\n",
    "    std.append(np.std(res[start:nexts]))\n",
    "\n",
    "idx.append(i*step_size)\n",
    "m.append(np.median(res[start:nexts]))\n",
    "std.append(np.std(res[start:nexts]))\n",
    "    \n",
    "plt.figure(figsize=(12, 10))\n",
    "plt.errorbar(idx, m, std, fmt='o', capsize=15, linewidth =2, ms=10)  \n",
    "plt.xlabel('Dynamic Instruction Id.', fontsize=30)\n",
    "plt.ylabel(\"Diff-SDC\", fontsize=30)\n",
    "plt.xticks(fontsize=25)\n",
    "plt.yticks(fontsize=25)\n"
   ]
  },
  {
   "cell_type": "code",
   "execution_count": null,
   "metadata": {
    "collapsed": true
   },
   "outputs": [],
   "source": [
    "plt.hist(res, bins = 10)\n",
    "plt.ylabel('num. of dynamic instruction', fontsize=20)\n",
    "plt.xlabel(\"sdc ratio diffrence\", fontsize=20)\n",
    "#plt.xlabel('SDC ratio difference', fontsize=45)\n",
    "#plt.ylabel(\"num. of fault injection sites\", fontsize=35)\n",
    "#plt.title('Black-scholes', fontsize=35)\n",
    "#plt.xticks(rotation=45)\n",
    "#plt.xticks(fontsize=25)\n",
    "#plt.yticks(fontsize=25)\n",
    "plt.plot()"
   ]
  },
  {
   "cell_type": "code",
   "execution_count": null,
   "metadata": {
    "collapsed": true,
    "scrolled": false
   },
   "outputs": [],
   "source": [
    "#result = list(result)\n",
    "#result.append([47296, 43380, 1])\n",
    "#plt.figure(figsize=(16, 10))\n",
    "#exp = np.array(result)\n",
    "#dataset = pd.DataFrame({\"type\":exp[:,0], \"result\":exp[:,1], \"accuracy\":exp[:,2]})\n",
    "#id = list(set(dataset['type']))\n",
    "#id.sort()\n",
    "#id = np.array(id)/47296\n",
    "#std =np.array(dataset.groupby(['type']).std()['result'])/43380.0\n",
    "#m = np.array(dataset.groupby(['type']).mean()['result'])/43380.0\n",
    "\n",
    "#p_std= np.array(dataset.groupby(['type']).std()['accuracy'])\n",
    "#p_m = np.array(dataset.groupby(['type']).mean()['result'])\n",
    "\n",
    "#plt.errorbar(id, p_m, p_std, fmt='-o', capsize=4)                \n",
    "#plt.errorbar(id, m, std, fmt='-o', capsize=4)\n",
    "#plt.xscale('log')\n",
    "#plt.xlabel('sample size', fontsize=30)\n",
    "#plt.ylabel(\"predict the percentage of Masked sample\", fontsize=30)\n",
    "#plt.title('Conjugate Gradient', fontsize=30)\n",
    "#plt.xticks(rotation=45)\n",
    "#plt.xticks(fontsize=25)\n",
    "#plt.yticks(fontsize=25)\n",
    "#plt.show()\n",
    "#np.savetxt(\"result.txt\", result, delimiter=',')\n",
    "#result[:,2]\n",
    "\n",
    "#print(1 - prediction['sum']/float(len(FAULT_INJECTION_CAMPAIGN)))\n",
    "#print(prediction)"
   ]
  },
  {
   "cell_type": "code",
   "execution_count": null,
   "metadata": {
    "collapsed": true
   },
   "outputs": [],
   "source": [
    "golden_ratio_overtime = getGoldenSDCRatioOverTime()\n",
    "sdc_ratio_overtime_experiments.append(predict_sdc_ratio_over_time(boundary, FAULT_INJECTION_CAMPAIGN))"
   ]
  },
  {
   "cell_type": "code",
   "execution_count": null,
   "metadata": {
    "collapsed": true
   },
   "outputs": [],
   "source": [
    "sdc_ratio_overtime_experiments.append(predict_sdc_ratio_over_time(boundary, FAULT_INJECTION_CAMPAIGN))"
   ]
  },
  {
   "cell_type": "code",
   "execution_count": null,
   "metadata": {
    "collapsed": true,
    "scrolled": true
   },
   "outputs": [],
   "source": [
    "i=0\n",
    "gap = -1\n",
    "abs_result = golden_ratio_overtime[i:gap] - sdc_ratio_overtime_experiments[0][i:gap]\n",
    "plt.figure(figsize=(6, 18))\n",
    "plt.subplot(311)\n",
    "plt.plot(golden_ratio_overtime[i:gap])\n",
    "plt.plot(sdc_ratio_overtime_experiments[0][i:gap])\n",
    "plt.xlabel('dynamic instruction id', fontsize=20)\n",
    "plt.ylabel(\"sdc ratio\", fontsize=20)\n",
    "\n",
    "plt.subplot(312)\n",
    "plt.plot(abs_result)\n",
    "plt.xlabel('dynamic instruction id', fontsize=20)\n",
    "plt.ylabel(\"sdc ratio difference\", fontsize=20)\n",
    "plt.subplot(313)\n",
    "plt.hist(abs_result, bins = 40)\n",
    "plt.ylabel('num. of dynamic instruction', fontsize=20)\n",
    "plt.xlabel(\"sdc ratio diffrence\", fontsize=20)\n",
    "#plt.xlabel('SDC ratio difference', fontsize=45)\n",
    "#plt.ylabel(\"num. of fault injection sites\", fontsize=35)\n",
    "#plt.title('Black-scholes', fontsize=35)\n",
    "#plt.xticks(rotation=45)\n",
    "#plt.xticks(fontsize=25)\n",
    "#plt.yticks(fontsize=25)\n",
    "plt.plot()"
   ]
  },
  {
   "cell_type": "code",
   "execution_count": null,
   "metadata": {
    "collapsed": true
   },
   "outputs": [],
   "source": [
    "data = np.loadtxt('cg.approxiation', delimiter=',')"
   ]
  },
  {
   "cell_type": "markdown",
   "metadata": {},
   "source": [
    "### Mean and standard deviation"
   ]
  },
  {
   "cell_type": "code",
   "execution_count": null,
   "metadata": {
    "collapsed": true
   },
   "outputs": [],
   "source": [
    "print(np.mean(abs_result))\n",
    "print(np.std(abs_result))"
   ]
  },
  {
   "cell_type": "markdown",
   "metadata": {},
   "source": [
    "# Correlation Analysis - Granger Causality\n",
    "\n",
    "Wiki: The Granger causality test is a statistical hypothesis test for determining whether one time series is useful in forecasting another\n",
    "\n",
    "Use causality analysis to extract the propagation path and dependency relationship"
   ]
  },
  {
   "cell_type": "code",
   "execution_count": null,
   "metadata": {
    "collapsed": true
   },
   "outputs": [],
   "source": []
  },
  {
   "cell_type": "markdown",
   "metadata": {},
   "source": [
    "# Inference Evaluation\n",
    "1. We uniformly random sample 1000 experiments and use the masked cases to predict the first 5, 10, 20, 50, 100, 200, 300 corrupted instructions' outcome."
   ]
  },
  {
   "cell_type": "code",
   "execution_count": null,
   "metadata": {
    "collapsed": true,
    "scrolled": true
   },
   "outputs": [],
   "source": [
    "experiment_set=[50]#, 10, 20, 50, 100, 200, 300]\n",
    "l = len(GOLDEN_RUN)\n",
    "\n",
    "for knn in experiment_set:  \n",
    "    prediction_accuracy = []\n",
    "    prediction_amount = []\n",
    "    for index, row in TEST_EXPERIMENTS.iterrows():\n",
    "        #Ignore the SDC cases\n",
    "        if float(row[\"diffnorm\"]) > THRESHOLD:\n",
    "            continue\n",
    "\n",
    "        fault_inject_run = pd.read_csv(PROPAGATION_DATA_PATH+\"/appstate_\"+str(index)+\".log\",  sep=' ', names=['file', 'linenum', 'variable', 'value'])\n",
    "        if len(fault_inject_run) < l:\n",
    "            print(\"bad case!\")\n",
    "            continue\n",
    "        else:\n",
    "            fault_inject_run_value = np.array(fault_inject_run.value, dtype='float')[0:l] - np.array(GOLDEN_RUN.value, dtype='float')\n",
    "            fault_inject_run_value = np.abs(fault_inject_run_value)\n",
    "\n",
    "        prediction_index = np.where(fault_inject_run_value != 0)[0][1:1+knn]\n",
    "\n",
    "        #if len(prediction_index) != 0:\n",
    "            # where is the first data dependency element\n",
    "        #    print(row['linenum'], '<-', fault_inject_run.iloc[prediction_index[0]]['linenum'])       \n",
    "              \n",
    "                \n",
    "        if len(prediction_index) != knn:\n",
    "            continue       \n",
    "                \n",
    "        prediction_result_accuracy = []\n",
    "        preduction_result_amount = []\n",
    "        for i in prediction_index:\n",
    "            \n",
    "            correct = 0\n",
    "            incorrect = 0\n",
    "            query_result = FAULT_INJECTION_CAMPAIGN[i*64:(i+1)*64]        \n",
    "\n",
    "            for index, row in query_result.iterrows():\n",
    "                inject_error = abs(float(row['init_value']) - float(row['corrupt_value']))\n",
    "                diff = float(row['diffnorm'])\n",
    "\n",
    "                if inject_error < fault_inject_run_value[i] and diff < THRESHOLD:\n",
    "                    correct+=1\n",
    "                elif inject_error < fault_inject_run_value[i] and diff >= THRESHOLD:\n",
    "                    incorrect += 1\n",
    "            if correct+incorrect == 0:\n",
    "                prediction_result_accuracy.append(1)\n",
    "                preduction_result_amount.append(0)\n",
    "            else:\n",
    "                #prediction_accuracy.append(correct/(correct+incorrect))\n",
    "                #prediction_amount.append((correct + incorrect)/(knn * 64))\n",
    "                prediction_result_accuracy.append(correct/(correct+incorrect))   \n",
    "                preduction_result_amount.append((correct + incorrect)/ 64)\n",
    "            \n",
    "        print(prediction_result_accuracy)\n",
    "        print(preduction_result_amount)\n",
    "        print(prediction_index)\n",
    "        #if correct+incorrect == 0:\n",
    "        #    prediction_accuracy.append(1)\n",
    "        #    prediction_amount.append(0)\n",
    "        #else:\n",
    "        #    prediction_accuracy.append(correct/(correct+incorrect))\n",
    "        #    prediction_amount.append((correct + incorrect)/(knn * 64))\n"
   ]
  },
  {
   "cell_type": "code",
   "execution_count": null,
   "metadata": {
    "collapsed": true
   },
   "outputs": [],
   "source": [
    "#fault_inject_run = pd.read_csv(PROPAGATION_DATA_PATH+\"/appstate_\"+str(0)+\".log\",  sep=' ', names=['file', 'linenum', 'variable', 'value'])\n",
    "#fault_inject_run_value = np.array(fault_inject_run.value, dtype='float')[0:l] - np.array(GOLDEN_RUN.value, dtype='float')\n",
    "#fault_inject_run_value = np.abs(fault_inject_run_value)\n",
    "\n",
    "#print(len(np.where(fault_inject_run_value != 0)[0]))\n",
    "#print(TEST_EXPERIMENTS)\n",
    "#print(sum(prediction_accuracy)/len(prediction_accuracy))\n",
    "#print(sum(prediction_amount)/len(prediction_amount))"
   ]
  },
  {
   "cell_type": "markdown",
   "metadata": {
    "collapsed": true
   },
   "source": [
    "## Mitigate and Amplify Errors\n",
    "\n",
    "1. How do you explain that case that some masked above the propagation boundary, some sdc case below the sdc cases."
   ]
  },
  {
   "cell_type": "code",
   "execution_count": null,
   "metadata": {
    "collapsed": true,
    "scrolled": true
   },
   "outputs": [],
   "source": [
    "#FAULT_INJECTION_CAMPAIGN"
   ]
  },
  {
   "cell_type": "code",
   "execution_count": null,
   "metadata": {
    "collapsed": true
   },
   "outputs": [],
   "source": []
  },
  {
   "cell_type": "code",
   "execution_count": null,
   "metadata": {
    "collapsed": true
   },
   "outputs": [],
   "source": []
  },
  {
   "cell_type": "code",
   "execution_count": null,
   "metadata": {
    "collapsed": true
   },
   "outputs": [],
   "source": []
  },
  {
   "cell_type": "markdown",
   "metadata": {},
   "source": [
    "# A Single Fault Injection Experiment\n",
    "\n",
    "Understand how a single fault injection experiment can help to understand the result of the other fault injection experiment.\n",
    "\n",
    "Randomly select 1000 fault injection experiments and test the prediction accuracy of each masked experiment."
   ]
  },
  {
   "cell_type": "code",
   "execution_count": null,
   "metadata": {
    "collapsed": true
   },
   "outputs": [],
   "source": [
    "#The number of fault injection experiments that a single fault injection can predict is masked.\n",
    "def single_masked_prediction(fault_inject_run, golden_run, experiments, threshold = 0.001): \n",
    "    # The experiment ends early\n",
    "    if len(fault_inject_run) < len(golden_run):\n",
    "        print(\"Bad fault injection experiment!\")\n",
    "        return False\n",
    "    \n",
    "    # Get the prediction boundary of a single fault injection experiment.\n",
    "    boundary = np.abs(np.array(fault_inject_run.value[0:len(golden_run)], dtype=\"float\") - np.array(golden_run.value, dtype=\"float\"))    \n",
    "    if np.isnan(boundary).any() or np.isinf(boundary).any():\n",
    "        print(\"This experiment outcome is masked, but the propagation process contains nan or infinity event\")\n",
    "        return False\n",
    "    \n",
    "    # The number of tested experiment\n",
    "    # print(len(experiments))\n",
    "    \n",
    "    positive_prediction = 0\n",
    "    negative_prediction = 0\n",
    "    SDC_count = 0\n",
    "    crash = 0\n",
    "    count = len(experiments)\n",
    "  \n",
    "    for index, row in experiments.iterrows():\n",
    "        instruction_index = int(row[\"byte_num\"].split(\"#\")[1])\n",
    "        inject_error = abs(float(row[\"corrupt_value\"]) - float(row[\"init_value\"]))\n",
    "        diffnorm = float(row['diffnorm'])\n",
    "        \n",
    "        if inject_error <= boundary[instruction_index]:\n",
    "            if diffnorm < threshold:\n",
    "                positive_prediction += 1\n",
    "            elif math.isnan(diffnorm) or math.isinf(diffnorm):\n",
    "                crash += 1\n",
    "            else:\n",
    "                negative_prediction += 1     \n",
    "    \n",
    "    if (positive_prediction + negative_prediction) is 0:\n",
    "        return {\"crash\":crash/count, \"positive\": positive_prediction/count, \"negative\": negative_prediction/count, \"accuracy\":0,  \"total\":positive_prediction+negative_prediction}    \n",
    "    else:\n",
    "        return {\"crash\":crash/count, \"positive\": positive_prediction/count, \"negative\": negative_prediction/count, \"total\":positive_prediction+negative_prediction, \"accuracy\":positive_prediction/(positive_prediction + negative_prediction+crash)}  \n",
    "\n",
    "#The number of fault injection experiment that the program can predict as SDC\n",
    "def single_SDC_prediction(fault_inject_run, golden_run, experiments, threshold = 0.001):\n",
    "    pass"
   ]
  },
  {
   "cell_type": "code",
   "execution_count": null,
   "metadata": {
    "collapsed": true
   },
   "outputs": [],
   "source": []
  },
  {
   "cell_type": "code",
   "execution_count": null,
   "metadata": {
    "collapsed": true
   },
   "outputs": [],
   "source": [
    "# During the fault injection experiment, filter out the bad prediction case and left with the good prediction case.\n",
    "GOOD_MASKED_RUN = []"
   ]
  },
  {
   "cell_type": "code",
   "execution_count": null,
   "metadata": {
    "collapsed": true,
    "scrolled": false
   },
   "outputs": [],
   "source": [
    "diffnorms = np.array(FAULT_INJECTION_CAMPAIGN.diffnorm, dtype='float')\n",
    "length = len(TEST_EXPERIMENTS)\n",
    "list_indexs = []\n",
    "pre_res = {}\n",
    "index = 0\n",
    "\n",
    "sample_dataset = FAULT_INJECTION_CAMPAIGN.sample(n=int(TEST_EXPERIMENT_NUMBER/10), replace=False,  random_state=1)\n",
    "#Understand the pruning technique.\n",
    "print(len(sample_dataset))\n",
    "\n",
    "for i, row in TEST_EXPERIMENTS.iterrows():\n",
    "    file_index = row[\"fileindex\"]\n",
    "    norm = float(row[\"diffnorm\"])\n",
    "    \n",
    "    \n",
    "    if index > int(TEST_EXPERIMENT_NUMBER/10):\n",
    "        break\n",
    "    index += 1\n",
    "    if index % (length/10) ==0:\n",
    "        print(index/float(length), \"experiment\")\n",
    "    \n",
    "    #verify the select fault injection experiment is valuable\n",
    "    if norm != 0 and not np.isinf(norm) and not math.isnan(norm) and norm < THRESHOLD :\n",
    "        fault_inject_run = pd.read_csv(PROPAGATION_DATA_PATH+\"/appstate_\"+str(index)+\".log\",  sep=' ', names=['file', 'linenum', 'variable', 'value'])\n",
    "        pre_res = single_masked_prediction(fault_inject_run, GOLDEN_RUN, sample_dataset, THRESHOLD)\n",
    "        \n",
    "        #if the predictor reject the current experiment for prediction, continue to next experiment\n",
    "        if not pre_res:\n",
    "            continue\n",
    "        \n",
    "        if pre_res['accuracy'] >= 1 :\n",
    "            GOOD_MASKED_RUN.append(file_index)\n",
    "        \n",
    "        list_indexs.append({\"diffnorm\":math.log10(norm), \"index\":index, \"crash\":pre_res[\"crash\"], \"negative\":pre_res[\"negative\"], \"positive\":pre_res[\"positive\"], 'accuracy':pre_res['accuracy']})\n"
   ]
  },
  {
   "cell_type": "code",
   "execution_count": null,
   "metadata": {
    "collapsed": true
   },
   "outputs": [],
   "source": [
    "GOOD_MASKED_RUN"
   ]
  },
  {
   "cell_type": "code",
   "execution_count": null,
   "metadata": {
    "collapsed": true
   },
   "outputs": [],
   "source": [
    "import matplotlib.pyplot as plt\n",
    "#plt.style.use('seaborn-whitegrid')\n",
    "fig = plt.figure()\n",
    "list_indexs = sorted(list_indexs, key = lambda i: i['diffnorm']) \n",
    "x = []\n",
    "y = []\n",
    "z = []\n",
    "k = []\n",
    "for i in range(len(list_indexs)):\n",
    "    x.append(list_indexs[i]['diffnorm'])\n",
    "    y.append(list_indexs[i]['positive'] + list_indexs[i]['negative'] + list_indexs[i]['crash'])\n",
    "    z.append(list_indexs[i]['negative'])\n",
    "    k.append(list_indexs[i]['accuracy'])"
   ]
  },
  {
   "cell_type": "code",
   "execution_count": null,
   "metadata": {
    "collapsed": true,
    "scrolled": true
   },
   "outputs": [],
   "source": [
    "sns.set(style=\"ticks\")\n",
    "sns.axes_style('white')\n",
    "df = pd.DataFrame(data = {\"x\":x, \"y\":y, \"k\":k,\"z\":z})\n",
    "\n",
    "plt.scatter(x, y, c=k, cmap='viridis')\n",
    "plt.xlabel('norm(log10)')\n",
    "plt.ylabel('prediction rate')\n",
    "#plt.clim(0,1)\n",
    "plt.colorbar()\n",
    "plt.show()"
   ]
  },
  {
   "cell_type": "code",
   "execution_count": null,
   "metadata": {
    "collapsed": true
   },
   "outputs": [],
   "source": [
    "plt.subplot(2, 2, 1)\n",
    "plt.hist(df.x)\n",
    "plt.xlabel('norm')\n",
    "plt.ylabel('number of experiments')\n",
    "\n",
    "plt.subplot(2, 2, 2)\n",
    "plt.hist(df.y)\n",
    "plt.xlabel('positive prediction')\n",
    "\n",
    "plt.subplot(2, 2, 3)\n",
    "plt.hist(df.k)\n",
    "plt.xlabel('prediction accuracy')\n",
    "\n",
    "plt.subplot(2, 2, 4)\n",
    "plt.hist(df.z)\n",
    "plt.xlabel('negative prediction')"
   ]
  },
  {
   "cell_type": "markdown",
   "metadata": {},
   "source": [
    "# We use 1000 experiments as a filter to filter out outlier propagation data\n",
    "\n",
    "1. here is a very interesting, we use the subset of the sample to filter the outlier propagation data. Why this type of data is outlier"
   ]
  },
  {
   "cell_type": "code",
   "execution_count": null,
   "metadata": {
    "collapsed": true
   },
   "outputs": [],
   "source": [
    "FAULT_INJECTION_CAMPAIGN"
   ]
  },
  {
   "cell_type": "code",
   "execution_count": null,
   "metadata": {
    "collapsed": true
   },
   "outputs": [],
   "source": [
    "#import dill\n",
    "#dill.load_session('notebook_env.db')"
   ]
  },
  {
   "cell_type": "code",
   "execution_count": null,
   "metadata": {
    "collapsed": true
   },
   "outputs": [],
   "source": [
    "#print(GOOD_MASKED_RUN)\n",
    "#boundary = construct_boundary(GOOD_MASKED_RUN)"
   ]
  },
  {
   "cell_type": "code",
   "execution_count": null,
   "metadata": {
    "collapsed": true
   },
   "outputs": [],
   "source": [
    "#res, bits = predict(boundary)\n",
    "res = predict(boundary)\n",
    "\n",
    "#plt.hist(bits)\n",
    "print(res)\n",
    "#plt.hist(df.x)\n",
    "#plt.xlabel('norm')\n",
    "#plt.ylabel('number of experiments')"
   ]
  },
  {
   "cell_type": "code",
   "execution_count": null,
   "metadata": {
    "collapsed": true,
    "scrolled": true
   },
   "outputs": [],
   "source": [
    "#plot the boundary\n",
    "#plt.plot(boundary)"
   ]
  },
  {
   "cell_type": "markdown",
   "metadata": {
    "collapsed": true
   },
   "source": [
    "# Extracting A single fault injection site to understand the error propagation."
   ]
  },
  {
   "cell_type": "code",
   "execution_count": null,
   "metadata": {
    "collapsed": true
   },
   "outputs": [],
   "source": []
  },
  {
   "cell_type": "code",
   "execution_count": null,
   "metadata": {
    "collapsed": true
   },
   "outputs": [],
   "source": []
  },
  {
   "cell_type": "code",
   "execution_count": null,
   "metadata": {
    "collapsed": true
   },
   "outputs": [],
   "source": []
  }
 ],
 "metadata": {
  "kernelspec": {
   "display_name": "Python 3",
   "language": "python",
   "name": "python3"
  },
  "language_info": {
   "codemirror_mode": {
    "name": "ipython",
    "version": 3
   },
   "file_extension": ".py",
   "mimetype": "text/x-python",
   "name": "python",
   "nbconvert_exporter": "python",
   "pygments_lexer": "ipython3",
   "version": "3.6.2"
  }
 },
 "nbformat": 4,
 "nbformat_minor": 2
}
