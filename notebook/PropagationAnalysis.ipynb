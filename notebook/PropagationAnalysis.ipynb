{
 "cells": [
  {
   "cell_type": "code",
   "execution_count": 1,
   "metadata": {
    "collapsed": true
   },
   "outputs": [],
   "source": [
    "import numpy as np\n",
    "import seaborn as sns\n",
    "import pandas as pd\n",
    "import os.path\n",
    "import matplotlib.pyplot as plt\n",
    "import random\n",
    "import math\n",
    "from IPython.core.debugger import set_trace"
   ]
  },
  {
   "cell_type": "markdown",
   "metadata": {},
   "source": [
    "# How Much Information a Fault Injection Experiment Can Tell About the Resiliency of a Target Program.\n",
    "\n",
    "\n",
    "\n",
    "How many different type of dynamic instruction when you try to make fault tolerance prediction?"
   ]
  },
  {
   "cell_type": "code",
   "execution_count": 2,
   "metadata": {},
   "outputs": [
    {
     "name": "stderr",
     "output_type": "stream",
     "text": [
      "C:\\Users\\zhimin\\Anaconda3\\lib\\site-packages\\IPython\\core\\interactiveshell.py:2698: DtypeWarning: Columns (14) have mixed types. Specify dtype option on import or set low_memory=False.\n",
      "  interactivity=interactivity, compiler=compiler, result=result)\n"
     ]
    }
   ],
   "source": [
    "# Dataset\n",
    "dataset = \"fft\" # current available dataset fft, lu, cg\n",
    "\n",
    "# Threshold that used to decide whether the final outcome is SDC or Masked.\n",
    "threshold = 0.001\n",
    "\n",
    "# The percentage of the test experiment over exhaust fault injections.\n",
    "test_experiment_percentage = 0.05\n",
    "\n",
    "# The fault injection campaign experiment\n",
    "fault_injection_campaign = pd.read_csv(\"../static/data/fft/fft_injectlog.log\",  sep=' ', names=['fileindex', 'file', 'linenum', 'variable','byte_num', 'corrupted','init_value','to', 'corrupt_value', 'mask', 'byte','expo', 'ss', 'op', 'diffnorm', 'empty'])\n",
    "\n",
    "# Golden Run\n",
    "golden_run = pd.read_csv(\"../static/data/fft/fft_complete/golden.log\",  sep=' ', names=['file', 'linenum', 'variable', 'value'])\n",
    "\n",
    "# Subset of fault injection campaign that used to verify the quality of a dynamic instruction\n",
    "test_experiments = fault_injection_campaign.sample(frac=0.05, replace=False,  random_state=1)"
   ]
  },
  {
   "cell_type": "code",
   "execution_count": 9,
   "metadata": {
    "collapsed": true
   },
   "outputs": [],
   "source": [
    "# The number of fault injection experiments that a single fault injection can predict.\n",
    "def single_prediction(fault_inject_run, golden_run, fault_injections, threshold = 0.001):\n",
    "    \n",
    "    if len(fault_inject_run) < len(golden_run):\n",
    "        print(\"Bad fault injection experiment!\")\n",
    "        return False\n",
    "    \n",
    "    values = np.array(fault_inject_run.value[0:len(golden_run)], dtype=\"float\") - np.array(golden_run.value, dtype=\"float\")\n",
    "        \n",
    "    if np.isnan(values).any() or np.isinf(values).any():\n",
    "        print(\"This experiment outcome is masked, but the propagation process contain nan or infinity event\")\n",
    "    \n",
    "    for index, row in experiments.iterrows():\n",
    "        instruction_index = int(row[\"byte_num\"].split(\"#\")[1])    \n",
    "        boundary = float(row[\"corrupt_value\"]) - float(row[\"init_value\"])\n",
    "        if (boundary[instruction_index] < 0 and inject_error > boundary[instruction_index]) || (boundary[instruction_index] >= 0 and inject_error < boundary[instruction_index]):    \n",
    "            diffnorm = float(experiments.diffnorm[i])\n",
    "            if diffnorm < threshold:\n",
    "                positive_prediction += 1\n",
    "            elif math.isnan(diffnorm) or math.isinf(diffnorm):\n",
    "                crash += 1\n",
    "            else:\n",
    "                negative_prediction += 1\n",
    "                \n",
    "    return {\"crash\":crash/len(experiments), \"positive\": positive_prediction/len(experiments), \"negative\": negative_prediction/len(experiments)}\n",
    "    \n",
    "    #for j in range(len(golden_run)):                \n",
    "    #    if values[j] >= 0 and values[j] > boundary[j][\"max\"]:\n",
    "    #        boundary[j][\"max\"] = values[j]\n",
    "                       \n",
    "    #    if values[j] < 0 and values[j] < boundary[j][\"min\"]:\n",
    "    #        boundary[j][\"min\"] = values[j] \n",
    "    \n",
    "    #return prediction(test_experiments, boundary, 0.001)\n",
    "\n",
    "    \n",
    "    \n",
    "    \n",
    "#def prediction(experiments, boundary, threshold=0.001):\n",
    "#    positive_prediction = 0\n",
    "#    negative_prediction = 0\n",
    "#    crash = 0\n",
    "#    length = len(experiments)\n",
    "    \n",
    "#    for i in experiments.fileindex:\n",
    "#        index = math.floor(i/64)\n",
    "        \n",
    "#        inject_error = float(experiments.corrupt_value[i]) - float(experiments.init_value[i])\n",
    "    \n",
    "#        if(inject_error > boundary[index][\"min\"] and inject_error < boundary[index][\"max\"]):\n",
    "#            if float(experiments.diffnorm[i]) < threshold:\n",
    "#                positive_prediction += 1\n",
    "#            elif math.isnan(float(experiments.diffnorm[i])) or math.isinf(float(experiments.diffnorm[i])):\n",
    "#                crash += 1\n",
    "#            else:\n",
    "#                negative_prediction += 1\n",
    "#    return {\"positive\": positive_prediction/len(experiments), \"negative\": negative_prediction/len(experiments)}"
   ]
  },
  {
   "cell_type": "code",
   "execution_count": 12,
   "metadata": {
    "scrolled": false
   },
   "outputs": [
    {
     "name": "stderr",
     "output_type": "stream",
     "text": [
      "C:\\Users\\zhimin\\Anaconda3\\lib\\site-packages\\IPython\\core\\interactiveshell.py:2698: DtypeWarning: Columns (14) have mixed types. Specify dtype option on import or set low_memory=False.\n",
      "  interactivity=interactivity, compiler=compiler, result=result)\n"
     ]
    },
    {
     "name": "stdout",
     "output_type": "stream",
     "text": [
      "8.94777307802741e-13\n",
      "2.2473203853401458e-12\n",
      "2.247542429945071e-12\n",
      "3.604602727413919e-12\n",
      "4.1816966556140756e-12\n",
      "4.100282613439532e-12\n",
      "4.597058844701962e-12\n",
      "9.447165272291613e-12\n",
      "1.8871078311111233e-11\n",
      "3.769494438810028e-11\n",
      "7.579140093305625e-11\n",
      "1.5130354608094976e-10\n",
      "3.023940958746252e-10\n",
      "6.051000117635041e-10\n",
      "1.2099156468381445e-09\n",
      "2.42007615336437e-09\n",
      "4.839906378450998e-09\n",
      "9.679954289520953e-09\n",
      "1.9359616791614354e-08\n",
      "3.871948586059437e-08\n",
      "7.743929624631773e-08\n",
      "1.5487851135614905e-07\n",
      "3.0975691703988284e-07\n",
      "6.195139527903626e-07\n",
      "1.2390278886845185e-06\n",
      "2.478055385876643e-06\n",
      "4.956111378788541e-06\n",
      "9.91222209512782e-06\n",
      "1.982444451384402e-05\n",
      "3.964888879012807e-05\n",
      "7.929777748042627e-05\n",
      "0.00015859555501199912\n",
      "0.00031719111011246914\n",
      "0.000634382220015911\n",
      "0.0012687644398121228\n",
      "0.0025375288799385567\n",
      "0.005075057759953573\n",
      "0.010150115519727713\n",
      "0.02030023103955913\n",
      "0.0406004620790905\n",
      "0.0812009241581737\n",
      "0.16240184831577958\n",
      "0.32480369663221575\n",
      "0.6496073932642014\n",
      "1.2992147865281385\n",
      "2.5984295730568636\n",
      "5.196859146113649\n",
      "10.393718292227149\n",
      "20.78743658445398\n",
      "41.57487316890791\n",
      "83.14974633781591\n",
      "166.2994926756323\n",
      "328.62068800150143\n",
      "1971.724128008995\n",
      "616.1637900028114\n",
      "654.6740268779868\n",
      "657.23134729548\n",
      "657.2413758499727\n",
      "657.2413760029987\n",
      "657.2413760029987\n",
      "657.2413760029987\n",
      "657.2413760029987\n",
      "1314.4827520059948\n"
     ]
    }
   ],
   "source": [
    "list_indexs = []\n",
    "experiments = pd.read_csv(\"../static/data/fft/fft_injectlog.log\",  sep=' ', names=['fileindex', 'file', 'linenum', 'variable','byte_num', 'corrupted','init_value','to', 'corrupt_value', 'mask', 'byte','expo', 'ss', 'op', 'diffnorm', 'empty'])\n",
    "diffnorm = np.array(experiments.diffnorm, dtype='float')\n",
    "\n",
    "for i in range(64 * 1000, 64 * 1001):\n",
    "    if diffnorm[i] < threshold and diffnorm[i] != 0:\n",
    "        pre_res = single_prediction(i)\n",
    "        if pre_res is False:\n",
    "            continue\n",
    "            \n",
    "        if float(experiments.diffnorm[i]) != 0:\n",
    "            list_indexs.append({\"diffnorm\":math.log10(float(experiments.diffnorm[i])), \"index\":i, \"negative\":pre_res['negative'], 'positive':pre_res['positive']})\n",
    "        else:\n",
    "            list_indexs.append({\"diffnorm\": 0, \"index\":i, \"negative\":pre_res['negative'], 'positive':pre_res['positive']})"
   ]
  },
  {
   "cell_type": "code",
   "execution_count": 17,
   "metadata": {
    "scrolled": false
   },
   "outputs": [
    {
     "data": {
      "text/plain": [
       "[<matplotlib.lines.Line2D at 0x20488ecf8d0>]"
      ]
     },
     "execution_count": 17,
     "metadata": {},
     "output_type": "execute_result"
    },
    {
     "data": {
      "image/png": "[encoded data removed]",
      "text/plain": [
       "<matplotlib.figure.Figure at 0x20488a243c8>"
      ]
     },
     "metadata": {},
     "output_type": "display_data"
    }
   ],
   "source": [
    "import matplotlib.pyplot as plt\n",
    "plt.style.use('seaborn-whitegrid')\n",
    "fig = plt.figure()\n",
    "list_indexs = sorted(list_indexs, key = lambda i: i['diffnorm']) \n",
    "\n",
    "x = []\n",
    "y = []\n",
    "z = []\n",
    "for i in range(len(list_indexs)):\n",
    "    x.append(list_indexs[i]['diffnorm'])\n",
    "    y.append(list_indexs[i]['positive'])\n",
    "    z.append(list_indexs[i]['negative'])\n",
    "\n",
    "plt.plot(x, y, color='green')"
   ]
  },
  {
   "cell_type": "code",
   "execution_count": 18,
   "metadata": {
    "scrolled": true
   },
   "outputs": [
    {
     "data": {
      "text/plain": [
       "[<matplotlib.lines.Line2D at 0x20489091828>]"
      ]
     },
     "execution_count": 18,
     "metadata": {},
     "output_type": "execute_result"
    },
    {
     "data": {
      "image/png": "[encoded data removed]",
      "text/plain": [
       "<matplotlib.figure.Figure at 0x2048cf24eb8>"
      ]
     },
     "metadata": {},
     "output_type": "display_data"
    }
   ],
   "source": [
    "plt.plot(x, z, color='red')"
   ]
  },
  {
   "cell_type": "code",
   "execution_count": 2,
   "metadata": {},
   "outputs": [
    {
     "name": "stdout",
     "output_type": "stream",
     "text": [
      "51904\n"
     ]
    }
   ],
   "source": [
    "golden_run_path = \"../static/data/cg/cg_in8/golden.log\"\n",
    "golden_run = pd.read_csv(golden_run_path,  sep=' ', names=['file', 'linenum', 'variable', 'value'], header=0)\n",
    "golden_run_value = np.array(golden_run.value, dtype='float')\n",
    "cg_fault_injection = pd.read_csv(\"../static/data/cg_in8.csv\")\n",
    "SIZE = len(cg_fault_injection)\n",
    "print(SIZE)"
   ]
  },
  {
   "cell_type": "markdown",
   "metadata": {},
   "source": [
    "# Experiment 1 -- CG\n",
    "Take all the fault injections in the inital condition. Find all the fault injection cases that result into masked. For each masked case, compare error run with the golden run to get a error run curve. Combine all the error run curve to construct a error boundary for masked and SDC."
   ]
  },
  {
   "cell_type": "code",
   "execution_count": null,
   "metadata": {
    "collapsed": true
   },
   "outputs": [],
   "source": [
    "cg_fault_injection_experiment = pd.read_csv('matrix/in10_data/in10/injectlog.log',  sep=' ', names=['file', 'linenum', 'variable','byte_num', 'corrupted','init_value','to', 'corrupt_value', 'mask', 'byte','expo', 'ss', 'op', 'diffnorm', 'empty'])"
   ]
  },
  {
   "cell_type": "markdown",
   "metadata": {},
   "source": [
    "### SDC Ratio over entire program"
   ]
  },
  {
   "cell_type": "code",
   "execution_count": null,
   "metadata": {
    "collapsed": true
   },
   "outputs": [],
   "source": [
    "iters = list(cg_fault_injection.iter)\n",
    "iters.reverse()\n",
    "count  = 0\n",
    "last_zero_iteration_index = SIZE - iters.index(0)\n",
    "dynamic_step_to_record_computation_result = int(last_zero_iteration_index/64)\n",
    "\n",
    "for i in range(last_zero_iteration_index, len(iters)):\n",
    "    if cg_fault_injection.outcome[i] == \"SDC\":\n",
    "        count += 1\n",
    "\n",
    "print(\"SDC ratio over entire program: \", count/len(iters))"
   ]
  },
  {
   "cell_type": "code",
   "execution_count": null,
   "metadata": {
    "collapsed": true
   },
   "outputs": [],
   "source": [
    "#only tracking the maximum value of the masked run after this time step.\n",
    "tracking_length = len(golden_run_value)\n",
    "\n",
    "def construct_boundary(number_of_dynamic_instruction):\n",
    "    boundary = []\n",
    "    ground_truth = {\"Masked\": 0, \"SDC\":0, \"DUE\":0}\n",
    "\n",
    "    for i in range(tracking_length):\n",
    "        boundary.append({'max':0, 'min':0})\n",
    "\n",
    "    for i in range(number_of_dynamic_instruction):\n",
    "        index = int(random.random() * SIZE)\n",
    "        \n",
    "        ground_truth[cg_fault_injection.outcome[index]] += 1\n",
    "        \n",
    "        if cg_fault_injection.outcome[index] == \"Masked\":\n",
    "            masked_run_path = \"cg_simulation/appstate_\"+ str(index)+\".log\" \n",
    "\n",
    "            #Check whether the tracking file is on the path\n",
    "            #TODO: check whether can regenerate the data\n",
    "            if not os.path.isfile(masked_run_path):\n",
    "                continue\n",
    "\n",
    "            masked_run = pd.read_csv(masked_run_path,  sep=\",\", names=['file', 'linenum', 'variable', 'value'], header=0)\n",
    "            masked_run_value = np.array(masked_run.value, dtype='float')\n",
    "            \n",
    "            #This is a werid information in the data.\n",
    "            #TODO: may check why such outcome is shown\n",
    "            if len(masked_run_value) < tracking_length:\n",
    "                print(\"odd!\")\n",
    "                continue\n",
    "            \n",
    "            #array contain NAN, ignore the run\n",
    "            if np.isnan(np.min(masked_run_value)):\n",
    "                continue\n",
    "            \n",
    "            comparision_result = masked_run_value[0:tracking_length] - golden_run_value\n",
    "        else:\n",
    "            continue\n",
    "        \n",
    "        \n",
    "        for j in range(dynamic_step_to_record_computation_result, tracking_length):\n",
    "            if comparision_result[j] > boundary[j]['max'] and comparision_result[j] >= 0:\n",
    "                boundary[j]['max'] = comparision_result[j]\n",
    "\n",
    "            if comparision_result[j] < boundary[j]['min'] and comparision_result[j] < 0:\n",
    "                boundary[j]['min'] = comparision_result[j]\n",
    "                \n",
    "    return [boundary, ground_truth]\n",
    "\n",
    "def predict(boundary):\n",
    "    masked_true_positive = 0\n",
    "    masked_false_positive = 0\n",
    "    sdc_true_positive = 0\n",
    "    sdc_false_positive = 0\n",
    "    result = {}\n",
    "\n",
    "    for i in range(last_zero_iteration_index + 1, SIZE):\n",
    "        index = math.floor(i/64)\n",
    "        if cg_fault_injection.out_xor[i] < boundary[index]['max'] and cg_fault_injection.out_xor[i] > boundary[index]['min']:\n",
    "            if cg_fault_injection.outcome[i] == \"Masked\":\n",
    "                masked_true_positive += 1\n",
    "            else:\n",
    "                masked_false_positive += 1\n",
    "        else:\n",
    "            if cg_fault_injection.outcome[i] == \"SDC\":\n",
    "                sdc_true_positive += 1\n",
    "            else:\n",
    "                sdc_false_positive += 1\n",
    "\n",
    "    result[\"predict masked case\"] =  (masked_true_positive + masked_false_positive)/SIZE\n",
    "    result[\"predict SDC case\"] = (sdc_true_positive + sdc_false_positive)/SIZE\n",
    "    result[\"masked prediction accuracy\"] = masked_true_positive/(masked_true_positive + masked_false_positive)\n",
    "    result[\"SDC prediction accuracy\"] = sdc_true_positive/(sdc_true_positive + sdc_false_positive)\n",
    "    \n",
    "    return result"
   ]
  },
  {
   "cell_type": "markdown",
   "metadata": {},
   "source": [
    "## Can we think this as a lable propagation problem?"
   ]
  },
  {
   "cell_type": "code",
   "execution_count": null,
   "metadata": {
    "collapsed": true
   },
   "outputs": [],
   "source": [
    "experiments = []\n",
    "\n",
    "ground_truth = []\n",
    "\n",
    "for i in range(10):\n",
    "    print(i)\n",
    "    boundary = construct_boundary(2000)    \n",
    "    experiments.append(predict(boundary[0]))\n",
    "    ground_truth.append(boundary[1])\n",
    "\n",
    "    \n",
    "uniform_test = []\n",
    "intuition = []\n",
    "\n",
    "for i in range(10):\n",
    "    intuition.append(experiments[i]['predict SDC case'])\n",
    "    uniform_test.append(ground_truth[i]['SDC']/2000)\n",
    "\n",
    "print(np.mean(intuition))\n",
    "print(intuition)\n",
    "print(np.mean(uniform_test))"
   ]
  },
  {
   "cell_type": "markdown",
   "metadata": {
    "collapsed": true
   },
   "source": [
    "# Experiment 2 -- FFT"
   ]
  },
  {
   "cell_type": "code",
   "execution_count": 2,
   "metadata": {
    "collapsed": true,
    "scrolled": true
   },
   "outputs": [],
   "source": [
    "path = \"../static/data/cg/cg_in8/\"\n",
    "golden_run_path = path+\"golden.log\"\n",
    "golden_run = pd.read_csv(golden_run_path,  sep=' ', names=['file', 'linenum', 'variable', 'value'])\n",
    "golden_run_value = np.array(golden_run.value, dtype='float')\n",
    "fault_injection_experiment = pd.read_csv(path+'injectlog.log',  sep=' ', names=['file', 'linenum', 'variable','byte_num', 'corrupted','init_value','to', 'corrupt_value', 'mask', 'byte','expo', 'ss', 'op', 'diffnorm', 'empty'])\n",
    "SIZE = len(fault_injection_experiment)\n",
    "threshold = 0.001"
   ]
  },
  {
   "cell_type": "code",
   "execution_count": 3,
   "metadata": {
    "collapsed": true
   },
   "outputs": [],
   "source": [
    "def load_data(path):\n",
    "    \n",
    "    golden_run_path = path + \"golden.log\"\n",
    "    golden_run = pd.read_csv(golden_run_path,  sep=' ', names=['file', 'linenum', 'variable', 'value'])\n",
    "    golden_run_value = np.array(golden_run.value, dtype='float')\n",
    "    fault_injection_experiment = pd.read_csv(path+\"injectlog.log\",  sep=' ', names=['file', 'linenum', 'variable','byte_num', 'corrupted','init_value','to', 'corrupt_value', 'mask', 'byte','expo', 'ss', 'op', 'diffnorm', 'empty'])\n",
    "    \n",
    "    return [golden_run,fault_injection_experiment]\n",
    "\n",
    "def SDC_ratio(experiments): \n",
    "    sdc_count = 0\n",
    "    for i in range(0, len(experiments)):\n",
    "        if float(experiments.diffnorm[i]) > threshold:\n",
    "            sdc_count += 1\n",
    "    \n",
    "    return sdc_count / len(experiments)\n",
    "\n",
    "def getBoundary(golden_run, percent, experiments, path):\n",
    "    boundary = []\n",
    "    nums = int(len(experiments) * percent)\n",
    "    \n",
    "    print(nums)\n",
    "\n",
    "    for i in range(len(golden_run)):\n",
    "        boundary.append({\"min\": 0, \"max\":0})\n",
    "\n",
    "    for i in range(nums):\n",
    "        \n",
    "        diffnorm = float(experiments.diffnorm[i])\n",
    "        if diffnorm > threshold or math.isnan(diffnorm) or math.isinf(diffnorm):\n",
    "            continue\n",
    "        \n",
    "        index = int(random.random() * len(experiments))\n",
    "\n",
    "        file_path = path+\"appstate_\"+str(index)+\".log\"\n",
    "    \n",
    "        fault_inject_run = pd.read_csv(file_path,  sep=' ', names=[\"file\", \"linenum\", \"variable\", \"value\"])\n",
    "    \n",
    "        if len(fault_inject_run) < len(golden_run):\n",
    "            print(\"weird!\")\n",
    "            continue\n",
    "    \n",
    "        values = np.array(fault_inject_run.value[0:len(golden_run)], dtype=\"float\") - np.array(golden_run.value, dtype=\"float\")\n",
    "    \n",
    "        for j in range(len(golden_run)):              \n",
    "            \n",
    "            if values[j] >= 0 and values[j] > boundary[j][\"max\"]:\n",
    "                boundary[j][\"max\"] = values[j]\n",
    "                       \n",
    "            if values[j] < 0 and values[j] < boundary[j][\"min\"]:\n",
    "                boundary[j][\"min\"] = values[j] \n",
    "    \n",
    "    return boundary\n",
    "\n",
    "def prediction(experiments, boundary, threshold=0.001):\n",
    "    positive_prediction = 0\n",
    "    negative_prediction = 0\n",
    "    crash = 0\n",
    "    length = len(experiments)\n",
    "    \n",
    "    for i in experiments.fileindex:\n",
    "        index = math.floor(i/64)\n",
    "        \n",
    "        #print(i)\n",
    "        \n",
    "        inject_error = float(experiments.corrupt_value[i]) - float(experiments.init_value[i])\n",
    "    \n",
    "        if(inject_error > boundary[index][\"min\"] and inject_error < boundary[index][\"max\"]):\n",
    "            if float(experiments.diffnorm[i]) < threshold:\n",
    "                positive_prediction += 1\n",
    "            elif math.isnan(float(experiments.diffnorm[i])) or math.isinf(float(experiments.diffnorm[i])):\n",
    "                crash += 1\n",
    "            else:\n",
    "                negative_prediction += 1\n",
    "    return {\"positive\": positive_prediction/len(experiments), \"negative\": negative_prediction/len(experiments), \"Crash\": crash/len(experiments)}"
   ]
  },
  {
   "cell_type": "markdown",
   "metadata": {},
   "source": [
    "# Predict Result of 20 x 20 Matrix"
   ]
  },
  {
   "cell_type": "code",
   "execution_count": 4,
   "metadata": {
    "collapsed": true,
    "scrolled": true
   },
   "outputs": [],
   "source": [
    "#golden_run, experiments = load_data(path)\n",
    "#boundary = getBoundary(golden_run, 0.0001, experiments, path)\n",
    "#experiments = pd.read_csv(\"../static/data/cg/cg_in8/injectlog.log\",  sep=' ', names=['file', 'linenum', 'variable','byte_num', 'corrupted','init_value','to', 'corrupt_value', 'mask', 'byte','expo', 'ss', 'op', 'diffnorm', 'empty'])\n",
    "#print(len(experiments))"
   ]
  },
  {
   "cell_type": "markdown",
   "metadata": {},
   "source": [
    "# Using 6400 fault injections run in FFT to test the masked case. "
   ]
  },
  {
   "cell_type": "code",
   "execution_count": null,
   "metadata": {
    "collapsed": true
   },
   "outputs": [],
   "source": [
    "boundary = []\n",
    "\n",
    "for i in range(len(golden_run)):\n",
    "    boundary.append({\"min\": 0, \"max\":0})\n",
    "\n",
    "for i in range(8400):\n",
    "    \n",
    "    if fault_injection_experiment.diffnorm[i] > 0.07:\n",
    "        continue\n",
    "    \n",
    "    index = int(random.random() * len(fault_injection_experiment))\n",
    "\n",
    "    file_path = \"matrix/in27_data/in27/appstate_\"+str(index)+\".log\"\n",
    "    \n",
    "    fault_inject_run = pd.read_csv(file_path,  sep=' ', names=[\"file\", \"linenum\", \"variable\", \"value\"])\n",
    "    \n",
    "    if len(fault_inject_run) < len(golden_run):\n",
    "        print(\"weird!\")\n",
    "        continue\n",
    "    \n",
    "    values = np.array(fault_inject_run.value[0:len(golden_run)], dtype=\"float\") - np.array(golden_run.value, dtype=\"float\")\n",
    "    \n",
    "    for j in range(len(golden_run)):\n",
    "        if values[j] >= 0 and values[j] > boundary[j][\"max\"]:\n",
    "            boundary[j][\"max\"] = values[j]\n",
    "                       \n",
    "        if values[j] < 0 and values[j] < boundary[j][\"min\"]:\n",
    "            boundary[j][\"min\"] = values[j] "
   ]
  },
  {
   "cell_type": "code",
   "execution_count": null,
   "metadata": {
    "collapsed": true
   },
   "outputs": [],
   "source": [
    "positive_prediction = 0\n",
    "negative_prediction = 0\n",
    "for i in range(len(fault_injection_experiment.diffnorm)):\n",
    "    \n",
    "    index = math.floor(i/64)\n",
    "    \n",
    "    #if i%64 <= 52:\n",
    "    #    continue\n",
    "    \n",
    "    inject_error = float(fault_injection_experiment.corrupt_value[i]) - float(fault_injection_experiment.init_value[i])\n",
    "    \n",
    "    if(inject_error > boundary[index][\"min\"] and inject_error < boundary[index][\"max\"]):\n",
    "        if fault_injection_experiment.diffnorm[i] < 0.07:\n",
    "            positive_prediction += 1\n",
    "        else:\n",
    "            negative_prediction += 1"
   ]
  },
  {
   "cell_type": "code",
   "execution_count": null,
   "metadata": {
    "collapsed": true
   },
   "outputs": [],
   "source": []
  },
  {
   "cell_type": "code",
   "execution_count": null,
   "metadata": {
    "collapsed": true
   },
   "outputs": [],
   "source": []
  },
  {
   "cell_type": "code",
   "execution_count": null,
   "metadata": {
    "collapsed": true
   },
   "outputs": [],
   "source": []
  },
  {
   "cell_type": "code",
   "execution_count": null,
   "metadata": {
    "collapsed": true
   },
   "outputs": [],
   "source": [
    "#relative error and absolute error\n",
    "#for i in range(len(golden_run_value)):\n",
    "#   if golden_run_value[i] != 0:\n",
    "#        absolute = abs(golden_run_value[i] -  masked_run_value[i])\n",
    "\n",
    "false_positive = 0\n",
    "true_positive = 0\n",
    "unsure = 0\n",
    "total = (811 - 160) * 64\n",
    "for i in range(160, 811):\n",
    "    diff = abs(golden_run_value[i] -  masked_run_value[i]) \n",
    "    for b in range(64):\n",
    "        if diff > abs(cg_fault_injection.out_xor[i * 64 + b]) and cg_fault_injection.outcome[i * 64 + b] != \"Masked\":\n",
    "            #print(cg_fault_injection.diffnormr[i * 64 + b], cg_fault_injection.Variable[i * 64 + b], (diff - abs(cg_fault_injection.out_xor[i * 64 + b])))\n",
    "            false_positive += 1\n",
    "            print(i * 64 + b)\n",
    "        elif diff > abs(cg_fault_injection.out_xor[i * 64 + b]) and cg_fault_injection.outcome[i * 64 + b] == \"Masked\":\n",
    "            true_positive += 1\n",
    "        else:\n",
    "            unsure += 1\n",
    "    \n",
    "    #sdc_diff = abs(golden_run_value[i] -  sdc_run_value[i])\n",
    "    #for b in range(64):\n",
    "    #    if sdc_diff < abs(cg_fault_injection.out_xor[i * 64 + b]) and cg_fault_injection.outcome[i * 64 + b] != \"SDC\":\n",
    "    #        false_positive += 1\n",
    "    #    elif sdc_diff < abs(cg_fault_injection.out_xor[i * 64 + b]) and cg_fault_injection.outcome[i * 64 + b] == \"SDC\":\n",
    "    #        true_positive += 1\n",
    "    #    else:\n",
    "    #        unsure +=1\n",
    "            \n",
    "print(false_positive/total)\n",
    "print(true_positive/total)\n",
    "print(unsure/total)\n",
    "    \n",
    "#print(i, cg_fault_injection.Variable[i], cg_fault_injection.out_xor[i], cg_fault_injection.outcome[i])\n",
    "#for i in range(243*64,244*64):\n",
    "#    print(i,cg_fault_injection.Variable[i], cg_fault_injection.out_xor[i], cg_fault_injection.outcome[i])\n",
    "#print(golden_run_value[243])\n",
    "#print(len(cg_fault_injection))\n",
    "#golden_run_value-error_run_value[0:811]"
   ]
  },
  {
   "cell_type": "code",
   "execution_count": null,
   "metadata": {
    "collapsed": true
   },
   "outputs": [],
   "source": [
    "number_of_instructions = {}\n",
    "\n",
    "propagation_path = []\n",
    "\n",
    "for index in range(100):\n",
    "    if index in[15731, 16246, 17523]:\n",
    "        continue\n",
    "    \n",
    "    file_path = \"cg_simulation/appstate_\"+str(index)+\".log\"\n",
    "    error_run = pd.read_csv(file_path,  sep=' ')\n",
    "    \n",
    "    \n",
    "    #For different fault injection case, what is the number of different execution dynamic instructions\n",
    "    if len(error_run) in number_of_instructions:\n",
    "        number_of_instructions[len(error_run)] += 1\n",
    "    else:\n",
    "        number_of_instructions[len(error_run)] = 1\n",
    "        \n",
    "    #\n",
    "    index = min(len(golden_run), len(error_run))\n",
    "    #result = np.array(golden_run.value, dtype=float)[:index] - np.array(error_run.value, dtype=float)[:index]\n",
    "    #propagation_elements = golden_run.line[np.where(result != 0)[0]]\n",
    "    \n",
    "    #path = \"=>\"\n",
    "    #number_of_propagation_element = 5\n",
    "    #for e in propagation_elements:\n",
    "    #    if str(e) not in path:\n",
    "    #        path += str(e)\n",
    "    #        path += \"=>\"\n",
    "    #        number_of_propagation_element -= 1\n",
    "        \n",
    "    #    if number_of_propagation_element == 0:\n",
    "    #        break\n",
    "    #if path not in propagation_path:\n",
    "    #    propagation_path.append(path)"
   ]
  },
  {
   "cell_type": "markdown",
   "metadata": {},
   "source": [
    "## What is the probability of the different number of storing dynamic instructions.\n",
    "## What is the probability of SDC.\n",
    "\n",
    "It's expected that if the program ends early, then there an unexpected crash during the program execution in the earlier stage. At the same time, if the program has more execution than it expected. It will have high chance causes silent data corruption."
   ]
  },
  {
   "cell_type": "code",
   "execution_count": null,
   "metadata": {
    "collapsed": true
   },
   "outputs": [],
   "source": [
    "cg_outcome = cg_fault_injection['outcome'].value_counts()\n",
    "\n",
    "print(cg_outcome)\n",
    "print(sum(cg_outcome))\n",
    "#propagation_path"
   ]
  },
  {
   "cell_type": "code",
   "execution_count": null,
   "metadata": {
    "collapsed": true
   },
   "outputs": [],
   "source": [
    "number_of_instructions"
   ]
  },
  {
   "cell_type": "markdown",
   "metadata": {
    "collapsed": true
   },
   "source": [
    "# If you want to rewrite your code.\n",
    "\n",
    "4. interactive fault injection campaign.\n",
    "\n",
    "### 1. A sensitive analysis across the whole program with a mapping framework.\n",
    "A desity scatter plot to understand the input and output sensitivity of the program. User can selective choose the high sensitive data and mapping back to the original visualization.\n",
    "    \n",
    "    a. how many clusters in the plot.\n",
    "    \n",
    "    b. Where is each of them comes from. \n",
    "    \n",
    "    c. The sample that comes from the fault injection in same location.\n",
    "\n",
    "#### 2. Explore function level resiliency of the program. What's the difference compare to the source code level?\n",
    "\n",
    "    a.Explore the resiliency of different program component. Aggregate the data in variable level\n",
    "\n",
    "\n",
    "#### 3. How to measure the impact of one variable/function over the other?\n",
    " \n"
   ]
  },
  {
   "cell_type": "markdown",
   "metadata": {
    "collapsed": true
   },
   "source": [
    "# The number of times a function is called."
   ]
  },
  {
   "cell_type": "code",
   "execution_count": null,
   "metadata": {
    "collapsed": true
   },
   "outputs": [],
   "source": [
    "counter = {}\n",
    "\n",
    "line_to_func = {167:'readA', 175:'readB', 33:'waxpby', 25:'matvec', 48:'dot_r2', 75:'solve_cg', 76:'solve_cg',87:'solve_cg',57:'dot', 90:'solve_cg',91:'solve_cg',40:\"daxpby\", 82:'daxpby',83:'daxpby',84:'daxpby'}\n",
    "\n",
    "for index, row in golden_run.iterrows():\n",
    "    key = line_to_func[row['line']]\n",
    "    if key not in counter:\n",
    "        counter[key] = 1\n",
    "    else:\n",
    "        counter[key] += 1"
   ]
  },
  {
   "cell_type": "code",
   "execution_count": null,
   "metadata": {
    "collapsed": true
   },
   "outputs": [],
   "source": [
    "number_of_instruction = sum(list(counter.values()))\n",
    "for item in counter.items():\n",
    "    print(item[0], item[1]/number_of_instruction * 100)"
   ]
  },
  {
   "cell_type": "markdown",
   "metadata": {
    "collapsed": true
   },
   "source": [
    "# Error Propagation Analysis in one program component."
   ]
  },
  {
   "cell_type": "code",
   "execution_count": null,
   "metadata": {
    "collapsed": true
   },
   "outputs": [],
   "source": [
    "golden_run_path = \"cg_simulation/golden.log\"\n",
    "golden_run = pd.read_csv(golden_run_path,  sep=' ', names=['file', 'linenum', 'variable', 'value'])\n",
    "golden_run_value = np.array(golden_run.value)\n",
    "##### this is a very interesting but werid case\n",
    "##### There is a NAN occur during the computation, but the  error is masked at the end.\n",
    "#index_range = [17341, 24381]\n",
    "\n",
    "##### cg p_ap_dot first interation 64 experiment\n",
    "#index_range = [15552, 15603]\n",
    "\n",
    "#file_path = \"cg_simulation1/appstate_\"+str(17341)+\".log\"\n",
    "#error_run = pd.read_csv(file_path,  sep=' ')\n",
    "\n",
    "#for i in range(len(error_run.value)):\n",
    "#    print(error_run.line[i], error_run.variable[i], error_run.value[i])\n",
    "#print(len(error_run.value))\n",
    "\n",
    "#print(error_run)\n",
    "#data_set = {}\n",
    "\n",
    "\n",
    "#golden_run_value = np.array(golden_run.value[0:800], dtype='float')\n",
    "\n",
    "#for index in range(index_range[0], index_range[1]+1):\n",
    "#    file_path = \"cg_simulation/appstate_\"+str(index)+\".log\"\n",
    "#    error_run = pd.read_csv(file_path,  sep=' ', names=['file', 'linenum', 'variable', 'value'])\n",
    "\n",
    "#    data_set[index] = golden_run_value - np.array(error_run.value[0:800], dtype='float')\n",
    "\n",
    "\n",
    "##### a specific case line 75 case 10290\n",
    "##### a specific case line 75 case 10296\n",
    "indexs =  [10290, 10274]# 10288] #10297]# 10296, 10289]\n",
    "\n",
    "delta_x = [65536, 1.0]# 1321922331132047.5]#, -307779.3308780107]\n",
    "x_data = range(0, 811, 1)\n",
    "\n",
    "for index,item in enumerate(indexs): \n",
    "    file_path = \"cg_simulation/appstate_\"+str(item)+\".log\"\n",
    "    error_run = pd.read_csv(file_path,  sep=' ', names=['file', 'linenum', 'variable', 'value'])\n",
    "    error_run_value = np.array(error_run.value)\n",
    "\n",
    "    sensitivity_val = (error_run_value[0:811] - golden_run_value[0:811])/delta_x[index]\n",
    "    sns.lineplot(x=x_data, y=sensitivity_val, sort=False, lw=1)\n",
    "    \n",
    "print(sensitivity_val.argmax())"
   ]
  },
  {
   "cell_type": "code",
   "execution_count": null,
   "metadata": {
    "collapsed": true
   },
   "outputs": [],
   "source": [
    "#for index in range(index_range[0], index_range[1]+1):\n",
    "#    print(len(data_set[index].values))\n",
    "#data_set[index] = golden_run.values - error_run.values   \n",
    "\n",
    "\n",
    "x_data = range(0,811,1)\n",
    "sns.lineplot(x=x_data, y=sensitivity_val, sort=False, lw=1)\n",
    "\n",
    "#for index in range(index_range[0], index_range[0]+20): \n",
    "#    sns.lineplot(x=x_data, y=data_set[index], sort=False, lw=1)"
   ]
  },
  {
   "cell_type": "markdown",
   "metadata": {
    "collapsed": true
   },
   "source": [
    "## What role the truncation error is playing in the propagation analysis\n",
    "## What's the threshold of different program components.\n",
    "## How much error is masked by the truncate error and How much error is masked by the model feature"
   ]
  }
 ],
 "metadata": {
  "kernelspec": {
   "display_name": "Python 3",
   "language": "python",
   "name": "python3"
  },
  "language_info": {
   "codemirror_mode": {
    "name": "ipython",
    "version": 3
   },
   "file_extension": ".py",
   "mimetype": "text/x-python",
   "name": "python",
   "nbconvert_exporter": "python",
   "pygments_lexer": "ipython3",
   "version": "3.6.2"
  }
 },
 "nbformat": 4,
 "nbformat_minor": 2
}
