{
 "cells": [
  {
   "cell_type": "code",
   "execution_count": 5,
   "metadata": {
    "collapsed": true
   },
   "outputs": [],
   "source": [
    "import numpy as np\n",
    "import seaborn as sns\n",
    "import pandas as pd\n",
    "import os.path\n",
    "import matplotlib.pyplot as plt\n",
    "import sys"
   ]
  },
  {
   "cell_type": "code",
   "execution_count": 17,
   "metadata": {
    "collapsed": true
   },
   "outputs": [],
   "source": [
    "# Dataset\n",
    "dataset = \"fft\" # current available dataset fft, lu, cg"
   ]
  },
  {
   "cell_type": "code",
   "execution_count": 18,
   "metadata": {
    "collapsed": true
   },
   "outputs": [],
   "source": [
    "path = \"\"\n",
    "# Threshold that used to decide whether the final outcome is SDC or Masked.\n",
    "threshold = 0.01\n",
    "\n",
    "if dataset == \"fft\":\n",
    "    path = \"../static/data/fft_complete.csv\"\n",
    "    threshold = 0.001\n",
    "elif dataset == \"cg\":\n",
    "    path = \"../static/data/cg_in8.csv\"\n",
    "    threshold = 0.07\n",
    "elif dataset == \"lu\":\n",
    "    path = \"../static/data/lu_complete.csv\"\n",
    "    threshold = 0.0001"
   ]
  },
  {
   "cell_type": "code",
   "execution_count": 19,
   "metadata": {
    "scrolled": true
   },
   "outputs": [],
   "source": [
    "fault_injection_campaign = pd.read_csv(path)"
   ]
  },
  {
   "cell_type": "markdown",
   "metadata": {},
   "source": [
    "# The number of locations which are not monotonic"
   ]
  },
  {
   "cell_type": "code",
   "execution_count": 20,
   "metadata": {},
   "outputs": [
    {
     "data": {
      "text/plain": [
       "0.011334378976650588"
      ]
     },
     "execution_count": 20,
     "metadata": {},
     "output_type": "execute_result"
    }
   ],
   "source": [
    "count = 0\n",
    "masked = []\n",
    "sdc = []\n",
    "    \n",
    "for index, row in fault_injection_campaign.iterrows():\n",
    "    \n",
    "    if index%64 == 0 and index != 0:\n",
    "        if len(masked) != 0 and len(sdc) != 0:\n",
    "            masked.sort()\n",
    "            if max(masked[:-1]) > min(sdc):\n",
    "                count += 1\n",
    "                #print(row.DI)\n",
    "                #print(max(masked[:-1]), min(sdc), max(masked))\n",
    "            masked = []\n",
    "            sdc = []\n",
    "        \n",
    "    if row.outcome == \"Masked\":\n",
    "        masked.append(abs(row.out_xor))\n",
    "    elif row.outcome == \"SDC\":\n",
    "        sdc.append(abs(row.out_xor))\n",
    "\n",
    "count/(len(fault_injection_campaign)/64)"
   ]
  },
  {
   "cell_type": "code",
   "execution_count": 21,
   "metadata": {},
   "outputs": [],
   "source": [
    "#for i in range(8000*64, 8001*64):\n",
    "#    print(abs(fault_injection_campaign.out_xor[i]), fault_injection_campaign.outcome[i])"
   ]
  },
  {
   "cell_type": "code",
   "execution_count": null,
   "metadata": {
    "collapsed": true
   },
   "outputs": [],
   "source": []
  }
 ],
 "metadata": {
  "kernelspec": {
   "display_name": "Python 3",
   "language": "python",
   "name": "python3"
  },
  "language_info": {
   "codemirror_mode": {
    "name": "ipython",
    "version": 3
   },
   "file_extension": ".py",
   "mimetype": "text/x-python",
   "name": "python",
   "nbconvert_exporter": "python",
   "pygments_lexer": "ipython3",
   "version": "3.6.2"
  }
 },
 "nbformat": 4,
 "nbformat_minor": 2
}
