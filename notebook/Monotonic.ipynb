{
 "cells": [
  {
   "cell_type": "code",
   "execution_count": 1,
   "metadata": {
    "collapsed": true
   },
   "outputs": [],
   "source": [
    "import numpy as np\n",
    "import seaborn as sns\n",
    "import pandas as pd\n",
    "import os.path\n",
    "import matplotlib.pyplot as plt\n",
    "import sys"
   ]
  },
  {
   "cell_type": "code",
   "execution_count": 15,
   "metadata": {
    "collapsed": true
   },
   "outputs": [],
   "source": [
    "# Dataset\n",
    "dataset = \"lu\" # current available dataset fft, lu, cg"
   ]
  },
  {
   "cell_type": "code",
   "execution_count": 16,
   "metadata": {
    "collapsed": true
   },
   "outputs": [],
   "source": [
    "path = \"\"\n",
    "# Threshold that used to decide whether the final outcome is SDC or Masked.\n",
    "threshold = 0.01\n",
    "\n",
    "if dataset == \"fft\":\n",
    "    path = \"../static/data/fft_complete.csv\"\n",
    "    threshold = 0.001\n",
    "elif dataset == \"cg\":\n",
    "    path = \"../static/data/cg_in8.csv\"\n",
    "    threshold = 0.07\n",
    "elif dataset == \"lu\":\n",
    "    path = \"../static/data/lu_complete.csv\"\n",
    "    threshold = 0.0001"
   ]
  },
  {
   "cell_type": "code",
   "execution_count": 17,
   "metadata": {
    "scrolled": true
   },
   "outputs": [
    {
     "name": "stderr",
     "output_type": "stream",
     "text": [
      "C:\\Users\\zhimin\\Anaconda3\\lib\\site-packages\\IPython\\core\\interactiveshell.py:2698: DtypeWarning: Columns (5) have mixed types. Specify dtype option on import or set low_memory=False.\n",
      "  interactivity=interactivity, compiler=compiler, result=result)\n"
     ]
    }
   ],
   "source": [
    "fault_injection_campaign = pd.read_csv(path)"
   ]
  },
  {
   "cell_type": "markdown",
   "metadata": {},
   "source": [
    "# The number of locations which are not monotonic"
   ]
  },
  {
   "cell_type": "code",
   "execution_count": 27,
   "metadata": {},
   "outputs": [
    {
     "name": "stdout",
     "output_type": "stream",
     "text": [
      "2049\n",
      "5.729117499171191e+161 7.62939453125e-06 5.740243555201376e+161\n",
      "3529\n",
      "2.677017936469307e+77 7.62939453125e-06 3.099774997895501e+154\n",
      "3580\n",
      "2.467071630853004e+77 7.62939453125e-06 2.856673784345823e+154\n",
      "3767\n",
      "2.5688861803729915e+77 7.62939453125e-06 2.974566978382578e+154\n",
      "7971\n",
      "3.8973261319873915e+306 1.52587890625e-05 4.1214607726134977e+306\n",
      "7973\n",
      "4.1214607726134977e+306 1.52587890625e-05 9.434865086147976e+306\n",
      "7975\n",
      "9.434865086147976e+306 1.52587890625e-05 4.511830740855264e+307\n",
      "7977\n",
      "2.1464198146408322e+307 1.52587890625e-05 4.511830740855264e+307\n",
      "7979\n",
      "9.308834167522517e+306 1.52587890625e-05 2.1464198146408322e+307\n",
      "7981\n",
      "9.308834167522517e+306 1.52587890625e-05 1.9269132349320457e+307\n",
      "7983\n",
      "1.9269132349320457e+307 1.52587890625e-05 2.5841284430661305e+307\n",
      "7985\n",
      "1.6176408958975753e+307 1.52587890625e-05 2.5841284430661305e+307\n",
      "7987\n",
      "7.8884797252849e+306 1.52587890625e-05 1.6176408958975753e+307\n",
      "7989\n",
      "7.8884797252849e+306 1.52587890625e-05 8.004679738312059e+306\n",
      "7991\n",
      "8.004679738312059e+306 1.52587890625e-05 1.308354731293057e+307\n",
      "7993\n",
      "1.308354731293057e+307 1.52587890625e-05 4.3552010030864447e+307\n",
      "7995\n",
      "1.8285345097770234e+307 1.52587890625e-05 4.3552010030864447e+307\n",
      "7997\n",
      "9.014074381796923e+306 1.52587890625e-05 1.8285345097770234e+307\n",
      "7999\n",
      "4.969446402247483e+306 1.52587890625e-05 9.014074381796923e+306\n",
      "8001\n",
      "4.969446402247483e+306 7.62939453125e-06 1.544692234066247e+308\n"
     ]
    },
    {
     "data": {
      "text/plain": [
       "0.0014460270407056612"
      ]
     },
     "execution_count": 27,
     "metadata": {},
     "output_type": "execute_result"
    }
   ],
   "source": [
    "count = 0\n",
    "masked = []\n",
    "sdc = []\n",
    "    \n",
    "for index, row in fault_injection_campaign.iterrows():\n",
    "    \n",
    "    if index%64 == 0 and index != 0:\n",
    "        if len(masked) != 0 and len(sdc) != 0:\n",
    "            masked.sort()\n",
    "            if max(masked[:-1]) > min(sdc):\n",
    "                count += 1\n",
    "                print(row.DI)\n",
    "                print(max(masked[:-1]), min(sdc), max(masked))\n",
    "            masked = []\n",
    "            sdc = []\n",
    "        \n",
    "    if row.outcome == \"Masked\":\n",
    "        masked.append(abs(row.out_xor))\n",
    "    elif row.outcome == \"SDC\":\n",
    "        sdc.append(abs(row.out_xor))\n",
    "\n",
    "count/(len(fault_injection_campaign)/64)"
   ]
  },
  {
   "cell_type": "code",
   "execution_count": 29,
   "metadata": {},
   "outputs": [
    {
     "name": "stdout",
     "output_type": "stream",
     "text": [
      "1.1102230246251563e-16 Masked\n",
      "2.220446049250313e-16 Masked\n",
      "4.440892098500626e-16 Masked\n",
      "8.881784197001252e-16 Masked\n",
      "1.7763568394002505e-15 Masked\n",
      "3.552713678800501e-15 Masked\n",
      "7.105427357601002e-15 Masked\n",
      "1.4210854715202004e-14 Masked\n",
      "2.8421709430404014e-14 Masked\n",
      "5.684341886080803e-14 Masked\n",
      "1.1368683772161605e-13 Masked\n",
      "2.273736754432321e-13 Masked\n",
      "4.547473508864641e-13 Masked\n",
      "9.094947017729282e-13 Masked\n",
      "1.8189894035458565e-12 Masked\n",
      "3.637978807091713e-12 Masked\n",
      "7.275957614183426e-12 Masked\n",
      "1.4551915228366852e-11 Masked\n",
      "2.9103830456733704e-11 Masked\n",
      "5.820766091346741e-11 Masked\n",
      "1.1641532182693479e-10 Masked\n",
      "2.3283064365386963e-10 Masked\n",
      "4.656612873077394e-10 Masked\n",
      "9.313225746154783e-10 Masked\n",
      "1.862645149230957e-09 Masked\n",
      "3.725290298461914e-09 Masked\n",
      "7.450580596923828e-09 Masked\n",
      "1.4901161193847656e-08 Masked\n",
      "2.9802322387695312e-08 Masked\n",
      "5.960464477539063e-08 Masked\n",
      "1.1920928955078125e-07 Masked\n",
      "2.384185791015625e-07 Masked\n",
      "4.76837158203125e-07 Masked\n",
      "9.5367431640625e-07 Masked\n",
      "1.9073486328125e-06 Masked\n",
      "3.814697265625e-06 Masked\n",
      "7.62939453125e-06 SDC\n",
      "1.52587890625e-05 SDC\n",
      "3.0517578125e-05 SDC\n",
      "6.103515625e-05 SDC\n",
      "0.0001220703125 SDC\n",
      "0.000244140625 SDC\n",
      "0.00048828125 SDC\n",
      "0.0009765625 SDC\n",
      "0.001953125 SDC\n",
      "0.00390625 SDC\n",
      "0.0078125 SDC\n",
      "0.015625 SDC\n",
      "0.03125 SDC\n",
      "0.0625 SDC\n",
      "0.125 SDC\n",
      "0.25 SDC\n",
      "0.8592635773649727 SDC\n",
      "0.6444476830237296 SDC\n",
      "0.805559603779662 SDC\n",
      "0.8559070790158908 SDC\n",
      "0.8592504660432966 SDC\n",
      "0.8592635771649099 SDC\n",
      "0.8592635773649727 SDC\n",
      "0.8592635773649727 SDC\n",
      "0.8592635773649727 SDC\n",
      "0.8592635773649727 SDC\n",
      "1.544692234066247e+308 Masked\n",
      "1.7185271547299454 SDC\n",
      "1.1641532182693479e-10 Masked\n"
     ]
    }
   ],
   "source": [
    "for i in range(8000*64, 8001*64):\n",
    "    print(abs(fault_injection_campaign.out_xor[i]), fault_injection_campaign.outcome[i])"
   ]
  },
  {
   "cell_type": "code",
   "execution_count": null,
   "metadata": {
    "collapsed": true
   },
   "outputs": [],
   "source": []
  }
 ],
 "metadata": {
  "kernelspec": {
   "display_name": "Python 3",
   "language": "python",
   "name": "python3"
  },
  "language_info": {
   "codemirror_mode": {
    "name": "ipython",
    "version": 3
   },
   "file_extension": ".py",
   "mimetype": "text/x-python",
   "name": "python",
   "nbconvert_exporter": "python",
   "pygments_lexer": "ipython3",
   "version": "3.6.2"
  }
 },
 "nbformat": 4,
 "nbformat_minor": 2
}
